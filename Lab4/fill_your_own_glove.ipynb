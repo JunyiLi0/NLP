{
 "cells": [
  {
   "cell_type": "markdown",
   "id": "8e1992ac-b345-4bbd-a621-538b6a982f58",
   "metadata": {},
   "source": [
    "# Using GloVe for text classification\n",
    "\n",
    "In this pre-filled notebook, we use GloVe embeddings to train a classifier for sentiment analysis. For every review in the IMDB dataset we:\n",
    "1. Tokenize the review into tokens.\n",
    "2. Get the pre-trained GloVe vector for every token in the review (if they are in the voabulary of GloVe).\n",
    "3. Average the vectors over the full review.\n",
    "4. Send the vector through a logistic regression.\n",
    "\n",
    "This time, we will batch the inputs instead of updating the weights once per epoch.\n",
    "\n",
    "Before starting, to make your experiments reproducible, make sure to [force the random seed](https://pytorch.org/docs/stable/notes/randomness.html)."
   ]
  },
  {
   "cell_type": "code",
   "execution_count": 1,
   "id": "f7e402d1-f6f5-4ee5-8cde-813c2a2b4ee1",
   "metadata": {},
   "outputs": [],
   "source": [
    "from copy import deepcopy\n",
    "from functools import partial\n",
    "from typing import Callable, Dict, Generator, List, Tuple\n",
    "\n",
    "from datasets import load_dataset\n",
    "import matplotlib.pyplot as plt\n",
    "import numpy as np\n",
    "import pandas as pd\n",
    "from sklearn.utils import shuffle\n",
    "import torch\n",
    "from torch import nn\n",
    "from torchtext import vocab\n",
    "from torchtext.vocab import GloVe\n",
    "from torchtext.data.utils import get_tokenizer\n",
    "\n",
    "from tqdm.auto import tqdm"
   ]
  },
  {
   "cell_type": "markdown",
   "id": "fce0cb2c-05a4-4c70-b2dc-84bcdfadbb6d",
   "metadata": {},
   "source": [
    "## Using GloVe (1 point)\n",
    "\n",
    "Let's get familier with GloVe embeddings. We download a small version of GloVe trained of 6 billion words, and use vectors of size 300.\n",
    "\n",
    "The [torchtext documentation](https://pytorch.org/text/stable/vocab.html#glove) being quite poor, you can find details on the different pre-trained vectors on the [Stanford page](https://nlp.stanford.edu/projects/glove/)."
   ]
  },
  {
   "cell_type": "code",
   "execution_count": 2,
   "id": "ab2391a1-f23b-4f98-bac4-651081d6c258",
   "metadata": {},
   "outputs": [
    {
     "data": {
      "text/plain": [
       "400000"
      ]
     },
     "execution_count": 2,
     "metadata": {},
     "output_type": "execute_result"
    }
   ],
   "source": [
    "glove = GloVe(name=\"6B\", dim=300)\n",
    "len(glove.stoi)"
   ]
  },
  {
   "cell_type": "code",
   "execution_count": 3,
   "id": "f2630885-032e-44ee-9fb7-b7b571216f2a",
   "metadata": {},
   "outputs": [
    {
     "data": {
      "text/plain": [
       "(5450, 'cat', torch.Size([300]))"
      ]
     },
     "execution_count": 3,
     "metadata": {},
     "output_type": "execute_result"
    }
   ],
   "source": [
    "glove.stoi[\"cat\"], glove.itos[5450], glove.vectors[glove.stoi[\"cat\"]].shape"
   ]
  },
  {
   "cell_type": "code",
   "execution_count": 4,
   "id": "b5ef6f37-1d1e-4b3a-82d4-ad09e975aa61",
   "metadata": {},
   "outputs": [
    {
     "data": {
      "text/plain": [
       "['the', ',', '.', 'of', 'to']"
      ]
     },
     "execution_count": 4,
     "metadata": {},
     "output_type": "execute_result"
    }
   ],
   "source": [
    "glove.itos[:5]"
   ]
  },
  {
   "cell_type": "markdown",
   "id": "8def2d83-d256-4432-ab2a-ab9cf782b062",
   "metadata": {},
   "source": [
    "Notice that punctuations are part of GloVe's vocabulary.\n",
    "\n",
    "To compare two words, we can look at their cosine similarity."
   ]
  },
  {
   "cell_type": "code",
   "execution_count": 5,
   "id": "fca0941f-9e61-4cf0-8bb8-a9132d50f0b7",
   "metadata": {},
   "outputs": [
    {
     "name": "stdout",
     "output_type": "stream",
     "text": [
      "cat x cats = 0.6815836429595947\n",
      "cat x dog = 0.6816746592521667\n",
      "cat x fridge = 0.09630905091762543\n"
     ]
    }
   ],
   "source": [
    "words = [\"cat\", \"cats\", \"dog\", \"fridge\"]\n",
    "for word in words[1:]:\n",
    "    similarity = torch.cosine_similarity(\n",
    "        glove.vectors[glove.stoi[words[0]]].reshape(1, -1),\n",
    "        glove.vectors[glove.stoi[word]].reshape(1, -1),\n",
    "    ).item()  # .item() is used to turn a tensor of a single value to a float\n",
    "    print(f\"{words[0]} x {word} = {similarity}\")"
   ]
  },
  {
   "cell_type": "markdown",
   "id": "0f960f72-be8e-4f35-8b71-7d188ad61a90",
   "metadata": {},
   "source": [
    "**\\[1 point\\] Find the closest word to \"cat\" in the whole vocabulary.**"
   ]
  },
  {
   "cell_type": "code",
   "execution_count": 6,
   "id": "a504e211-bb70-48ad-b365-e4ab5d0ed25f",
   "metadata": {},
   "outputs": [
    {
     "data": {
      "text/plain": [
       "'dog'"
      ]
     },
     "execution_count": 6,
     "metadata": {},
     "output_type": "execute_result"
    }
   ],
   "source": [
    "word = \"cat\"\n",
    "vectors = glove.vectors\n",
    "\n",
    "word_vec = vectors[glove.stoi[\"cat\"]]\n",
    "\n",
    "similarity = torch.cosine_similarity(vectors, word_vec)\n",
    "_, indices = torch.topk(similarity, 2)\n",
    "closest_word = glove.itos[indices[1]]\n",
    "closest_word"
   ]
  },
  {
   "cell_type": "markdown",
   "id": "2caa4d00-769b-4304-8010-3721bc926e68",
   "metadata": {},
   "source": [
    "## Dataset and split\n",
    "\n",
    "As we keep the test set for final evaluation, we need to split the training set into a training and validation set. We make sure the split is **stratified** by class (same proportion of class in each split)."
   ]
  },
  {
   "cell_type": "code",
   "execution_count": 7,
   "id": "ee47710f-8f8f-4e1b-a3e0-390de0a64d4e",
   "metadata": {},
   "outputs": [
    {
     "name": "stderr",
     "output_type": "stream",
     "text": [
      "Found cached dataset imdb (C:/Users/junyi/.cache/huggingface/datasets/imdb/plain_text/1.0.0/d613c88cf8fa3bab83b4ded3713f1f74830d1100e171db75bbddb80b3345c9c0)\n"
     ]
    },
    {
     "data": {
      "application/vnd.jupyter.widget-view+json": {
       "model_id": "93bcad418f4b4d2e9aaffb5269b83ab8",
       "version_major": 2,
       "version_minor": 0
      },
      "text/plain": [
       "  0%|          | 0/3 [00:00<?, ?it/s]"
      ]
     },
     "metadata": {},
     "output_type": "display_data"
    },
    {
     "name": "stderr",
     "output_type": "stream",
     "text": [
      "Loading cached split indices for dataset at C:\\Users\\junyi\\.cache\\huggingface\\datasets\\imdb\\plain_text\\1.0.0\\d613c88cf8fa3bab83b4ded3713f1f74830d1100e171db75bbddb80b3345c9c0\\cache-5f37fd0866e4f89f.arrow and C:\\Users\\junyi\\.cache\\huggingface\\datasets\\imdb\\plain_text\\1.0.0\\d613c88cf8fa3bab83b4ded3713f1f74830d1100e171db75bbddb80b3345c9c0\\cache-dd5732a0e6ac784c.arrow\n"
     ]
    },
    {
     "data": {
      "text/plain": [
       "((20000, 2), (5000, 2), (25000, 2))"
      ]
     },
     "execution_count": 7,
     "metadata": {},
     "output_type": "execute_result"
    }
   ],
   "source": [
    "dataset = load_dataset(\"imdb\")\n",
    "train_dataset = dataset[\"train\"].train_test_split(\n",
    "    stratify_by_column=\"label\", test_size=0.2, seed=42\n",
    ")\n",
    "test_df = dataset[\"test\"]\n",
    "train_df = train_dataset[\"train\"]\n",
    "valid_df = train_dataset[\"test\"]\n",
    "train_df.shape, valid_df.shape, test_df.shape"
   ]
  },
  {
   "cell_type": "markdown",
   "id": "e8f188d7-9e67-4b03-bab1-00508db56399",
   "metadata": {},
   "source": [
    "## Prepare the inputs\n",
    "\n",
    "### Text processing pipeline (2 points)\n",
    "\n",
    "For a given entry, we want to\n",
    "1. Tokenize the text.\n",
    "2. Get the vectors for each token.\n",
    "3. Average them.\n",
    "\n",
    "For tokenization, let's use the \"basic_english\" tokenizer from torchtext."
   ]
  },
  {
   "cell_type": "code",
   "execution_count": 8,
   "id": "a9868b71-5bc5-429c-9cb1-4ddb9c331f97",
   "metadata": {},
   "outputs": [],
   "source": [
    "tokenizer = get_tokenizer(\"basic_english\", language=\"en\")"
   ]
  },
  {
   "cell_type": "markdown",
   "id": "63219cef-b375-40de-b3ad-1401b6079c5a",
   "metadata": {},
   "source": [
    "**\\[2 points\\] Fill the `preprocess_text` function so it returns the mean of the GloVe vectors of all the tokens within a review.**\n",
    "\n",
    "The two following functions can help.\n",
    "* [torch.stack](https://pytorch.org/docs/stable/generated/torch.stack.html)\n",
    "* [torch.mean](https://pytorch.org/docs/stable/generated/torch.mean.html)"
   ]
  },
  {
   "cell_type": "code",
   "execution_count": 9,
   "id": "3ba4642e-fd7c-4dd1-9799-74360787976d",
   "metadata": {},
   "outputs": [],
   "source": [
    "def vectorize_text(\n",
    "    text: str, vocabulary: vocab.Vocab, tokenizer: Callable[[str], List[str]]\n",
    ") -> torch.Tensor:\n",
    "    \"\"\"\n",
    "    Turn a string into the average of the vectors of its tokens.\n",
    "    Args:\n",
    "        text: the input text.\n",
    "        vocabulary: a pre-trained Vocab object.\n",
    "        tokenizer: a tokenizer taking a text as input and returning a list of tokens.\n",
    "    Returns:\n",
    "        The average tensor over the tokens of the whole text.\n",
    "    \"\"\"\n",
    "    tokens = tokenizer(text)\n",
    "    words_vecs = [vocabulary.vectors[glove.stoi.get(token)] for token in tokens if glove.stoi.get(token)]\n",
    "    text_vecs = torch.stack(words_vecs)\n",
    "    mean = torch.mean(text_vecs, 0)\n",
    "    return mean"
   ]
  },
  {
   "cell_type": "code",
   "execution_count": 10,
   "id": "16032d85",
   "metadata": {},
   "outputs": [
    {
     "data": {
      "text/plain": [
       "torch.Size([300])"
      ]
     },
     "execution_count": 10,
     "metadata": {},
     "output_type": "execute_result"
    }
   ],
   "source": [
    "text_pipeline = partial(vectorize_text, vocabulary=glove, tokenizer=tokenizer)\n",
    "text_pipeline(\"some text.\").shape"
   ]
  },
  {
   "cell_type": "code",
   "execution_count": 11,
   "id": "9b6fa0c3-cb31-49d4-9869-fef8f1bb6a2d",
   "metadata": {
    "scrolled": true,
    "tags": []
   },
   "outputs": [],
   "source": [
    "text_pipeline = partial(vectorize_text, vocabulary=glove, tokenizer=tokenizer)\n",
    "assert text_pipeline(\"some text.\").shape == torch.Size([300])"
   ]
  },
  {
   "cell_type": "markdown",
   "id": "c3caf280-7436-44b9-a223-c00012a590d2",
   "metadata": {},
   "source": [
    "Now we turn our 3 sets into vectors and labels.\n",
    "\n",
    "Our data are quite small, so we can keep everything in RAM."
   ]
  },
  {
   "cell_type": "code",
   "execution_count": 12,
   "id": "6a6f4e6e-6bc6-4bdf-831d-02b6f14a56b0",
   "metadata": {},
   "outputs": [
    {
     "data": {
      "application/vnd.jupyter.widget-view+json": {
       "model_id": "553f9d87a2634af180112686761e05eb",
       "version_major": 2,
       "version_minor": 0
      },
      "text/plain": [
       "  0%|          | 0/20000 [00:00<?, ?it/s]"
      ]
     },
     "metadata": {},
     "output_type": "display_data"
    },
    {
     "data": {
      "application/vnd.jupyter.widget-view+json": {
       "model_id": "15e0e29600e84e66af802e1ce239d42a",
       "version_major": 2,
       "version_minor": 0
      },
      "text/plain": [
       "  0%|          | 0/5000 [00:00<?, ?it/s]"
      ]
     },
     "metadata": {},
     "output_type": "display_data"
    },
    {
     "data": {
      "application/vnd.jupyter.widget-view+json": {
       "model_id": "bde957a1c7a64499a52d2ee66972fca2",
       "version_major": 2,
       "version_minor": 0
      },
      "text/plain": [
       "  0%|          | 0/25000 [00:00<?, ?it/s]"
      ]
     },
     "metadata": {},
     "output_type": "display_data"
    }
   ],
   "source": [
    "X_train = [text_pipeline(text) for text in tqdm(train_df[\"text\"])]\n",
    "y_train = train_df[\"label\"]\n",
    "X_valid = [text_pipeline(text) for text in tqdm(valid_df[\"text\"])]\n",
    "y_valid = valid_df[\"label\"]\n",
    "X_test = [text_pipeline(text) for text in tqdm(test_df[\"text\"])]\n",
    "y_test = test_df[\"label\"]"
   ]
  },
  {
   "cell_type": "markdown",
   "id": "928a5323-3f1e-4d1e-a5fa-2d752c5ae929",
   "metadata": {},
   "source": [
    "### Batch processing (1 point)\n",
    "\n",
    "Instead of doing one update per epoch, we feed the model batches of texts between each update. To do so, we use a simple data generator.\n",
    "\n",
    "**\\[1 point\\] Fill the generator function.**\n"
   ]
  },
  {
   "cell_type": "code",
   "execution_count": 13,
   "id": "014d3de9-94bb-4be8-9419-8d2aa59ba3c2",
   "metadata": {},
   "outputs": [],
   "source": [
    "def data_generator(\n",
    "    X: List[torch.tensor], y: List[int], batch_size: int = 32\n",
    ") -> Generator[Tuple[torch.Tensor, torch.Tensor], None, None]:\n",
    "    \"\"\"\n",
    "    Yield batches from given input data and labels.\n",
    "    Args:\n",
    "        X: a list of tensor (input features).\n",
    "        y: the corresponding labels.\n",
    "        batch_size: the size of every batch [32].\n",
    "    Returns:\n",
    "        A tuple of tensors (features, labels).\n",
    "    \"\"\"\n",
    "    X, y = shuffle(X, y)\n",
    "    n_batches = len(X) // batch_size\n",
    "    if len(X) % batch_size != 0:\n",
    "        n_batches += 1\n",
    "    \n",
    "    for i in range(n_batches):\n",
    "        start_idx = i * batch_size\n",
    "        end_idx = start_idx + batch_size\n",
    "        batch_X = X[start_idx:end_idx]\n",
    "        batch_y = y[start_idx:end_idx]\n",
    "        yield torch.stack(batch_X), torch.tensor(batch_y)\n",
    "    # Your code\n",
    "    # yield the the returning values"
   ]
  },
  {
   "cell_type": "code",
   "execution_count": 14,
   "id": "04ab809e-7363-4996-a064-291cd97b276e",
   "metadata": {},
   "outputs": [],
   "source": [
    "train_gen = lambda: data_generator(X_train, y_train, batch_size=32)\n",
    "for X, y in train_gen():\n",
    "    assert X.shape == torch.Size([32, 300])\n",
    "    assert y.shape == torch.Size([32])\n",
    "    break"
   ]
  },
  {
   "cell_type": "markdown",
   "id": "ec152a5b-e80e-4d34-82dc-75012707a160",
   "metadata": {},
   "source": [
    "## The classifier (1 point)\n",
    "\n",
    "We create a very simple classifier corresponding a logistic regression.\n",
    "\n",
    "**\\[1 point\\] Fill the classifier's code. The forward function needs to return a logit and not the output of a sigmoid.**"
   ]
  },
  {
   "cell_type": "code",
   "execution_count": 15,
   "id": "09607378-c4a4-4e6b-8bf0-b1c40ef941c4",
   "metadata": {},
   "outputs": [],
   "source": [
    "class SimpleClassifer(nn.Module):\n",
    "    \"\"\"\n",
    "    A simple linear classifier.\n",
    "    \"\"\"\n",
    "\n",
    "    def __init__(self, embedding_size: int, nb_classes: int) -> None:\n",
    "        \"\"\"\n",
    "        Args:\n",
    "            embedding_size: the dimension of the input embeddings.\n",
    "        nb_classes: the output dimension.\n",
    "        \"\"\"\n",
    "        # your code\n",
    "        super().__init__()\n",
    "        self.linear = nn.Linear(embedding_size, nb_classes)\n",
    "\n",
    "    def forward(self, x: torch.Tensor) -> torch.Tensor:\n",
    "        \"\"\"\n",
    "        Args:\n",
    "            x: an input tensor\n",
    "        Returns:\n",
    "            Logits.\n",
    "        \"\"\"\n",
    "        # your code\n",
    "        logits = self.linear(x)\n",
    "        return logits"
   ]
  },
  {
   "cell_type": "markdown",
   "id": "5482c601-8ad2-4244-aa49-380df76091c1",
   "metadata": {},
   "source": [
    "## Training (3 points)\n",
    "\n",
    "We put everything above together and train the classifier."
   ]
  },
  {
   "cell_type": "code",
   "execution_count": 16,
   "id": "0e6a6da3-d538-4ebc-9bc9-cdec010de29f",
   "metadata": {},
   "outputs": [
    {
     "data": {
      "text/plain": [
       "'cpu'"
      ]
     },
     "execution_count": 16,
     "metadata": {},
     "output_type": "execute_result"
    }
   ],
   "source": [
    "device = \"cuda:0\" if torch.cuda.is_available() else \"cpu\"\n",
    "device"
   ]
  },
  {
   "cell_type": "code",
   "execution_count": 17,
   "id": "47d80e77-75dc-4aa6-b0cf-0f4619bb8b52",
   "metadata": {},
   "outputs": [],
   "source": [
    "train_gen = lambda: data_generator(X_train, y_train)\n",
    "valid_gen = lambda: data_generator(X_valid, y_valid)\n",
    "test_gen = lambda: data_generator(X_test, y_test)"
   ]
  },
  {
   "cell_type": "markdown",
   "id": "18ddcbc0-a8a0-433f-86d6-63d51f1877c6",
   "metadata": {},
   "source": [
    "**\\[3 points\\] Fill the following cells. Make sure you save the best model evaluated on the validation set.**\n",
    "* The `deepcopy` function might help."
   ]
  },
  {
   "cell_type": "code",
   "execution_count": 18,
   "id": "c4ea0bd2-d156-48e4-ab10-82dae2a880f1",
   "metadata": {},
   "outputs": [],
   "source": [
    "model = SimpleClassifer(300, 1).to(device)\n",
    "criterion = nn.BCEWithLogitsLoss()\n",
    "# You can use another optimizer if you want.\n",
    "optimizer = torch.optim.Adam(model.parameters())"
   ]
  },
  {
   "cell_type": "code",
   "execution_count": 19,
   "id": "262b4d32-9d63-4764-92e1-fa7ee27891f4",
   "metadata": {},
   "outputs": [
    {
     "data": {
      "application/vnd.jupyter.widget-view+json": {
       "model_id": "466a61772a2d438e8b44928ab55fc8c0",
       "version_major": 2,
       "version_minor": 0
      },
      "text/plain": [
       "  0%|          | 0/50 [00:00<?, ?it/s]"
      ]
     },
     "metadata": {},
     "output_type": "display_data"
    }
   ],
   "source": [
    "import copy\n",
    "\n",
    "nb_epochs = 50\n",
    "train_losses, valid_losses = [], []\n",
    "\n",
    "best_model = model\n",
    "best_validation_loss = np.Inf\n",
    "\n",
    "for epoch in tqdm(range(nb_epochs)):\n",
    "\n",
    "    # training\n",
    "    model.train()\n",
    "   \n",
    "    train_loss = 0.0\n",
    "    for X, y in train_gen():\n",
    "        # Clear the gradients\n",
    "        optimizer.zero_grad()\n",
    "\n",
    "        # Forward pass\n",
    "        logits = model(X).squeeze(-1)\n",
    "        loss = criterion(logits, y.float())\n",
    "\n",
    "        # Backward pass and optimization step\n",
    "        loss.backward()\n",
    "        optimizer.step()\n",
    "\n",
    "        # Update the training loss\n",
    "        train_loss += loss.item()\n",
    "\n",
    "    # Compute the average training loss for this epoch\n",
    "    train_loss /= sum(1 for _ in train_gen())\n",
    "    train_losses.append(train_loss)\n",
    "\n",
    "    # validation\n",
    "    model.eval()\n",
    "    valid_loss = 0.0\n",
    "    \n",
    "    with torch.no_grad():\n",
    "        for X, y in valid_gen():\n",
    "            # Forward pass\n",
    "            logits = model(X).squeeze(-1)\n",
    "            loss = criterion(logits, y.float())\n",
    "\n",
    "            # Update the validation loss\n",
    "            valid_loss += loss.item()\n",
    "\n",
    "    # Compute the average validation loss for this epoch\n",
    "    valid_loss /= sum(1 for _ in valid_gen())\n",
    "    valid_losses.append(valid_loss)\n",
    "\n",
    "    # If the validation loss is lower than the previous best, save this model\n",
    "    if valid_loss < best_validation_loss:\n",
    "        best_model = copy.deepcopy(model)\n",
    "        best_validation_loss = valid_loss"
   ]
  },
  {
   "cell_type": "code",
   "execution_count": 20,
   "id": "7907de12-1fc2-4597-980b-87d79baeb807",
   "metadata": {},
   "outputs": [
    {
     "data": {
      "text/plain": [
       "<matplotlib.legend.Legend at 0x21638094730>"
      ]
     },
     "execution_count": 20,
     "metadata": {},
     "output_type": "execute_result"
    },
    {
     "data": {
      "image/png": "[encoded data removed]",
      "text/plain": [
       "<Figure size 640x480 with 1 Axes>"
      ]
     },
     "metadata": {},
     "output_type": "display_data"
    }
   ],
   "source": [
    "plt.plot(train_losses, label=\"train loss\")\n",
    "plt.plot(valid_losses, label=\"valid loss\")\n",
    "plt.legend()"
   ]
  },
  {
   "cell_type": "markdown",
   "id": "3020533b-0522-42ff-bcdc-6d1cd991d332",
   "metadata": {},
   "source": [
    "## Evaluation (3 point)\n",
    "\n",
    "**\\[1 point\\] Compute the accuracy for the 3 splits (training, validation, test).**"
   ]
  },
  {
   "cell_type": "code",
   "execution_count": 24,
   "id": "73674e1e-0be6-49b0-af23-a0a9b518d170",
   "metadata": {},
   "outputs": [
    {
     "name": "stdout",
     "output_type": "stream",
     "text": [
      "Training accuracy: 0.83705\n",
      "Validation accuracy: 0.829\n",
      "Test accuracy: 0.82668\n"
     ]
    }
   ],
   "source": [
    "# Your code\n",
    "from sklearn.metrics import accuracy_score\n",
    "\n",
    "# Evaluate the model on the training set\n",
    "best_model.eval()\n",
    "train_preds = []\n",
    "train_targets = []\n",
    "\n",
    "with torch.no_grad():\n",
    "    for X, y in train_gen():\n",
    "        logits = best_model(X).squeeze(-1)\n",
    "        preds = torch.sigmoid(logits) > 0.5\n",
    "        train_preds.extend(preds)\n",
    "        train_targets.extend(y)\n",
    "\n",
    "train_acc = accuracy_score(train_targets, train_preds)\n",
    "\n",
    "# Evaluate the model on the validation set\n",
    "best_model.eval()\n",
    "valid_preds = []\n",
    "valid_targets = []\n",
    "\n",
    "with torch.no_grad():\n",
    "    for X, y in valid_gen():\n",
    "        logits = best_model(X).squeeze(-1)\n",
    "        preds = torch.sigmoid(logits) > 0.5\n",
    "        valid_preds.extend(preds)\n",
    "        valid_targets.extend(y)\n",
    "\n",
    "valid_acc = accuracy_score(valid_targets, valid_preds)\n",
    "\n",
    "# Evaluate the model on the test set\n",
    "best_model.eval()\n",
    "test_preds = []\n",
    "test_targets = []\n",
    "\n",
    "with torch.no_grad():\n",
    "    for X, y in test_gen():\n",
    "        logits = best_model(X).squeeze(-1)\n",
    "        preds = torch.sigmoid(logits) > 0.5\n",
    "        test_preds.extend(preds)\n",
    "        test_targets.extend(y)\n",
    "\n",
    "test_acc = accuracy_score(test_targets, test_preds)\n",
    "\n",
    "print(f\"Training accuracy: {train_acc}\")\n",
    "print(f\"Validation accuracy: {valid_acc}\")\n",
    "print(f\"Test accuracy: {test_acc}\")"
   ]
  },
  {
   "cell_type": "markdown",
   "id": "ac0b7102-fb1d-4a27-a400-ff0e40e1a685",
   "metadata": {},
   "source": [
    "**\\[1 point\\] For two wrongly classified samples, try guessing why the model was wrong.**\n",
    "\n"
   ]
  },
  {
   "cell_type": "code",
   "execution_count": 25,
   "id": "4c9dfb72",
   "metadata": {
    "scrolled": false
   },
   "outputs": [
    {
     "name": "stdout",
     "output_type": "stream",
     "text": [
      "Isaac Florentine has made some of the best western Martial Arts action movies ever produced. In particular US Seals 2, Cold Harvest, Special Forces and Undisputed 2 are all action classics. You can tell Isaac has a real passion for the genre and his films are always eventful, creative and sharp affairs, with some of the best fight sequences an action fan could hope for. In particular he has found a muse with Scott Adkins, as talented an actor and action performer as you could hope for. This is borne out with Special Forces and Undisputed 2, but unfortunately The Shepherd just doesn't live up to their abilities.<br /><br />There is no doubt that JCVD looks better here fight-wise than he has done in years, especially in the fight he has (for pretty much no reason) in a prison cell, and in the final showdown with Scott, but look in his eyes. JCVD seems to be dead inside. There's nothing in his eyes at all. It's like he just doesn't care about anything throughout the whole film. And this is the leading man.<br /><br />There are other dodgy aspects to the film, script-wise and visually, but the main problem is that you are utterly unable to empathise with the hero of the film. A genuine shame as I know we all wanted this film to be as special as it genuinely could have been. There are some good bits, mostly the action scenes themselves. This film had a terrific director and action choreographer, and an awesome opponent for JCVD to face down. This could have been the one to bring the veteran action star back up to scratch in the balls-out action movie stakes.<br /><br />Sincerely a shame that this didn't happen.\n",
      "tensor(1) 0\n",
      "Technically I'am a Van Damme Fan, or I was. this movie is so bad that I hated myself for wasting those 90 minutes. Do not let the name Isaac Florentine (Undisputed II) fool you, I had big hopes for this one, depending on what I saw in (Undisputed II), man.. was I wrong ??! all action fans wanted a big comeback for the classic action hero, but i guess we wont be able to see that soon, as our hero keep coming with those (going -to-a-border - far-away-town-and -kill -the-bad-guys- than-comeback- home) movies I mean for God's sake, we are in 2008, and they insist on doing those disappointing movies on every level. Why ??!!! Do your self a favor, skip it.. seriously.\n",
      "tensor(1) 0\n"
     ]
    }
   ],
   "source": [
    "count = 0\n",
    "examples = ['','']\n",
    "labels = [-1, -1]\n",
    "true_labels = [-1, -1]\n",
    "for i in range(len(test_targets)):\n",
    "    if count == 2:\n",
    "        break\n",
    "    if test_preds[i] != test_targets[i]:\n",
    "        examples[count] = test_df[\"text\"][i]\n",
    "        labels[count] = test_preds[i]\n",
    "        true_labels[count] = test_targets[i]\n",
    "        count += 1;\n",
    "print(examples[0])\n",
    "print(true_labels[0], int(labels[0]))\n",
    "\n",
    "print(examples[1])\n",
    "print(true_labels[1], int(labels[1]))"
   ]
  },
  {
   "cell_type": "markdown",
   "id": "3eab8373",
   "metadata": {},
   "source": [
    "The model was wrong because there are more positive words than negatives words in those samples. And the positive words have more weight than the negative ones."
   ]
  },
  {
   "cell_type": "markdown",
   "id": "85d3744a",
   "metadata": {},
   "source": [
    "**\\[1 point\\] Code a `predict` function which take some text as input and returns a prediction class and score (the output of the sigmoid).**"
   ]
  },
  {
   "cell_type": "code",
   "execution_count": 26,
   "id": "094f7ac3-ad53-43e3-a1f6-90ed3a61259c",
   "metadata": {},
   "outputs": [],
   "source": [
    "def predict(\n",
    "    text: str,\n",
    "    text_pipeline: Callable[[str], torch.Tensor],\n",
    "    model: nn.Module,\n",
    "    device: str,\n",
    ") -> Tuple[int, float]:\n",
    "    \"\"\"\n",
    "    Return the predicted class and score for a given input.\n",
    "    Args:\n",
    "        text: a given review.\n",
    "        text_pipeline: a function taking a text as input and returning a tensor (model's input).\n",
    "        model: a pre-trained model.\n",
    "        device: the device on which the computation occurs.\n",
    "    Returns:\n",
    "        A tuple (label, score).\n",
    "    \"\"\"\n",
    "    # Your code\n",
    "    pred = model(text_pipeline(text)).to(device)\n",
    "    score = torch.sigmoid(pred).item()\n",
    "    return (score > 0.5, score)"
   ]
  },
  {
   "cell_type": "code",
   "execution_count": 27,
   "id": "84e7130f-ce7f-41ed-a7d2-bcc6f65482f5",
   "metadata": {},
   "outputs": [
    {
     "data": {
      "text/plain": [
       "(False, 0.33560487627983093)"
      ]
     },
     "execution_count": 27,
     "metadata": {},
     "output_type": "execute_result"
    }
   ],
   "source": [
    "text = \"In my long years as a movie reviewers, I have seen good and bad movies. But nothing as controversially in the middle.\"\n",
    "predict(text, text_pipeline, model, device)"
   ]
  },
  {
   "cell_type": "markdown",
   "id": "c44f2dff-da04-466e-bf2c-32f9e84d10a3",
   "metadata": {},
   "source": [
    "## Bonus\n",
    "\n",
    "Modify the classifier. Instead of using a simple logistic regression, create a multilayer perceptron. Something like `input -> linear(embedding_size, 128) -> activation function -> linear(128, nb_classes) -> output`, for a two layer perceptron.\n",
    "\n",
    "For the activation function, you can use [ReLU](https://pytorch.org/docs/stable/generated/torch.nn.ReLU.html#torch.nn.ReLU) or [another non-linear activation function](https://pytorch.org/docs/stable/nn.html#non-linear-activations-weighted-sum-nonlinearity) of your choice.\n",
    "\n",
    "Train your new classifier, look at the loss, and compare its accuracy with the logistic regression. Keep the model with the best validation loss."
   ]
  },
  {
   "cell_type": "code",
   "execution_count": 28,
   "id": "8975c53d-2707-4d3c-ab8e-6962d5256136",
   "metadata": {},
   "outputs": [],
   "source": [
    "class PerceptronClassifier(nn.Module):\n",
    "    \"\"\"\n",
    "    A simple two-layer perceptron classifier.\n",
    "    \"\"\"\n",
    "\n",
    "    def __init__(self, embedding_size: int, nb_classes: int) -> None:\n",
    "        \"\"\"\n",
    "        Args:\n",
    "            embedding_size: the dimension of the input embeddings.\n",
    "            nb_classes: the output dimension.\n",
    "        \"\"\"\n",
    "        super().__init__()\n",
    "        self.layer1 = nn.Linear(embedding_size, 128)\n",
    "        self.layer2 = nn.Linear(128, nb_classes)\n",
    "        self.relu = nn.ReLU()\n",
    "\n",
    "    def forward(self, x: torch.Tensor) -> torch.Tensor:\n",
    "        \"\"\"\n",
    "        Args:\n",
    "            x: an input tensor\n",
    "        Returns:\n",
    "            Logits.\n",
    "        \"\"\"\n",
    "        x = self.layer1(x)\n",
    "        x = self.relu(x)\n",
    "        logits = self.layer2(x)\n",
    "        return logits"
   ]
  },
  {
   "cell_type": "code",
   "execution_count": 32,
   "id": "53abac64",
   "metadata": {
    "tags": [
     "hide_cell"
    ]
   },
   "outputs": [
    {
     "data": {
      "application/vnd.jupyter.widget-view+json": {
       "model_id": "7e7a72c3ed8c4a3faa158a9a3155c094",
       "version_major": 2,
       "version_minor": 0
      },
      "text/plain": [
       "  0%|          | 0/50 [00:00<?, ?it/s]"
      ]
     },
     "metadata": {},
     "output_type": "display_data"
    }
   ],
   "source": [
    "train_gen = lambda: data_generator(X_train, y_train)\n",
    "valid_gen = lambda: data_generator(X_valid, y_valid)\n",
    "test_gen = lambda: data_generator(X_test, y_test)\n",
    "model = PerceptronClassifier(300, 1).to(device)\n",
    "criterion = nn.BCEWithLogitsLoss()\n",
    "optimizer = torch.optim.Adam(model.parameters())\n",
    "\n",
    "import copy\n",
    "\n",
    "nb_epochs = 50\n",
    "train_losses, valid_losses = [], []\n",
    "\n",
    "best_model = model\n",
    "best_validation_loss = np.Inf\n",
    "\n",
    "for epoch in tqdm(range(nb_epochs)):\n",
    "    # training\n",
    "    model.train()\n",
    "   \n",
    "    train_loss = 0.0\n",
    "    for X, y in train_gen():\n",
    "        # Clear the gradients\n",
    "        optimizer.zero_grad()\n",
    "\n",
    "        # Forward pass\n",
    "        logits = model(X).squeeze(-1)\n",
    "        loss = criterion(logits, y.float())\n",
    "\n",
    "        # Backward pass and optimization step\n",
    "        loss.backward()\n",
    "        optimizer.step()\n",
    "\n",
    "        # Update the training loss\n",
    "        train_loss += loss.item()\n",
    "\n",
    "    # Compute the average training loss for this epoch\n",
    "    train_loss /= sum(1 for _ in train_gen())\n",
    "    train_losses.append(train_loss)\n",
    "\n",
    "    # validation\n",
    "    model.eval()\n",
    "    valid_loss = 0.0\n",
    "    \n",
    "    with torch.no_grad():\n",
    "        for X, y in valid_gen():\n",
    "            # Forward pass\n",
    "            logits = model(X).squeeze(-1)\n",
    "            loss = criterion(logits, y.float())\n",
    "\n",
    "            # Update the validation loss\n",
    "            valid_loss += loss.item()\n",
    "\n",
    "    # Compute the average validation loss for this epoch\n",
    "    valid_loss /= sum(1 for _ in valid_gen())\n",
    "    valid_losses.append(valid_loss)\n",
    "\n",
    "    # If the validation loss is lower than the previous best, save this model\n",
    "    if valid_loss < best_validation_loss:\n",
    "        best_model = copy.deepcopy(model)\n",
    "        best_validation_loss = valid_loss"
   ]
  },
  {
   "cell_type": "code",
   "execution_count": 30,
   "id": "e73b28aa",
   "metadata": {
    "scrolled": false
   },
   "outputs": [
    {
     "data": {
      "text/plain": [
       "<matplotlib.legend.Legend at 0x2163aa9cc10>"
      ]
     },
     "execution_count": 30,
     "metadata": {},
     "output_type": "execute_result"
    },
    {
     "data": {
      "image/png": "[encoded data removed]",
      "text/plain": [
       "<Figure size 640x480 with 1 Axes>"
      ]
     },
     "metadata": {},
     "output_type": "display_data"
    }
   ],
   "source": [
    "plt.plot(train_losses, label=\"train loss\")\n",
    "plt.plot(valid_losses, label=\"valid loss\")\n",
    "plt.legend()"
   ]
  },
  {
   "cell_type": "code",
   "execution_count": 31,
   "id": "9183f25b",
   "metadata": {},
   "outputs": [
    {
     "name": "stdout",
     "output_type": "stream",
     "text": [
      "Training accuracy: 0.8654\n",
      "Validation accuracy: 0.8426\n",
      "Test accuracy: 0.8432\n"
     ]
    }
   ],
   "source": [
    "# Your code\n",
    "from sklearn.metrics import accuracy_score\n",
    "\n",
    "# Evaluate the model on the training set\n",
    "best_model.eval()\n",
    "train_preds = []\n",
    "train_targets = []\n",
    "\n",
    "with torch.no_grad():\n",
    "    for X, y in train_gen():\n",
    "        logits = best_model(X).squeeze(-1)\n",
    "        preds = torch.sigmoid(logits) > 0.5\n",
    "        train_preds.extend(preds)\n",
    "        train_targets.extend(y)\n",
    "\n",
    "train_acc = accuracy_score(train_targets, train_preds)\n",
    "\n",
    "# Evaluate the model on the validation set\n",
    "best_model.eval()\n",
    "valid_preds = []\n",
    "valid_targets = []\n",
    "\n",
    "with torch.no_grad():\n",
    "    for X, y in valid_gen():\n",
    "        logits = best_model(X).squeeze(-1)\n",
    "        preds = torch.sigmoid(logits) > 0.5\n",
    "        valid_preds.extend(preds)\n",
    "        valid_targets.extend(y)\n",
    "\n",
    "valid_acc = accuracy_score(valid_targets, valid_preds)\n",
    "\n",
    "# Evaluate the model on the test set\n",
    "best_model.eval()\n",
    "test_preds = []\n",
    "test_targets = []\n",
    "\n",
    "with torch.no_grad():\n",
    "    for X, y in test_gen():\n",
    "        logits = best_model(X).squeeze(-1)\n",
    "        preds = torch.sigmoid(logits) > 0.5\n",
    "        test_preds.extend(preds)\n",
    "        test_targets.extend(y)\n",
    "\n",
    "test_acc = accuracy_score(test_targets, test_preds)\n",
    "\n",
    "print(f\"Training accuracy: {train_acc}\")\n",
    "print(f\"Validation accuracy: {valid_acc}\")\n",
    "print(f\"Test accuracy: {test_acc}\")"
   ]
  },
  {
   "cell_type": "markdown",
   "id": "7b19b988",
   "metadata": {},
   "source": [
    "Simple classifier accuracy:\n",
    "\n",
    "Training accuracy: 0.83705  \n",
    "Validation accuracy: 0.829  \n",
    "Test accuracy: 0.82668  "
   ]
  },
  {
   "cell_type": "code",
   "execution_count": null,
   "id": "4489b7a6",
   "metadata": {},
   "outputs": [],
   "source": []
  }
 ],
 "metadata": {
  "celltoolbar": "Tags",
  "kernelspec": {
   "display_name": "Python 3 (ipykernel)",
   "language": "python",
   "name": "python3"
  },
  "language_info": {
   "codemirror_mode": {
    "name": "ipython",
    "version": 3
   },
   "file_extension": ".py",
   "mimetype": "text/x-python",
   "name": "python",
   "nbconvert_exporter": "python",
   "pygments_lexer": "ipython3",
   "version": "3.9.13"
  }
 },
 "nbformat": 4,
 "nbformat_minor": 5
}
