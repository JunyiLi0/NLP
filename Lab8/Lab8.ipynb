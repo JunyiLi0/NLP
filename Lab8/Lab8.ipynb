{
 "cells": [
  {
   "cell_type": "markdown",
   "id": "ff2f7ca4",
   "metadata": {},
   "source": [
    "# Introduction to Natural Language Processing 2 Lab04"
   ]
  },
  {
   "cell_type": "markdown",
   "id": "f3891c21",
   "metadata": {},
   "source": [
    "## Introduction"
   ]
  },
  {
   "cell_type": "markdown",
   "id": "245f5bb9",
   "metadata": {},
   "source": [
    "For a commercial application, it is important to choose a dataset that allows commercial use.  \n",
    "The hate dataset has a license that prohibits commercial use, it cannot be used for developing a commercial API.  \n",
    "By selecting the offensive dataset, we ensure compliance with the dataset's licensing terms and can proceed with building a commercial moderation API without any legal restrictions."
   ]
  },
  {
   "cell_type": "markdown",
   "id": "73e26d50",
   "metadata": {},
   "source": [
    "## Evaluating the dataset"
   ]
  },
  {
   "cell_type": "code",
   "execution_count": 1,
   "id": "164feb57",
   "metadata": {},
   "outputs": [
    {
     "name": "stderr",
     "output_type": "stream",
     "text": [
      "Found cached dataset tweet_eval (C:/Users/antho/.cache/huggingface/datasets/tweet_eval/offensive/1.1.0/12aee5282b8784f3e95459466db4cdf45c6bf49719c25cdb0743d71ed0410343)\n"
     ]
    },
    {
     "data": {
      "application/vnd.jupyter.widget-view+json": {
       "model_id": "2d7a798e251a4ba69ec810f48f83ebb9",
       "version_major": 2,
       "version_minor": 0
      },
      "text/plain": [
       "  0%|          | 0/3 [00:00<?, ?it/s]"
      ]
     },
     "metadata": {},
     "output_type": "display_data"
    }
   ],
   "source": [
    "from datasets import load_dataset\n",
    "\n",
    "dataset = load_dataset(\"tweet_eval\", \"offensive\")"
   ]
  },
  {
   "cell_type": "markdown",
   "id": "264777a2",
   "metadata": {},
   "source": [
    "### Describe the dataset. Look at the splits, proportion of classes, and see what you can figure out by just looking at the text."
   ]
  },
  {
   "cell_type": "code",
   "execution_count": 2,
   "id": "787bdf14",
   "metadata": {},
   "outputs": [
    {
     "data": {
      "text/plain": [
       "DatasetDict({\n",
       "    train: Dataset({\n",
       "        features: ['text', 'label'],\n",
       "        num_rows: 11916\n",
       "    })\n",
       "    test: Dataset({\n",
       "        features: ['text', 'label'],\n",
       "        num_rows: 860\n",
       "    })\n",
       "    validation: Dataset({\n",
       "        features: ['text', 'label'],\n",
       "        num_rows: 1324\n",
       "    })\n",
       "})"
      ]
     },
     "execution_count": 2,
     "metadata": {},
     "output_type": "execute_result"
    }
   ],
   "source": [
    "dataset"
   ]
  },
  {
   "cell_type": "markdown",
   "id": "e4dae30f",
   "metadata": {},
   "source": [
    "It includes separate subsets for training, testing, and validation.  \n",
    "The sizes of the subsets are reasonable, with a larger number of rows in the training set compared to the test set and the validation set."
   ]
  },
  {
   "cell_type": "code",
   "execution_count": 3,
   "id": "d0ecfec2",
   "metadata": {},
   "outputs": [
    {
     "data": {
      "text/plain": [
       "{'text': '@user Bono... who cares. Soon people will understand that they gain nothing from following a phony celebrity. Become a Leader of your people instead or help and support your fellow countrymen.',\n",
       " 'label': 0}"
      ]
     },
     "execution_count": 3,
     "metadata": {},
     "output_type": "execute_result"
    }
   ],
   "source": [
    "train_ds = dataset[\"train\"]\n",
    "train_ds[0]"
   ]
  },
  {
   "cell_type": "markdown",
   "id": "f92c6ac6",
   "metadata": {},
   "source": [
    "A single item from the dataset is a dictionary, consisting of the keys text and label, and the values in these keys are the tweet itself, and the offensive status."
   ]
  },
  {
   "cell_type": "code",
   "execution_count": 47,
   "id": "5bce184a",
   "metadata": {},
   "outputs": [
    {
     "data": {
      "image/png": "[encoded data removed]",
      "text/plain": [
       "<Figure size 432x288 with 1 Axes>"
      ]
     },
     "metadata": {
      "needs_background": "light"
     },
     "output_type": "display_data"
    }
   ],
   "source": [
    "import pandas as pd\n",
    "import matplotlib.pyplot as plt\n",
    "\n",
    "dataset.set_format(type=\"pandas\")\n",
    "df = dataset[\"train\"][:]\n",
    "\n",
    "def label_int2str(row):\n",
    "    return dataset[\"train\"].features[\"label\"].int2str(row)\n",
    "\n",
    "df[\"label_name\"] = df[\"label\"].apply(label_int2str)\n",
    "df.head()\n",
    "\n",
    "df[\"label_name\"].value_counts(ascending=True).plot.barh()\n",
    "plt.title(\"Frequency of Classes\")\n",
    "plt.show()"
   ]
  },
  {
   "cell_type": "markdown",
   "id": "18ac9523",
   "metadata": {},
   "source": [
    "We can see see that the dataset is imbalanced"
   ]
  },
  {
   "cell_type": "code",
   "execution_count": 5,
   "id": "065f4afc",
   "metadata": {},
   "outputs": [
    {
     "data": {
      "image/png": "[encoded data removed]",
      "text/plain": [
       "<Figure size 432x288 with 1 Axes>"
      ]
     },
     "metadata": {
      "needs_background": "light"
     },
     "output_type": "display_data"
    }
   ],
   "source": [
    "df[\"Words Per Tweet\"] = df[\"text\"].str.split().apply(len)\n",
    "df.boxplot(\"Words Per Tweet\", by=\"label_name\", grid=False,\n",
    "          showfliers=False, color=\"black\")\n",
    "plt.suptitle(\"\")\n",
    "plt.xlabel(\"\")\n",
    "plt.show()"
   ]
  },
  {
   "cell_type": "markdown",
   "id": "b419f9c9",
   "metadata": {},
   "source": [
    "Since we’ll be using a BERT model, which has a maximum context size of 512 tokens. We will be fine with an upper limit of 70 words per tweet."
   ]
  },
  {
   "cell_type": "markdown",
   "id": "097a9938",
   "metadata": {},
   "source": [
    "### Use BERTopic to extract the topics within the data, and the main topics within each class. Please, think about fixing the random seed."
   ]
  },
  {
   "cell_type": "code",
   "execution_count": 31,
   "id": "0ebe2d9b",
   "metadata": {},
   "outputs": [],
   "source": [
    "from bertopic import BERTopic\n",
    "from umap import UMAP\n",
    "\n",
    "umap_model = UMAP(random_state=42)\n",
    "\n",
    "topic_model = BERTopic(umap_model=umap_model)"
   ]
  },
  {
   "cell_type": "code",
   "execution_count": 32,
   "id": "d4506827",
   "metadata": {
    "scrolled": true
   },
   "outputs": [],
   "source": [
    "train_docs = dataset[\"train\"]['text']\n",
    "train_classes = dataset[\"train\"]['label']\n",
    "test_docs = dataset[\"test\"]['text']\n",
    "test_classes = dataset[\"test\"]['label']\n",
    "valid_docs = dataset[\"validation\"]['text']\n",
    "valid_classes = dataset[\"validation\"]['label']"
   ]
  },
  {
   "cell_type": "code",
   "execution_count": 33,
   "id": "ef07264e",
   "metadata": {},
   "outputs": [
    {
     "data": {
      "application/vnd.jupyter.widget-view+json": {
       "model_id": "115468c069bc443fbf43f29ea6c10a01",
       "version_major": 2,
       "version_minor": 0
      },
      "text/plain": [
       "Batches:   0%|          | 0/373 [00:00<?, ?it/s]"
      ]
     },
     "metadata": {},
     "output_type": "display_data"
    },
    {
     "name": "stderr",
     "output_type": "stream",
     "text": [
      "2023-06-23 22:30:57,311 - BERTopic - Transformed documents to Embeddings\n",
      "2023-06-23 22:31:02,623 - BERTopic - Reduced dimensionality\n",
      "2023-06-23 22:31:09,899 - BERTopic - Clustered reduced embeddings\n"
     ]
    }
   ],
   "source": [
    "topic_model = BERTopic(language=\"english\", calculate_probabilities=True, verbose=True, embedding_model=\"all-MiniLM-L6-v2\")\n",
    "topics, probs = topic_model.fit_transform(train_docs)"
   ]
  },
  {
   "cell_type": "code",
   "execution_count": 34,
   "id": "73c5387e",
   "metadata": {
    "scrolled": false
   },
   "outputs": [
    {
     "name": "stderr",
     "output_type": "stream",
     "text": [
      "2it [00:00,  8.92it/s]\n"
     ]
    },
    {
     "data": {
      "application/vnd.plotly.v1+json": {
       "config": {
        "plotlyServerURL": "https://plot.ly"
       },
       "data": [
        {
         "hoverinfo": "text",
         "hovertext": [
          "<b>Topic 0</b><br>Words: antifa, user, they, the, of",
          "<b>Topic 0</b><br>Words: antifa, fascist, user, they, the"
         ],
         "marker": {
          "color": "#E69F00"
         },
         "name": "0_antifa_user_they_the",
         "orientation": "h",
         "type": "bar",
         "visible": true,
         "x": [
          791,
          311
         ],
         "y": [
          0,
          1
         ]
        },
        {
         "hoverinfo": "text",
         "hovertext": [
          "<b>Topic 1</b><br>Words: gun, control, guns, laws, the",
          "<b>Topic 1</b><br>Words: gun, control, guns, laws, the"
         ],
         "marker": {
          "color": "#56B4E9"
         },
         "name": "1_gun_control_guns_laws",
         "orientation": "h",
         "type": "bar",
         "visible": "legendonly",
         "x": [
          666,
          352
         ],
         "y": [
          0,
          1
         ]
        },
        {
         "hoverinfo": "text",
         "hovertext": [
          "<b>Topic 2</b><br>Words: liberals, they, liberal, user, don",
          "<b>Topic 2</b><br>Words: liberals, liberal, they, are, all"
         ],
         "marker": {
          "color": "#009E73"
         },
         "name": "2_liberals_liberal_they_all",
         "orientation": "h",
         "type": "bar",
         "visible": "legendonly",
         "x": [
          235,
          154
         ],
         "y": [
          0,
          1
         ]
        },
        {
         "hoverinfo": "text",
         "hovertext": [
          "<b>Topic 3</b><br>Words: right, user, wrong, correct, you",
          "<b>Topic 3</b><br>Words: right, players, user, possible, wrong"
         ],
         "marker": {
          "color": "#F0E442"
         },
         "name": "3_right_user_wrong_correct",
         "orientation": "h",
         "type": "bar",
         "visible": "legendonly",
         "x": [
          271,
          32
         ],
         "y": [
          0,
          1
         ]
        },
        {
         "hoverinfo": "text",
         "hovertext": [
          "<b>Topic 4</b><br>Words: brexit, labour, housing, tories, uk",
          "<b>Topic 4</b><br>Words: tories, tory, labour, brexit, uk"
         ],
         "marker": {
          "color": "#D55E00"
         },
         "name": "4_brexit_labour_tories_housing",
         "orientation": "h",
         "type": "bar",
         "visible": "legendonly",
         "x": [
          178,
          44
         ],
         "y": [
          0,
          1
         ]
        },
        {
         "hoverinfo": "text",
         "hovertext": [
          "<b>Topic 5</b><br>Words: kavanaugh, maga, judge, accuser, will",
          "<b>Topic 5</b><br>Words: kavanaugh, judge, maga, will, this"
         ],
         "marker": {
          "color": "#0072B2"
         },
         "name": "5_kavanaugh_maga_judge_will",
         "orientation": "h",
         "type": "bar",
         "visible": "legendonly",
         "x": [
          140,
          77
         ],
         "y": [
          0,
          1
         ]
        },
        {
         "hoverinfo": "text",
         "hovertext": [
          "<b>Topic 6</b><br>Words: she, is, yes, her, know",
          "<b>Topic 6</b><br>Words: she, is, saved, her, monster"
         ],
         "marker": {
          "color": "#CC79A7"
         },
         "name": "6_she_is_yes_her",
         "orientation": "h",
         "type": "bar",
         "visible": "legendonly",
         "x": [
          159,
          36
         ],
         "y": [
          0,
          1
         ]
        },
        {
         "hoverinfo": "text",
         "hovertext": [
          "<b>Topic 7</b><br>Words: conservatives, conservative, are, of, they",
          "<b>Topic 7</b><br>Words: conservatives, they, there, hate, are"
         ],
         "marker": {
          "color": "#E69F00"
         },
         "name": "7_conservatives_conservative_are_they",
         "orientation": "h",
         "type": "bar",
         "visible": "legendonly",
         "x": [
          151,
          39
         ],
         "y": [
          0,
          1
         ]
        },
        {
         "hoverinfo": "text",
         "hovertext": [
          "<b>Topic 8</b><br>Words: user, treph, follow, sanctions, gt",
          "<b>Topic 8</b><br>Words: user, jaws, blow, you, record"
         ],
         "marker": {
          "color": "#56B4E9"
         },
         "name": "8_user_treph_follow_sanctions",
         "orientation": "h",
         "type": "bar",
         "visible": "legendonly",
         "x": [
          136,
          21
         ],
         "y": [
          0,
          1
         ]
        },
        {
         "hoverinfo": "text",
         "hovertext": [
          "<b>Topic 9</b><br>Words: women, guilty, liberals, sexual, conservatives",
          "<b>Topic 9</b><br>Words: women, sexual, liberals, men, assault"
         ],
         "marker": {
          "color": "#009E73"
         },
         "name": "9_women_liberals_sexual_guilty",
         "orientation": "h",
         "type": "bar",
         "visible": "legendonly",
         "x": [
          74,
          64
         ],
         "y": [
          0,
          1
         ]
        }
       ],
       "layout": {
        "height": 900,
        "hoverlabel": {
         "bgcolor": "white",
         "font": {
          "family": "Rockwell",
          "size": 16
         }
        },
        "legend": {
         "title": {
          "text": "<b>Global Topic Representation"
         }
        },
        "template": {
         "data": {
          "bar": [
           {
            "error_x": {
             "color": "rgb(36,36,36)"
            },
            "error_y": {
             "color": "rgb(36,36,36)"
            },
            "marker": {
             "line": {
              "color": "white",
              "width": 0.5
             },
             "pattern": {
              "fillmode": "overlay",
              "size": 10,
              "solidity": 0.2
             }
            },
            "type": "bar"
           }
          ],
          "barpolar": [
           {
            "marker": {
             "line": {
              "color": "white",
              "width": 0.5
             },
             "pattern": {
              "fillmode": "overlay",
              "size": 10,
              "solidity": 0.2
             }
            },
            "type": "barpolar"
           }
          ],
          "carpet": [
           {
            "aaxis": {
             "endlinecolor": "rgb(36,36,36)",
             "gridcolor": "white",
             "linecolor": "white",
             "minorgridcolor": "white",
             "startlinecolor": "rgb(36,36,36)"
            },
            "baxis": {
             "endlinecolor": "rgb(36,36,36)",
             "gridcolor": "white",
             "linecolor": "white",
             "minorgridcolor": "white",
             "startlinecolor": "rgb(36,36,36)"
            },
            "type": "carpet"
           }
          ],
          "choropleth": [
           {
            "colorbar": {
             "outlinewidth": 1,
             "tickcolor": "rgb(36,36,36)",
             "ticks": "outside"
            },
            "type": "choropleth"
           }
          ],
          "contour": [
           {
            "colorbar": {
             "outlinewidth": 1,
             "tickcolor": "rgb(36,36,36)",
             "ticks": "outside"
            },
            "colorscale": [
             [
              0,
              "#440154"
             ],
             [
              0.1111111111111111,
              "#482878"
             ],
             [
              0.2222222222222222,
              "#3e4989"
             ],
             [
              0.3333333333333333,
              "#31688e"
             ],
             [
              0.4444444444444444,
              "#26828e"
             ],
             [
              0.5555555555555556,
              "#1f9e89"
             ],
             [
              0.6666666666666666,
              "#35b779"
             ],
             [
              0.7777777777777778,
              "#6ece58"
             ],
             [
              0.8888888888888888,
              "#b5de2b"
             ],
             [
              1,
              "#fde725"
             ]
            ],
            "type": "contour"
           }
          ],
          "contourcarpet": [
           {
            "colorbar": {
             "outlinewidth": 1,
             "tickcolor": "rgb(36,36,36)",
             "ticks": "outside"
            },
            "type": "contourcarpet"
           }
          ],
          "heatmap": [
           {
            "colorbar": {
             "outlinewidth": 1,
             "tickcolor": "rgb(36,36,36)",
             "ticks": "outside"
            },
            "colorscale": [
             [
              0,
              "#440154"
             ],
             [
              0.1111111111111111,
              "#482878"
             ],
             [
              0.2222222222222222,
              "#3e4989"
             ],
             [
              0.3333333333333333,
              "#31688e"
             ],
             [
              0.4444444444444444,
              "#26828e"
             ],
             [
              0.5555555555555556,
              "#1f9e89"
             ],
             [
              0.6666666666666666,
              "#35b779"
             ],
             [
              0.7777777777777778,
              "#6ece58"
             ],
             [
              0.8888888888888888,
              "#b5de2b"
             ],
             [
              1,
              "#fde725"
             ]
            ],
            "type": "heatmap"
           }
          ],
          "heatmapgl": [
           {
            "colorbar": {
             "outlinewidth": 1,
             "tickcolor": "rgb(36,36,36)",
             "ticks": "outside"
            },
            "colorscale": [
             [
              0,
              "#440154"
             ],
             [
              0.1111111111111111,
              "#482878"
             ],
             [
              0.2222222222222222,
              "#3e4989"
             ],
             [
              0.3333333333333333,
              "#31688e"
             ],
             [
              0.4444444444444444,
              "#26828e"
             ],
             [
              0.5555555555555556,
              "#1f9e89"
             ],
             [
              0.6666666666666666,
              "#35b779"
             ],
             [
              0.7777777777777778,
              "#6ece58"
             ],
             [
              0.8888888888888888,
              "#b5de2b"
             ],
             [
              1,
              "#fde725"
             ]
            ],
            "type": "heatmapgl"
           }
          ],
          "histogram": [
           {
            "marker": {
             "line": {
              "color": "white",
              "width": 0.6
             }
            },
            "type": "histogram"
           }
          ],
          "histogram2d": [
           {
            "colorbar": {
             "outlinewidth": 1,
             "tickcolor": "rgb(36,36,36)",
             "ticks": "outside"
            },
            "colorscale": [
             [
              0,
              "#440154"
             ],
             [
              0.1111111111111111,
              "#482878"
             ],
             [
              0.2222222222222222,
              "#3e4989"
             ],
             [
              0.3333333333333333,
              "#31688e"
             ],
             [
              0.4444444444444444,
              "#26828e"
             ],
             [
              0.5555555555555556,
              "#1f9e89"
             ],
             [
              0.6666666666666666,
              "#35b779"
             ],
             [
              0.7777777777777778,
              "#6ece58"
             ],
             [
              0.8888888888888888,
              "#b5de2b"
             ],
             [
              1,
              "#fde725"
             ]
            ],
            "type": "histogram2d"
           }
          ],
          "histogram2dcontour": [
           {
            "colorbar": {
             "outlinewidth": 1,
             "tickcolor": "rgb(36,36,36)",
             "ticks": "outside"
            },
            "colorscale": [
             [
              0,
              "#440154"
             ],
             [
              0.1111111111111111,
              "#482878"
             ],
             [
              0.2222222222222222,
              "#3e4989"
             ],
             [
              0.3333333333333333,
              "#31688e"
             ],
             [
              0.4444444444444444,
              "#26828e"
             ],
             [
              0.5555555555555556,
              "#1f9e89"
             ],
             [
              0.6666666666666666,
              "#35b779"
             ],
             [
              0.7777777777777778,
              "#6ece58"
             ],
             [
              0.8888888888888888,
              "#b5de2b"
             ],
             [
              1,
              "#fde725"
             ]
            ],
            "type": "histogram2dcontour"
           }
          ],
          "mesh3d": [
           {
            "colorbar": {
             "outlinewidth": 1,
             "tickcolor": "rgb(36,36,36)",
             "ticks": "outside"
            },
            "type": "mesh3d"
           }
          ],
          "parcoords": [
           {
            "line": {
             "colorbar": {
              "outlinewidth": 1,
              "tickcolor": "rgb(36,36,36)",
              "ticks": "outside"
             }
            },
            "type": "parcoords"
           }
          ],
          "pie": [
           {
            "automargin": true,
            "type": "pie"
           }
          ],
          "scatter": [
           {
            "fillpattern": {
             "fillmode": "overlay",
             "size": 10,
             "solidity": 0.2
            },
            "type": "scatter"
           }
          ],
          "scatter3d": [
           {
            "line": {
             "colorbar": {
              "outlinewidth": 1,
              "tickcolor": "rgb(36,36,36)",
              "ticks": "outside"
             }
            },
            "marker": {
             "colorbar": {
              "outlinewidth": 1,
              "tickcolor": "rgb(36,36,36)",
              "ticks": "outside"
             }
            },
            "type": "scatter3d"
           }
          ],
          "scattercarpet": [
           {
            "marker": {
             "colorbar": {
              "outlinewidth": 1,
              "tickcolor": "rgb(36,36,36)",
              "ticks": "outside"
             }
            },
            "type": "scattercarpet"
           }
          ],
          "scattergeo": [
           {
            "marker": {
             "colorbar": {
              "outlinewidth": 1,
              "tickcolor": "rgb(36,36,36)",
              "ticks": "outside"
             }
            },
            "type": "scattergeo"
           }
          ],
          "scattergl": [
           {
            "marker": {
             "colorbar": {
              "outlinewidth": 1,
              "tickcolor": "rgb(36,36,36)",
              "ticks": "outside"
             }
            },
            "type": "scattergl"
           }
          ],
          "scattermapbox": [
           {
            "marker": {
             "colorbar": {
              "outlinewidth": 1,
              "tickcolor": "rgb(36,36,36)",
              "ticks": "outside"
             }
            },
            "type": "scattermapbox"
           }
          ],
          "scatterpolar": [
           {
            "marker": {
             "colorbar": {
              "outlinewidth": 1,
              "tickcolor": "rgb(36,36,36)",
              "ticks": "outside"
             }
            },
            "type": "scatterpolar"
           }
          ],
          "scatterpolargl": [
           {
            "marker": {
             "colorbar": {
              "outlinewidth": 1,
              "tickcolor": "rgb(36,36,36)",
              "ticks": "outside"
             }
            },
            "type": "scatterpolargl"
           }
          ],
          "scatterternary": [
           {
            "marker": {
             "colorbar": {
              "outlinewidth": 1,
              "tickcolor": "rgb(36,36,36)",
              "ticks": "outside"
             }
            },
            "type": "scatterternary"
           }
          ],
          "surface": [
           {
            "colorbar": {
             "outlinewidth": 1,
             "tickcolor": "rgb(36,36,36)",
             "ticks": "outside"
            },
            "colorscale": [
             [
              0,
              "#440154"
             ],
             [
              0.1111111111111111,
              "#482878"
             ],
             [
              0.2222222222222222,
              "#3e4989"
             ],
             [
              0.3333333333333333,
              "#31688e"
             ],
             [
              0.4444444444444444,
              "#26828e"
             ],
             [
              0.5555555555555556,
              "#1f9e89"
             ],
             [
              0.6666666666666666,
              "#35b779"
             ],
             [
              0.7777777777777778,
              "#6ece58"
             ],
             [
              0.8888888888888888,
              "#b5de2b"
             ],
             [
              1,
              "#fde725"
             ]
            ],
            "type": "surface"
           }
          ],
          "table": [
           {
            "cells": {
             "fill": {
              "color": "rgb(237,237,237)"
             },
             "line": {
              "color": "white"
             }
            },
            "header": {
             "fill": {
              "color": "rgb(217,217,217)"
             },
             "line": {
              "color": "white"
             }
            },
            "type": "table"
           }
          ]
         },
         "layout": {
          "annotationdefaults": {
           "arrowhead": 0,
           "arrowwidth": 1
          },
          "autotypenumbers": "strict",
          "coloraxis": {
           "colorbar": {
            "outlinewidth": 1,
            "tickcolor": "rgb(36,36,36)",
            "ticks": "outside"
           }
          },
          "colorscale": {
           "diverging": [
            [
             0,
             "rgb(103,0,31)"
            ],
            [
             0.1,
             "rgb(178,24,43)"
            ],
            [
             0.2,
             "rgb(214,96,77)"
            ],
            [
             0.3,
             "rgb(244,165,130)"
            ],
            [
             0.4,
             "rgb(253,219,199)"
            ],
            [
             0.5,
             "rgb(247,247,247)"
            ],
            [
             0.6,
             "rgb(209,229,240)"
            ],
            [
             0.7,
             "rgb(146,197,222)"
            ],
            [
             0.8,
             "rgb(67,147,195)"
            ],
            [
             0.9,
             "rgb(33,102,172)"
            ],
            [
             1,
             "rgb(5,48,97)"
            ]
           ],
           "sequential": [
            [
             0,
             "#440154"
            ],
            [
             0.1111111111111111,
             "#482878"
            ],
            [
             0.2222222222222222,
             "#3e4989"
            ],
            [
             0.3333333333333333,
             "#31688e"
            ],
            [
             0.4444444444444444,
             "#26828e"
            ],
            [
             0.5555555555555556,
             "#1f9e89"
            ],
            [
             0.6666666666666666,
             "#35b779"
            ],
            [
             0.7777777777777778,
             "#6ece58"
            ],
            [
             0.8888888888888888,
             "#b5de2b"
            ],
            [
             1,
             "#fde725"
            ]
           ],
           "sequentialminus": [
            [
             0,
             "#440154"
            ],
            [
             0.1111111111111111,
             "#482878"
            ],
            [
             0.2222222222222222,
             "#3e4989"
            ],
            [
             0.3333333333333333,
             "#31688e"
            ],
            [
             0.4444444444444444,
             "#26828e"
            ],
            [
             0.5555555555555556,
             "#1f9e89"
            ],
            [
             0.6666666666666666,
             "#35b779"
            ],
            [
             0.7777777777777778,
             "#6ece58"
            ],
            [
             0.8888888888888888,
             "#b5de2b"
            ],
            [
             1,
             "#fde725"
            ]
           ]
          },
          "colorway": [
           "#1F77B4",
           "#FF7F0E",
           "#2CA02C",
           "#D62728",
           "#9467BD",
           "#8C564B",
           "#E377C2",
           "#7F7F7F",
           "#BCBD22",
           "#17BECF"
          ],
          "font": {
           "color": "rgb(36,36,36)"
          },
          "geo": {
           "bgcolor": "white",
           "lakecolor": "white",
           "landcolor": "white",
           "showlakes": true,
           "showland": true,
           "subunitcolor": "white"
          },
          "hoverlabel": {
           "align": "left"
          },
          "hovermode": "closest",
          "mapbox": {
           "style": "light"
          },
          "paper_bgcolor": "white",
          "plot_bgcolor": "white",
          "polar": {
           "angularaxis": {
            "gridcolor": "rgb(232,232,232)",
            "linecolor": "rgb(36,36,36)",
            "showgrid": false,
            "showline": true,
            "ticks": "outside"
           },
           "bgcolor": "white",
           "radialaxis": {
            "gridcolor": "rgb(232,232,232)",
            "linecolor": "rgb(36,36,36)",
            "showgrid": false,
            "showline": true,
            "ticks": "outside"
           }
          },
          "scene": {
           "xaxis": {
            "backgroundcolor": "white",
            "gridcolor": "rgb(232,232,232)",
            "gridwidth": 2,
            "linecolor": "rgb(36,36,36)",
            "showbackground": true,
            "showgrid": false,
            "showline": true,
            "ticks": "outside",
            "zeroline": false,
            "zerolinecolor": "rgb(36,36,36)"
           },
           "yaxis": {
            "backgroundcolor": "white",
            "gridcolor": "rgb(232,232,232)",
            "gridwidth": 2,
            "linecolor": "rgb(36,36,36)",
            "showbackground": true,
            "showgrid": false,
            "showline": true,
            "ticks": "outside",
            "zeroline": false,
            "zerolinecolor": "rgb(36,36,36)"
           },
           "zaxis": {
            "backgroundcolor": "white",
            "gridcolor": "rgb(232,232,232)",
            "gridwidth": 2,
            "linecolor": "rgb(36,36,36)",
            "showbackground": true,
            "showgrid": false,
            "showline": true,
            "ticks": "outside",
            "zeroline": false,
            "zerolinecolor": "rgb(36,36,36)"
           }
          },
          "shapedefaults": {
           "fillcolor": "black",
           "line": {
            "width": 0
           },
           "opacity": 0.3
          },
          "ternary": {
           "aaxis": {
            "gridcolor": "rgb(232,232,232)",
            "linecolor": "rgb(36,36,36)",
            "showgrid": false,
            "showline": true,
            "ticks": "outside"
           },
           "baxis": {
            "gridcolor": "rgb(232,232,232)",
            "linecolor": "rgb(36,36,36)",
            "showgrid": false,
            "showline": true,
            "ticks": "outside"
           },
           "bgcolor": "white",
           "caxis": {
            "gridcolor": "rgb(232,232,232)",
            "linecolor": "rgb(36,36,36)",
            "showgrid": false,
            "showline": true,
            "ticks": "outside"
           }
          },
          "title": {
           "x": 0.05
          },
          "xaxis": {
           "automargin": true,
           "gridcolor": "rgb(232,232,232)",
           "linecolor": "rgb(36,36,36)",
           "showgrid": false,
           "showline": true,
           "ticks": "outside",
           "title": {
            "standoff": 15
           },
           "zeroline": false,
           "zerolinecolor": "rgb(36,36,36)"
          },
          "yaxis": {
           "automargin": true,
           "gridcolor": "rgb(232,232,232)",
           "linecolor": "rgb(36,36,36)",
           "showgrid": false,
           "showline": true,
           "ticks": "outside",
           "title": {
            "standoff": 15
           },
           "zeroline": false,
           "zerolinecolor": "rgb(36,36,36)"
          }
         }
        },
        "title": {
         "font": {
          "color": "Black",
          "size": 22
         },
         "text": "<b>Topics per Class</b>",
         "x": 0.4,
         "xanchor": "center",
         "y": 0.95,
         "yanchor": "top"
        },
        "width": 1250,
        "xaxis": {
         "showgrid": true,
         "title": {
          "text": "Frequency"
         }
        },
        "yaxis": {
         "showgrid": true,
         "title": {
          "text": "Class"
         }
        }
       }
      },
      "text/html": [
       "<div>                            <div id=\"453dc162-9dc4-42e9-872a-bdcfbbde6e22\" class=\"plotly-graph-div\" style=\"height:900px; width:1250px;\"></div>            <script type=\"text/javascript\">                require([\"plotly\"], function(Plotly) {                    window.PLOTLYENV=window.PLOTLYENV || {};                                    if (document.getElementById(\"453dc162-9dc4-42e9-872a-bdcfbbde6e22\")) {                    Plotly.newPlot(                        \"453dc162-9dc4-42e9-872a-bdcfbbde6e22\",                        [{\"hoverinfo\":\"text\",\"hovertext\":[\"<b>Topic 0</b><br>Words: antifa, user, they, the, of\",\"<b>Topic 0</b><br>Words: antifa, fascist, user, they, the\"],\"marker\":{\"color\":\"#E69F00\"},\"name\":\"0_antifa_user_they_the\",\"orientation\":\"h\",\"visible\":true,\"x\":[791,311],\"y\":[0,1],\"type\":\"bar\"},{\"hoverinfo\":\"text\",\"hovertext\":[\"<b>Topic 1</b><br>Words: gun, control, guns, laws, the\",\"<b>Topic 1</b><br>Words: gun, control, guns, laws, the\"],\"marker\":{\"color\":\"#56B4E9\"},\"name\":\"1_gun_control_guns_laws\",\"orientation\":\"h\",\"visible\":\"legendonly\",\"x\":[666,352],\"y\":[0,1],\"type\":\"bar\"},{\"hoverinfo\":\"text\",\"hovertext\":[\"<b>Topic 2</b><br>Words: liberals, they, liberal, user, don\",\"<b>Topic 2</b><br>Words: liberals, liberal, they, are, all\"],\"marker\":{\"color\":\"#009E73\"},\"name\":\"2_liberals_liberal_they_all\",\"orientation\":\"h\",\"visible\":\"legendonly\",\"x\":[235,154],\"y\":[0,1],\"type\":\"bar\"},{\"hoverinfo\":\"text\",\"hovertext\":[\"<b>Topic 3</b><br>Words: right, user, wrong, correct, you\",\"<b>Topic 3</b><br>Words: right, players, user, possible, wrong\"],\"marker\":{\"color\":\"#F0E442\"},\"name\":\"3_right_user_wrong_correct\",\"orientation\":\"h\",\"visible\":\"legendonly\",\"x\":[271,32],\"y\":[0,1],\"type\":\"bar\"},{\"hoverinfo\":\"text\",\"hovertext\":[\"<b>Topic 4</b><br>Words: brexit, labour, housing, tories, uk\",\"<b>Topic 4</b><br>Words: tories, tory, labour, brexit, uk\"],\"marker\":{\"color\":\"#D55E00\"},\"name\":\"4_brexit_labour_tories_housing\",\"orientation\":\"h\",\"visible\":\"legendonly\",\"x\":[178,44],\"y\":[0,1],\"type\":\"bar\"},{\"hoverinfo\":\"text\",\"hovertext\":[\"<b>Topic 5</b><br>Words: kavanaugh, maga, judge, accuser, will\",\"<b>Topic 5</b><br>Words: kavanaugh, judge, maga, will, this\"],\"marker\":{\"color\":\"#0072B2\"},\"name\":\"5_kavanaugh_maga_judge_will\",\"orientation\":\"h\",\"visible\":\"legendonly\",\"x\":[140,77],\"y\":[0,1],\"type\":\"bar\"},{\"hoverinfo\":\"text\",\"hovertext\":[\"<b>Topic 6</b><br>Words: she, is, yes, her, know\",\"<b>Topic 6</b><br>Words: she, is, saved, her, monster\"],\"marker\":{\"color\":\"#CC79A7\"},\"name\":\"6_she_is_yes_her\",\"orientation\":\"h\",\"visible\":\"legendonly\",\"x\":[159,36],\"y\":[0,1],\"type\":\"bar\"},{\"hoverinfo\":\"text\",\"hovertext\":[\"<b>Topic 7</b><br>Words: conservatives, conservative, are, of, they\",\"<b>Topic 7</b><br>Words: conservatives, they, there, hate, are\"],\"marker\":{\"color\":\"#E69F00\"},\"name\":\"7_conservatives_conservative_are_they\",\"orientation\":\"h\",\"visible\":\"legendonly\",\"x\":[151,39],\"y\":[0,1],\"type\":\"bar\"},{\"hoverinfo\":\"text\",\"hovertext\":[\"<b>Topic 8</b><br>Words: user, treph, follow, sanctions, gt\",\"<b>Topic 8</b><br>Words: user, jaws, blow, you, record\"],\"marker\":{\"color\":\"#56B4E9\"},\"name\":\"8_user_treph_follow_sanctions\",\"orientation\":\"h\",\"visible\":\"legendonly\",\"x\":[136,21],\"y\":[0,1],\"type\":\"bar\"},{\"hoverinfo\":\"text\",\"hovertext\":[\"<b>Topic 9</b><br>Words: women, guilty, liberals, sexual, conservatives\",\"<b>Topic 9</b><br>Words: women, sexual, liberals, men, assault\"],\"marker\":{\"color\":\"#009E73\"},\"name\":\"9_women_liberals_sexual_guilty\",\"orientation\":\"h\",\"visible\":\"legendonly\",\"x\":[74,64],\"y\":[0,1],\"type\":\"bar\"}],                        {\"template\":{\"data\":{\"barpolar\":[{\"marker\":{\"line\":{\"color\":\"white\",\"width\":0.5},\"pattern\":{\"fillmode\":\"overlay\",\"size\":10,\"solidity\":0.2}},\"type\":\"barpolar\"}],\"bar\":[{\"error_x\":{\"color\":\"rgb(36,36,36)\"},\"error_y\":{\"color\":\"rgb(36,36,36)\"},\"marker\":{\"line\":{\"color\":\"white\",\"width\":0.5},\"pattern\":{\"fillmode\":\"overlay\",\"size\":10,\"solidity\":0.2}},\"type\":\"bar\"}],\"carpet\":[{\"aaxis\":{\"endlinecolor\":\"rgb(36,36,36)\",\"gridcolor\":\"white\",\"linecolor\":\"white\",\"minorgridcolor\":\"white\",\"startlinecolor\":\"rgb(36,36,36)\"},\"baxis\":{\"endlinecolor\":\"rgb(36,36,36)\",\"gridcolor\":\"white\",\"linecolor\":\"white\",\"minorgridcolor\":\"white\",\"startlinecolor\":\"rgb(36,36,36)\"},\"type\":\"carpet\"}],\"choropleth\":[{\"colorbar\":{\"outlinewidth\":1,\"tickcolor\":\"rgb(36,36,36)\",\"ticks\":\"outside\"},\"type\":\"choropleth\"}],\"contourcarpet\":[{\"colorbar\":{\"outlinewidth\":1,\"tickcolor\":\"rgb(36,36,36)\",\"ticks\":\"outside\"},\"type\":\"contourcarpet\"}],\"contour\":[{\"colorbar\":{\"outlinewidth\":1,\"tickcolor\":\"rgb(36,36,36)\",\"ticks\":\"outside\"},\"colorscale\":[[0.0,\"#440154\"],[0.1111111111111111,\"#482878\"],[0.2222222222222222,\"#3e4989\"],[0.3333333333333333,\"#31688e\"],[0.4444444444444444,\"#26828e\"],[0.5555555555555556,\"#1f9e89\"],[0.6666666666666666,\"#35b779\"],[0.7777777777777778,\"#6ece58\"],[0.8888888888888888,\"#b5de2b\"],[1.0,\"#fde725\"]],\"type\":\"contour\"}],\"heatmapgl\":[{\"colorbar\":{\"outlinewidth\":1,\"tickcolor\":\"rgb(36,36,36)\",\"ticks\":\"outside\"},\"colorscale\":[[0.0,\"#440154\"],[0.1111111111111111,\"#482878\"],[0.2222222222222222,\"#3e4989\"],[0.3333333333333333,\"#31688e\"],[0.4444444444444444,\"#26828e\"],[0.5555555555555556,\"#1f9e89\"],[0.6666666666666666,\"#35b779\"],[0.7777777777777778,\"#6ece58\"],[0.8888888888888888,\"#b5de2b\"],[1.0,\"#fde725\"]],\"type\":\"heatmapgl\"}],\"heatmap\":[{\"colorbar\":{\"outlinewidth\":1,\"tickcolor\":\"rgb(36,36,36)\",\"ticks\":\"outside\"},\"colorscale\":[[0.0,\"#440154\"],[0.1111111111111111,\"#482878\"],[0.2222222222222222,\"#3e4989\"],[0.3333333333333333,\"#31688e\"],[0.4444444444444444,\"#26828e\"],[0.5555555555555556,\"#1f9e89\"],[0.6666666666666666,\"#35b779\"],[0.7777777777777778,\"#6ece58\"],[0.8888888888888888,\"#b5de2b\"],[1.0,\"#fde725\"]],\"type\":\"heatmap\"}],\"histogram2dcontour\":[{\"colorbar\":{\"outlinewidth\":1,\"tickcolor\":\"rgb(36,36,36)\",\"ticks\":\"outside\"},\"colorscale\":[[0.0,\"#440154\"],[0.1111111111111111,\"#482878\"],[0.2222222222222222,\"#3e4989\"],[0.3333333333333333,\"#31688e\"],[0.4444444444444444,\"#26828e\"],[0.5555555555555556,\"#1f9e89\"],[0.6666666666666666,\"#35b779\"],[0.7777777777777778,\"#6ece58\"],[0.8888888888888888,\"#b5de2b\"],[1.0,\"#fde725\"]],\"type\":\"histogram2dcontour\"}],\"histogram2d\":[{\"colorbar\":{\"outlinewidth\":1,\"tickcolor\":\"rgb(36,36,36)\",\"ticks\":\"outside\"},\"colorscale\":[[0.0,\"#440154\"],[0.1111111111111111,\"#482878\"],[0.2222222222222222,\"#3e4989\"],[0.3333333333333333,\"#31688e\"],[0.4444444444444444,\"#26828e\"],[0.5555555555555556,\"#1f9e89\"],[0.6666666666666666,\"#35b779\"],[0.7777777777777778,\"#6ece58\"],[0.8888888888888888,\"#b5de2b\"],[1.0,\"#fde725\"]],\"type\":\"histogram2d\"}],\"histogram\":[{\"marker\":{\"line\":{\"color\":\"white\",\"width\":0.6}},\"type\":\"histogram\"}],\"mesh3d\":[{\"colorbar\":{\"outlinewidth\":1,\"tickcolor\":\"rgb(36,36,36)\",\"ticks\":\"outside\"},\"type\":\"mesh3d\"}],\"parcoords\":[{\"line\":{\"colorbar\":{\"outlinewidth\":1,\"tickcolor\":\"rgb(36,36,36)\",\"ticks\":\"outside\"}},\"type\":\"parcoords\"}],\"pie\":[{\"automargin\":true,\"type\":\"pie\"}],\"scatter3d\":[{\"line\":{\"colorbar\":{\"outlinewidth\":1,\"tickcolor\":\"rgb(36,36,36)\",\"ticks\":\"outside\"}},\"marker\":{\"colorbar\":{\"outlinewidth\":1,\"tickcolor\":\"rgb(36,36,36)\",\"ticks\":\"outside\"}},\"type\":\"scatter3d\"}],\"scattercarpet\":[{\"marker\":{\"colorbar\":{\"outlinewidth\":1,\"tickcolor\":\"rgb(36,36,36)\",\"ticks\":\"outside\"}},\"type\":\"scattercarpet\"}],\"scattergeo\":[{\"marker\":{\"colorbar\":{\"outlinewidth\":1,\"tickcolor\":\"rgb(36,36,36)\",\"ticks\":\"outside\"}},\"type\":\"scattergeo\"}],\"scattergl\":[{\"marker\":{\"colorbar\":{\"outlinewidth\":1,\"tickcolor\":\"rgb(36,36,36)\",\"ticks\":\"outside\"}},\"type\":\"scattergl\"}],\"scattermapbox\":[{\"marker\":{\"colorbar\":{\"outlinewidth\":1,\"tickcolor\":\"rgb(36,36,36)\",\"ticks\":\"outside\"}},\"type\":\"scattermapbox\"}],\"scatterpolargl\":[{\"marker\":{\"colorbar\":{\"outlinewidth\":1,\"tickcolor\":\"rgb(36,36,36)\",\"ticks\":\"outside\"}},\"type\":\"scatterpolargl\"}],\"scatterpolar\":[{\"marker\":{\"colorbar\":{\"outlinewidth\":1,\"tickcolor\":\"rgb(36,36,36)\",\"ticks\":\"outside\"}},\"type\":\"scatterpolar\"}],\"scatter\":[{\"fillpattern\":{\"fillmode\":\"overlay\",\"size\":10,\"solidity\":0.2},\"type\":\"scatter\"}],\"scatterternary\":[{\"marker\":{\"colorbar\":{\"outlinewidth\":1,\"tickcolor\":\"rgb(36,36,36)\",\"ticks\":\"outside\"}},\"type\":\"scatterternary\"}],\"surface\":[{\"colorbar\":{\"outlinewidth\":1,\"tickcolor\":\"rgb(36,36,36)\",\"ticks\":\"outside\"},\"colorscale\":[[0.0,\"#440154\"],[0.1111111111111111,\"#482878\"],[0.2222222222222222,\"#3e4989\"],[0.3333333333333333,\"#31688e\"],[0.4444444444444444,\"#26828e\"],[0.5555555555555556,\"#1f9e89\"],[0.6666666666666666,\"#35b779\"],[0.7777777777777778,\"#6ece58\"],[0.8888888888888888,\"#b5de2b\"],[1.0,\"#fde725\"]],\"type\":\"surface\"}],\"table\":[{\"cells\":{\"fill\":{\"color\":\"rgb(237,237,237)\"},\"line\":{\"color\":\"white\"}},\"header\":{\"fill\":{\"color\":\"rgb(217,217,217)\"},\"line\":{\"color\":\"white\"}},\"type\":\"table\"}]},\"layout\":{\"annotationdefaults\":{\"arrowhead\":0,\"arrowwidth\":1},\"autotypenumbers\":\"strict\",\"coloraxis\":{\"colorbar\":{\"outlinewidth\":1,\"tickcolor\":\"rgb(36,36,36)\",\"ticks\":\"outside\"}},\"colorscale\":{\"diverging\":[[0.0,\"rgb(103,0,31)\"],[0.1,\"rgb(178,24,43)\"],[0.2,\"rgb(214,96,77)\"],[0.3,\"rgb(244,165,130)\"],[0.4,\"rgb(253,219,199)\"],[0.5,\"rgb(247,247,247)\"],[0.6,\"rgb(209,229,240)\"],[0.7,\"rgb(146,197,222)\"],[0.8,\"rgb(67,147,195)\"],[0.9,\"rgb(33,102,172)\"],[1.0,\"rgb(5,48,97)\"]],\"sequential\":[[0.0,\"#440154\"],[0.1111111111111111,\"#482878\"],[0.2222222222222222,\"#3e4989\"],[0.3333333333333333,\"#31688e\"],[0.4444444444444444,\"#26828e\"],[0.5555555555555556,\"#1f9e89\"],[0.6666666666666666,\"#35b779\"],[0.7777777777777778,\"#6ece58\"],[0.8888888888888888,\"#b5de2b\"],[1.0,\"#fde725\"]],\"sequentialminus\":[[0.0,\"#440154\"],[0.1111111111111111,\"#482878\"],[0.2222222222222222,\"#3e4989\"],[0.3333333333333333,\"#31688e\"],[0.4444444444444444,\"#26828e\"],[0.5555555555555556,\"#1f9e89\"],[0.6666666666666666,\"#35b779\"],[0.7777777777777778,\"#6ece58\"],[0.8888888888888888,\"#b5de2b\"],[1.0,\"#fde725\"]]},\"colorway\":[\"#1F77B4\",\"#FF7F0E\",\"#2CA02C\",\"#D62728\",\"#9467BD\",\"#8C564B\",\"#E377C2\",\"#7F7F7F\",\"#BCBD22\",\"#17BECF\"],\"font\":{\"color\":\"rgb(36,36,36)\"},\"geo\":{\"bgcolor\":\"white\",\"lakecolor\":\"white\",\"landcolor\":\"white\",\"showlakes\":true,\"showland\":true,\"subunitcolor\":\"white\"},\"hoverlabel\":{\"align\":\"left\"},\"hovermode\":\"closest\",\"mapbox\":{\"style\":\"light\"},\"paper_bgcolor\":\"white\",\"plot_bgcolor\":\"white\",\"polar\":{\"angularaxis\":{\"gridcolor\":\"rgb(232,232,232)\",\"linecolor\":\"rgb(36,36,36)\",\"showgrid\":false,\"showline\":true,\"ticks\":\"outside\"},\"bgcolor\":\"white\",\"radialaxis\":{\"gridcolor\":\"rgb(232,232,232)\",\"linecolor\":\"rgb(36,36,36)\",\"showgrid\":false,\"showline\":true,\"ticks\":\"outside\"}},\"scene\":{\"xaxis\":{\"backgroundcolor\":\"white\",\"gridcolor\":\"rgb(232,232,232)\",\"gridwidth\":2,\"linecolor\":\"rgb(36,36,36)\",\"showbackground\":true,\"showgrid\":false,\"showline\":true,\"ticks\":\"outside\",\"zeroline\":false,\"zerolinecolor\":\"rgb(36,36,36)\"},\"yaxis\":{\"backgroundcolor\":\"white\",\"gridcolor\":\"rgb(232,232,232)\",\"gridwidth\":2,\"linecolor\":\"rgb(36,36,36)\",\"showbackground\":true,\"showgrid\":false,\"showline\":true,\"ticks\":\"outside\",\"zeroline\":false,\"zerolinecolor\":\"rgb(36,36,36)\"},\"zaxis\":{\"backgroundcolor\":\"white\",\"gridcolor\":\"rgb(232,232,232)\",\"gridwidth\":2,\"linecolor\":\"rgb(36,36,36)\",\"showbackground\":true,\"showgrid\":false,\"showline\":true,\"ticks\":\"outside\",\"zeroline\":false,\"zerolinecolor\":\"rgb(36,36,36)\"}},\"shapedefaults\":{\"fillcolor\":\"black\",\"line\":{\"width\":0},\"opacity\":0.3},\"ternary\":{\"aaxis\":{\"gridcolor\":\"rgb(232,232,232)\",\"linecolor\":\"rgb(36,36,36)\",\"showgrid\":false,\"showline\":true,\"ticks\":\"outside\"},\"baxis\":{\"gridcolor\":\"rgb(232,232,232)\",\"linecolor\":\"rgb(36,36,36)\",\"showgrid\":false,\"showline\":true,\"ticks\":\"outside\"},\"bgcolor\":\"white\",\"caxis\":{\"gridcolor\":\"rgb(232,232,232)\",\"linecolor\":\"rgb(36,36,36)\",\"showgrid\":false,\"showline\":true,\"ticks\":\"outside\"}},\"title\":{\"x\":0.05},\"xaxis\":{\"automargin\":true,\"gridcolor\":\"rgb(232,232,232)\",\"linecolor\":\"rgb(36,36,36)\",\"showgrid\":false,\"showline\":true,\"ticks\":\"outside\",\"title\":{\"standoff\":15},\"zeroline\":false,\"zerolinecolor\":\"rgb(36,36,36)\"},\"yaxis\":{\"automargin\":true,\"gridcolor\":\"rgb(232,232,232)\",\"linecolor\":\"rgb(36,36,36)\",\"showgrid\":false,\"showline\":true,\"ticks\":\"outside\",\"title\":{\"standoff\":15},\"zeroline\":false,\"zerolinecolor\":\"rgb(36,36,36)\"}}},\"xaxis\":{\"showgrid\":true,\"title\":{\"text\":\"Frequency\"}},\"yaxis\":{\"showgrid\":true,\"title\":{\"text\":\"Class\"}},\"title\":{\"font\":{\"size\":22,\"color\":\"Black\"},\"text\":\"<b>Topics per Class</b>\",\"y\":0.95,\"x\":0.4,\"xanchor\":\"center\",\"yanchor\":\"top\"},\"hoverlabel\":{\"font\":{\"size\":16,\"family\":\"Rockwell\"},\"bgcolor\":\"white\"},\"width\":1250,\"height\":900,\"legend\":{\"title\":{\"text\":\"<b>Global Topic Representation\"}}},                        {\"responsive\": true}                    ).then(function(){\n",
       "                            \n",
       "var gd = document.getElementById('453dc162-9dc4-42e9-872a-bdcfbbde6e22');\n",
       "var x = new MutationObserver(function (mutations, observer) {{\n",
       "        var display = window.getComputedStyle(gd).display;\n",
       "        if (!display || display === 'none') {{\n",
       "            console.log([gd, 'removed!']);\n",
       "            Plotly.purge(gd);\n",
       "            observer.disconnect();\n",
       "        }}\n",
       "}});\n",
       "\n",
       "// Listen for the removal of the full notebook cells\n",
       "var notebookContainer = gd.closest('#notebook-container');\n",
       "if (notebookContainer) {{\n",
       "    x.observe(notebookContainer, {childList: true});\n",
       "}}\n",
       "\n",
       "// Listen for the clearing of the current output cell\n",
       "var outputEl = gd.closest('.output');\n",
       "if (outputEl) {{\n",
       "    x.observe(outputEl, {childList: true});\n",
       "}}\n",
       "\n",
       "                        })                };                });            </script>        </div>"
      ]
     },
     "metadata": {},
     "output_type": "display_data"
    }
   ],
   "source": [
    "topics_per_class_train = topic_model.topics_per_class(train_docs, train_classes)\n",
    "topic_model.visualize_topics_per_class(topics_per_class_train)"
   ]
  },
  {
   "cell_type": "code",
   "execution_count": 35,
   "id": "7f349d7c",
   "metadata": {},
   "outputs": [
    {
     "data": {
      "application/vnd.jupyter.widget-view+json": {
       "model_id": "6de91957590f47d08521bc97a4d406cc",
       "version_major": 2,
       "version_minor": 0
      },
      "text/plain": [
       "Batches:   0%|          | 0/27 [00:00<?, ?it/s]"
      ]
     },
     "metadata": {},
     "output_type": "display_data"
    },
    {
     "name": "stderr",
     "output_type": "stream",
     "text": [
      "2023-06-23 22:31:15,995 - BERTopic - Transformed documents to Embeddings\n",
      "2023-06-23 22:31:18,307 - BERTopic - Reduced dimensionality\n",
      "2023-06-23 22:31:18,364 - BERTopic - Clustered reduced embeddings\n",
      "2it [00:00, 57.37it/s]\n"
     ]
    },
    {
     "data": {
      "application/vnd.plotly.v1+json": {
       "config": {
        "plotlyServerURL": "https://plot.ly"
       },
       "data": [
        {
         "hoverinfo": "text",
         "hovertext": [
          "<b>Topic 0</b><br>Words: is, she, you, and, the",
          "<b>Topic 0</b><br>Words: she, you, is, to, and"
         ],
         "marker": {
          "color": "#E69F00"
         },
         "name": "0_she_is_you_and",
         "orientation": "h",
         "type": "bar",
         "visible": true,
         "x": [
          180,
          35
         ],
         "y": [
          0,
          1
         ]
        },
        {
         "hoverinfo": "text",
         "hovertext": [
          "<b>Topic 1</b><br>Words: user, is, he, she, it",
          "<b>Topic 1</b><br>Words: user, is, he, she, how"
         ],
         "marker": {
          "color": "#56B4E9"
         },
         "name": "1_user_is_he_she",
         "orientation": "h",
         "type": "bar",
         "visible": "legendonly",
         "x": [
          51,
          22
         ],
         "y": [
          0,
          1
         ]
        },
        {
         "hoverinfo": "text",
         "hovertext": [
          "<b>Topic 2</b><br>Words: gun, control, user, chicago, the",
          "<b>Topic 2</b><br>Words: gun, control, user, the, to"
         ],
         "marker": {
          "color": "#009E73"
         },
         "name": "2_gun_control_user_chicago",
         "orientation": "h",
         "type": "bar",
         "visible": "legendonly",
         "x": [
          54,
          12
         ],
         "y": [
          0,
          1
         ]
        },
        {
         "hoverinfo": "text",
         "hovertext": [
          "<b>Topic 3</b><br>Words: antifa, the, to, user, and",
          "<b>Topic 3</b><br>Words: antifa, to, of, the, user"
         ],
         "marker": {
          "color": "#F0E442"
         },
         "name": "3_antifa_the_to_of",
         "orientation": "h",
         "type": "bar",
         "visible": "legendonly",
         "x": [
          41,
          19
         ],
         "y": [
          0,
          1
         ]
        },
        {
         "hoverinfo": "text",
         "hovertext": [
          "<b>Topic 4</b><br>Words: kavanaugh, liberals, the, he, to",
          "<b>Topic 4</b><br>Words: kavanaugh, liberals, accuser, evidence, of"
         ],
         "marker": {
          "color": "#D55E00"
         },
         "name": "4_kavanaugh_liberals_he_the",
         "orientation": "h",
         "type": "bar",
         "visible": "legendonly",
         "x": [
          27,
          15
         ],
         "y": [
          0,
          1
         ]
        },
        {
         "hoverinfo": "text",
         "hovertext": [
          "<b>Topic 5</b><br>Words: brexit, eu, the, conservatives, and",
          "<b>Topic 5</b><br>Words: eu, brexit, the, uk, housing"
         ],
         "marker": {
          "color": "#0072B2"
         },
         "name": "5_brexit_eu_the_conservatives",
         "orientation": "h",
         "type": "bar",
         "visible": "legendonly",
         "x": [
          22,
          6
         ],
         "y": [
          0,
          1
         ]
        },
        {
         "hoverinfo": "text",
         "hovertext": [
          "<b>Topic 6</b><br>Words: conservatives, freedom, to, game, vote",
          "<b>Topic 6</b><br>Words: conservatives, they, constitution, garbage, ruining"
         ],
         "marker": {
          "color": "#CC79A7"
         },
         "name": "6_conservatives_to_freedom_are",
         "orientation": "h",
         "type": "bar",
         "visible": "legendonly",
         "x": [
          13,
          6
         ],
         "y": [
          0,
          1
         ]
        },
        {
         "hoverinfo": "text",
         "hovertext": [
          "<b>Topic 7</b><br>Words: maga, liberals, trump, walkaway, laws",
          "<b>Topic 7</b><br>Words: democrats, walkaway, liberals, trump, constantly"
         ],
         "marker": {
          "color": "#E69F00"
         },
         "name": "7_liberals_walkaway_democrats_maga",
         "orientation": "h",
         "type": "bar",
         "visible": "legendonly",
         "x": [
          9,
          10
         ],
         "y": [
          0,
          1
         ]
        },
        {
         "hoverinfo": "text",
         "hovertext": [
          "<b>Topic 8</b><br>Words: you, sales, online, own, traffic",
          "<b>Topic 8</b><br>Words: pursuits, geoffreyowens, levels, understand, career"
         ],
         "marker": {
          "color": "#56B4E9"
         },
         "name": "8_you_sales_online_own",
         "orientation": "h",
         "type": "bar",
         "visible": "legendonly",
         "x": [
          16,
          1
         ],
         "y": [
          0,
          1
         ]
        },
        {
         "hoverinfo": "text",
         "hovertext": [
          "<b>Topic 9</b><br>Words: maga, gop, caps, cult, he",
          "<b>Topic 9</b><br>Words: president, maga, he, the, never"
         ],
         "marker": {
          "color": "#009E73"
         },
         "name": "9_maga_he_president_the",
         "orientation": "h",
         "type": "bar",
         "visible": "legendonly",
         "x": [
          9,
          5
         ],
         "y": [
          0,
          1
         ]
        }
       ],
       "layout": {
        "height": 900,
        "hoverlabel": {
         "bgcolor": "white",
         "font": {
          "family": "Rockwell",
          "size": 16
         }
        },
        "legend": {
         "title": {
          "text": "<b>Global Topic Representation"
         }
        },
        "template": {
         "data": {
          "bar": [
           {
            "error_x": {
             "color": "rgb(36,36,36)"
            },
            "error_y": {
             "color": "rgb(36,36,36)"
            },
            "marker": {
             "line": {
              "color": "white",
              "width": 0.5
             },
             "pattern": {
              "fillmode": "overlay",
              "size": 10,
              "solidity": 0.2
             }
            },
            "type": "bar"
           }
          ],
          "barpolar": [
           {
            "marker": {
             "line": {
              "color": "white",
              "width": 0.5
             },
             "pattern": {
              "fillmode": "overlay",
              "size": 10,
              "solidity": 0.2
             }
            },
            "type": "barpolar"
           }
          ],
          "carpet": [
           {
            "aaxis": {
             "endlinecolor": "rgb(36,36,36)",
             "gridcolor": "white",
             "linecolor": "white",
             "minorgridcolor": "white",
             "startlinecolor": "rgb(36,36,36)"
            },
            "baxis": {
             "endlinecolor": "rgb(36,36,36)",
             "gridcolor": "white",
             "linecolor": "white",
             "minorgridcolor": "white",
             "startlinecolor": "rgb(36,36,36)"
            },
            "type": "carpet"
           }
          ],
          "choropleth": [
           {
            "colorbar": {
             "outlinewidth": 1,
             "tickcolor": "rgb(36,36,36)",
             "ticks": "outside"
            },
            "type": "choropleth"
           }
          ],
          "contour": [
           {
            "colorbar": {
             "outlinewidth": 1,
             "tickcolor": "rgb(36,36,36)",
             "ticks": "outside"
            },
            "colorscale": [
             [
              0,
              "#440154"
             ],
             [
              0.1111111111111111,
              "#482878"
             ],
             [
              0.2222222222222222,
              "#3e4989"
             ],
             [
              0.3333333333333333,
              "#31688e"
             ],
             [
              0.4444444444444444,
              "#26828e"
             ],
             [
              0.5555555555555556,
              "#1f9e89"
             ],
             [
              0.6666666666666666,
              "#35b779"
             ],
             [
              0.7777777777777778,
              "#6ece58"
             ],
             [
              0.8888888888888888,
              "#b5de2b"
             ],
             [
              1,
              "#fde725"
             ]
            ],
            "type": "contour"
           }
          ],
          "contourcarpet": [
           {
            "colorbar": {
             "outlinewidth": 1,
             "tickcolor": "rgb(36,36,36)",
             "ticks": "outside"
            },
            "type": "contourcarpet"
           }
          ],
          "heatmap": [
           {
            "colorbar": {
             "outlinewidth": 1,
             "tickcolor": "rgb(36,36,36)",
             "ticks": "outside"
            },
            "colorscale": [
             [
              0,
              "#440154"
             ],
             [
              0.1111111111111111,
              "#482878"
             ],
             [
              0.2222222222222222,
              "#3e4989"
             ],
             [
              0.3333333333333333,
              "#31688e"
             ],
             [
              0.4444444444444444,
              "#26828e"
             ],
             [
              0.5555555555555556,
              "#1f9e89"
             ],
             [
              0.6666666666666666,
              "#35b779"
             ],
             [
              0.7777777777777778,
              "#6ece58"
             ],
             [
              0.8888888888888888,
              "#b5de2b"
             ],
             [
              1,
              "#fde725"
             ]
            ],
            "type": "heatmap"
           }
          ],
          "heatmapgl": [
           {
            "colorbar": {
             "outlinewidth": 1,
             "tickcolor": "rgb(36,36,36)",
             "ticks": "outside"
            },
            "colorscale": [
             [
              0,
              "#440154"
             ],
             [
              0.1111111111111111,
              "#482878"
             ],
             [
              0.2222222222222222,
              "#3e4989"
             ],
             [
              0.3333333333333333,
              "#31688e"
             ],
             [
              0.4444444444444444,
              "#26828e"
             ],
             [
              0.5555555555555556,
              "#1f9e89"
             ],
             [
              0.6666666666666666,
              "#35b779"
             ],
             [
              0.7777777777777778,
              "#6ece58"
             ],
             [
              0.8888888888888888,
              "#b5de2b"
             ],
             [
              1,
              "#fde725"
             ]
            ],
            "type": "heatmapgl"
           }
          ],
          "histogram": [
           {
            "marker": {
             "line": {
              "color": "white",
              "width": 0.6
             }
            },
            "type": "histogram"
           }
          ],
          "histogram2d": [
           {
            "colorbar": {
             "outlinewidth": 1,
             "tickcolor": "rgb(36,36,36)",
             "ticks": "outside"
            },
            "colorscale": [
             [
              0,
              "#440154"
             ],
             [
              0.1111111111111111,
              "#482878"
             ],
             [
              0.2222222222222222,
              "#3e4989"
             ],
             [
              0.3333333333333333,
              "#31688e"
             ],
             [
              0.4444444444444444,
              "#26828e"
             ],
             [
              0.5555555555555556,
              "#1f9e89"
             ],
             [
              0.6666666666666666,
              "#35b779"
             ],
             [
              0.7777777777777778,
              "#6ece58"
             ],
             [
              0.8888888888888888,
              "#b5de2b"
             ],
             [
              1,
              "#fde725"
             ]
            ],
            "type": "histogram2d"
           }
          ],
          "histogram2dcontour": [
           {
            "colorbar": {
             "outlinewidth": 1,
             "tickcolor": "rgb(36,36,36)",
             "ticks": "outside"
            },
            "colorscale": [
             [
              0,
              "#440154"
             ],
             [
              0.1111111111111111,
              "#482878"
             ],
             [
              0.2222222222222222,
              "#3e4989"
             ],
             [
              0.3333333333333333,
              "#31688e"
             ],
             [
              0.4444444444444444,
              "#26828e"
             ],
             [
              0.5555555555555556,
              "#1f9e89"
             ],
             [
              0.6666666666666666,
              "#35b779"
             ],
             [
              0.7777777777777778,
              "#6ece58"
             ],
             [
              0.8888888888888888,
              "#b5de2b"
             ],
             [
              1,
              "#fde725"
             ]
            ],
            "type": "histogram2dcontour"
           }
          ],
          "mesh3d": [
           {
            "colorbar": {
             "outlinewidth": 1,
             "tickcolor": "rgb(36,36,36)",
             "ticks": "outside"
            },
            "type": "mesh3d"
           }
          ],
          "parcoords": [
           {
            "line": {
             "colorbar": {
              "outlinewidth": 1,
              "tickcolor": "rgb(36,36,36)",
              "ticks": "outside"
             }
            },
            "type": "parcoords"
           }
          ],
          "pie": [
           {
            "automargin": true,
            "type": "pie"
           }
          ],
          "scatter": [
           {
            "fillpattern": {
             "fillmode": "overlay",
             "size": 10,
             "solidity": 0.2
            },
            "type": "scatter"
           }
          ],
          "scatter3d": [
           {
            "line": {
             "colorbar": {
              "outlinewidth": 1,
              "tickcolor": "rgb(36,36,36)",
              "ticks": "outside"
             }
            },
            "marker": {
             "colorbar": {
              "outlinewidth": 1,
              "tickcolor": "rgb(36,36,36)",
              "ticks": "outside"
             }
            },
            "type": "scatter3d"
           }
          ],
          "scattercarpet": [
           {
            "marker": {
             "colorbar": {
              "outlinewidth": 1,
              "tickcolor": "rgb(36,36,36)",
              "ticks": "outside"
             }
            },
            "type": "scattercarpet"
           }
          ],
          "scattergeo": [
           {
            "marker": {
             "colorbar": {
              "outlinewidth": 1,
              "tickcolor": "rgb(36,36,36)",
              "ticks": "outside"
             }
            },
            "type": "scattergeo"
           }
          ],
          "scattergl": [
           {
            "marker": {
             "colorbar": {
              "outlinewidth": 1,
              "tickcolor": "rgb(36,36,36)",
              "ticks": "outside"
             }
            },
            "type": "scattergl"
           }
          ],
          "scattermapbox": [
           {
            "marker": {
             "colorbar": {
              "outlinewidth": 1,
              "tickcolor": "rgb(36,36,36)",
              "ticks": "outside"
             }
            },
            "type": "scattermapbox"
           }
          ],
          "scatterpolar": [
           {
            "marker": {
             "colorbar": {
              "outlinewidth": 1,
              "tickcolor": "rgb(36,36,36)",
              "ticks": "outside"
             }
            },
            "type": "scatterpolar"
           }
          ],
          "scatterpolargl": [
           {
            "marker": {
             "colorbar": {
              "outlinewidth": 1,
              "tickcolor": "rgb(36,36,36)",
              "ticks": "outside"
             }
            },
            "type": "scatterpolargl"
           }
          ],
          "scatterternary": [
           {
            "marker": {
             "colorbar": {
              "outlinewidth": 1,
              "tickcolor": "rgb(36,36,36)",
              "ticks": "outside"
             }
            },
            "type": "scatterternary"
           }
          ],
          "surface": [
           {
            "colorbar": {
             "outlinewidth": 1,
             "tickcolor": "rgb(36,36,36)",
             "ticks": "outside"
            },
            "colorscale": [
             [
              0,
              "#440154"
             ],
             [
              0.1111111111111111,
              "#482878"
             ],
             [
              0.2222222222222222,
              "#3e4989"
             ],
             [
              0.3333333333333333,
              "#31688e"
             ],
             [
              0.4444444444444444,
              "#26828e"
             ],
             [
              0.5555555555555556,
              "#1f9e89"
             ],
             [
              0.6666666666666666,
              "#35b779"
             ],
             [
              0.7777777777777778,
              "#6ece58"
             ],
             [
              0.8888888888888888,
              "#b5de2b"
             ],
             [
              1,
              "#fde725"
             ]
            ],
            "type": "surface"
           }
          ],
          "table": [
           {
            "cells": {
             "fill": {
              "color": "rgb(237,237,237)"
             },
             "line": {
              "color": "white"
             }
            },
            "header": {
             "fill": {
              "color": "rgb(217,217,217)"
             },
             "line": {
              "color": "white"
             }
            },
            "type": "table"
           }
          ]
         },
         "layout": {
          "annotationdefaults": {
           "arrowhead": 0,
           "arrowwidth": 1
          },
          "autotypenumbers": "strict",
          "coloraxis": {
           "colorbar": {
            "outlinewidth": 1,
            "tickcolor": "rgb(36,36,36)",
            "ticks": "outside"
           }
          },
          "colorscale": {
           "diverging": [
            [
             0,
             "rgb(103,0,31)"
            ],
            [
             0.1,
             "rgb(178,24,43)"
            ],
            [
             0.2,
             "rgb(214,96,77)"
            ],
            [
             0.3,
             "rgb(244,165,130)"
            ],
            [
             0.4,
             "rgb(253,219,199)"
            ],
            [
             0.5,
             "rgb(247,247,247)"
            ],
            [
             0.6,
             "rgb(209,229,240)"
            ],
            [
             0.7,
             "rgb(146,197,222)"
            ],
            [
             0.8,
             "rgb(67,147,195)"
            ],
            [
             0.9,
             "rgb(33,102,172)"
            ],
            [
             1,
             "rgb(5,48,97)"
            ]
           ],
           "sequential": [
            [
             0,
             "#440154"
            ],
            [
             0.1111111111111111,
             "#482878"
            ],
            [
             0.2222222222222222,
             "#3e4989"
            ],
            [
             0.3333333333333333,
             "#31688e"
            ],
            [
             0.4444444444444444,
             "#26828e"
            ],
            [
             0.5555555555555556,
             "#1f9e89"
            ],
            [
             0.6666666666666666,
             "#35b779"
            ],
            [
             0.7777777777777778,
             "#6ece58"
            ],
            [
             0.8888888888888888,
             "#b5de2b"
            ],
            [
             1,
             "#fde725"
            ]
           ],
           "sequentialminus": [
            [
             0,
             "#440154"
            ],
            [
             0.1111111111111111,
             "#482878"
            ],
            [
             0.2222222222222222,
             "#3e4989"
            ],
            [
             0.3333333333333333,
             "#31688e"
            ],
            [
             0.4444444444444444,
             "#26828e"
            ],
            [
             0.5555555555555556,
             "#1f9e89"
            ],
            [
             0.6666666666666666,
             "#35b779"
            ],
            [
             0.7777777777777778,
             "#6ece58"
            ],
            [
             0.8888888888888888,
             "#b5de2b"
            ],
            [
             1,
             "#fde725"
            ]
           ]
          },
          "colorway": [
           "#1F77B4",
           "#FF7F0E",
           "#2CA02C",
           "#D62728",
           "#9467BD",
           "#8C564B",
           "#E377C2",
           "#7F7F7F",
           "#BCBD22",
           "#17BECF"
          ],
          "font": {
           "color": "rgb(36,36,36)"
          },
          "geo": {
           "bgcolor": "white",
           "lakecolor": "white",
           "landcolor": "white",
           "showlakes": true,
           "showland": true,
           "subunitcolor": "white"
          },
          "hoverlabel": {
           "align": "left"
          },
          "hovermode": "closest",
          "mapbox": {
           "style": "light"
          },
          "paper_bgcolor": "white",
          "plot_bgcolor": "white",
          "polar": {
           "angularaxis": {
            "gridcolor": "rgb(232,232,232)",
            "linecolor": "rgb(36,36,36)",
            "showgrid": false,
            "showline": true,
            "ticks": "outside"
           },
           "bgcolor": "white",
           "radialaxis": {
            "gridcolor": "rgb(232,232,232)",
            "linecolor": "rgb(36,36,36)",
            "showgrid": false,
            "showline": true,
            "ticks": "outside"
           }
          },
          "scene": {
           "xaxis": {
            "backgroundcolor": "white",
            "gridcolor": "rgb(232,232,232)",
            "gridwidth": 2,
            "linecolor": "rgb(36,36,36)",
            "showbackground": true,
            "showgrid": false,
            "showline": true,
            "ticks": "outside",
            "zeroline": false,
            "zerolinecolor": "rgb(36,36,36)"
           },
           "yaxis": {
            "backgroundcolor": "white",
            "gridcolor": "rgb(232,232,232)",
            "gridwidth": 2,
            "linecolor": "rgb(36,36,36)",
            "showbackground": true,
            "showgrid": false,
            "showline": true,
            "ticks": "outside",
            "zeroline": false,
            "zerolinecolor": "rgb(36,36,36)"
           },
           "zaxis": {
            "backgroundcolor": "white",
            "gridcolor": "rgb(232,232,232)",
            "gridwidth": 2,
            "linecolor": "rgb(36,36,36)",
            "showbackground": true,
            "showgrid": false,
            "showline": true,
            "ticks": "outside",
            "zeroline": false,
            "zerolinecolor": "rgb(36,36,36)"
           }
          },
          "shapedefaults": {
           "fillcolor": "black",
           "line": {
            "width": 0
           },
           "opacity": 0.3
          },
          "ternary": {
           "aaxis": {
            "gridcolor": "rgb(232,232,232)",
            "linecolor": "rgb(36,36,36)",
            "showgrid": false,
            "showline": true,
            "ticks": "outside"
           },
           "baxis": {
            "gridcolor": "rgb(232,232,232)",
            "linecolor": "rgb(36,36,36)",
            "showgrid": false,
            "showline": true,
            "ticks": "outside"
           },
           "bgcolor": "white",
           "caxis": {
            "gridcolor": "rgb(232,232,232)",
            "linecolor": "rgb(36,36,36)",
            "showgrid": false,
            "showline": true,
            "ticks": "outside"
           }
          },
          "title": {
           "x": 0.05
          },
          "xaxis": {
           "automargin": true,
           "gridcolor": "rgb(232,232,232)",
           "linecolor": "rgb(36,36,36)",
           "showgrid": false,
           "showline": true,
           "ticks": "outside",
           "title": {
            "standoff": 15
           },
           "zeroline": false,
           "zerolinecolor": "rgb(36,36,36)"
          },
          "yaxis": {
           "automargin": true,
           "gridcolor": "rgb(232,232,232)",
           "linecolor": "rgb(36,36,36)",
           "showgrid": false,
           "showline": true,
           "ticks": "outside",
           "title": {
            "standoff": 15
           },
           "zeroline": false,
           "zerolinecolor": "rgb(36,36,36)"
          }
         }
        },
        "title": {
         "font": {
          "color": "Black",
          "size": 22
         },
         "text": "<b>Topics per Class</b>",
         "x": 0.4,
         "xanchor": "center",
         "y": 0.95,
         "yanchor": "top"
        },
        "width": 1250,
        "xaxis": {
         "showgrid": true,
         "title": {
          "text": "Frequency"
         }
        },
        "yaxis": {
         "showgrid": true,
         "title": {
          "text": "Class"
         }
        }
       }
      },
      "text/html": [
       "<div>                            <div id=\"ff6e88e7-6aa6-404f-916b-bad04a4104f4\" class=\"plotly-graph-div\" style=\"height:900px; width:1250px;\"></div>            <script type=\"text/javascript\">                require([\"plotly\"], function(Plotly) {                    window.PLOTLYENV=window.PLOTLYENV || {};                                    if (document.getElementById(\"ff6e88e7-6aa6-404f-916b-bad04a4104f4\")) {                    Plotly.newPlot(                        \"ff6e88e7-6aa6-404f-916b-bad04a4104f4\",                        [{\"hoverinfo\":\"text\",\"hovertext\":[\"<b>Topic 0</b><br>Words: is, she, you, and, the\",\"<b>Topic 0</b><br>Words: she, you, is, to, and\"],\"marker\":{\"color\":\"#E69F00\"},\"name\":\"0_she_is_you_and\",\"orientation\":\"h\",\"visible\":true,\"x\":[180,35],\"y\":[0,1],\"type\":\"bar\"},{\"hoverinfo\":\"text\",\"hovertext\":[\"<b>Topic 1</b><br>Words: user, is, he, she, it\",\"<b>Topic 1</b><br>Words: user, is, he, she, how\"],\"marker\":{\"color\":\"#56B4E9\"},\"name\":\"1_user_is_he_she\",\"orientation\":\"h\",\"visible\":\"legendonly\",\"x\":[51,22],\"y\":[0,1],\"type\":\"bar\"},{\"hoverinfo\":\"text\",\"hovertext\":[\"<b>Topic 2</b><br>Words: gun, control, user, chicago, the\",\"<b>Topic 2</b><br>Words: gun, control, user, the, to\"],\"marker\":{\"color\":\"#009E73\"},\"name\":\"2_gun_control_user_chicago\",\"orientation\":\"h\",\"visible\":\"legendonly\",\"x\":[54,12],\"y\":[0,1],\"type\":\"bar\"},{\"hoverinfo\":\"text\",\"hovertext\":[\"<b>Topic 3</b><br>Words: antifa, the, to, user, and\",\"<b>Topic 3</b><br>Words: antifa, to, of, the, user\"],\"marker\":{\"color\":\"#F0E442\"},\"name\":\"3_antifa_the_to_of\",\"orientation\":\"h\",\"visible\":\"legendonly\",\"x\":[41,19],\"y\":[0,1],\"type\":\"bar\"},{\"hoverinfo\":\"text\",\"hovertext\":[\"<b>Topic 4</b><br>Words: kavanaugh, liberals, the, he, to\",\"<b>Topic 4</b><br>Words: kavanaugh, liberals, accuser, evidence, of\"],\"marker\":{\"color\":\"#D55E00\"},\"name\":\"4_kavanaugh_liberals_he_the\",\"orientation\":\"h\",\"visible\":\"legendonly\",\"x\":[27,15],\"y\":[0,1],\"type\":\"bar\"},{\"hoverinfo\":\"text\",\"hovertext\":[\"<b>Topic 5</b><br>Words: brexit, eu, the, conservatives, and\",\"<b>Topic 5</b><br>Words: eu, brexit, the, uk, housing\"],\"marker\":{\"color\":\"#0072B2\"},\"name\":\"5_brexit_eu_the_conservatives\",\"orientation\":\"h\",\"visible\":\"legendonly\",\"x\":[22,6],\"y\":[0,1],\"type\":\"bar\"},{\"hoverinfo\":\"text\",\"hovertext\":[\"<b>Topic 6</b><br>Words: conservatives, freedom, to, game, vote\",\"<b>Topic 6</b><br>Words: conservatives, they, constitution, garbage, ruining\"],\"marker\":{\"color\":\"#CC79A7\"},\"name\":\"6_conservatives_to_freedom_are\",\"orientation\":\"h\",\"visible\":\"legendonly\",\"x\":[13,6],\"y\":[0,1],\"type\":\"bar\"},{\"hoverinfo\":\"text\",\"hovertext\":[\"<b>Topic 7</b><br>Words: maga, liberals, trump, walkaway, laws\",\"<b>Topic 7</b><br>Words: democrats, walkaway, liberals, trump, constantly\"],\"marker\":{\"color\":\"#E69F00\"},\"name\":\"7_liberals_walkaway_democrats_maga\",\"orientation\":\"h\",\"visible\":\"legendonly\",\"x\":[9,10],\"y\":[0,1],\"type\":\"bar\"},{\"hoverinfo\":\"text\",\"hovertext\":[\"<b>Topic 8</b><br>Words: you, sales, online, own, traffic\",\"<b>Topic 8</b><br>Words: pursuits, geoffreyowens, levels, understand, career\"],\"marker\":{\"color\":\"#56B4E9\"},\"name\":\"8_you_sales_online_own\",\"orientation\":\"h\",\"visible\":\"legendonly\",\"x\":[16,1],\"y\":[0,1],\"type\":\"bar\"},{\"hoverinfo\":\"text\",\"hovertext\":[\"<b>Topic 9</b><br>Words: maga, gop, caps, cult, he\",\"<b>Topic 9</b><br>Words: president, maga, he, the, never\"],\"marker\":{\"color\":\"#009E73\"},\"name\":\"9_maga_he_president_the\",\"orientation\":\"h\",\"visible\":\"legendonly\",\"x\":[9,5],\"y\":[0,1],\"type\":\"bar\"}],                        {\"template\":{\"data\":{\"barpolar\":[{\"marker\":{\"line\":{\"color\":\"white\",\"width\":0.5},\"pattern\":{\"fillmode\":\"overlay\",\"size\":10,\"solidity\":0.2}},\"type\":\"barpolar\"}],\"bar\":[{\"error_x\":{\"color\":\"rgb(36,36,36)\"},\"error_y\":{\"color\":\"rgb(36,36,36)\"},\"marker\":{\"line\":{\"color\":\"white\",\"width\":0.5},\"pattern\":{\"fillmode\":\"overlay\",\"size\":10,\"solidity\":0.2}},\"type\":\"bar\"}],\"carpet\":[{\"aaxis\":{\"endlinecolor\":\"rgb(36,36,36)\",\"gridcolor\":\"white\",\"linecolor\":\"white\",\"minorgridcolor\":\"white\",\"startlinecolor\":\"rgb(36,36,36)\"},\"baxis\":{\"endlinecolor\":\"rgb(36,36,36)\",\"gridcolor\":\"white\",\"linecolor\":\"white\",\"minorgridcolor\":\"white\",\"startlinecolor\":\"rgb(36,36,36)\"},\"type\":\"carpet\"}],\"choropleth\":[{\"colorbar\":{\"outlinewidth\":1,\"tickcolor\":\"rgb(36,36,36)\",\"ticks\":\"outside\"},\"type\":\"choropleth\"}],\"contourcarpet\":[{\"colorbar\":{\"outlinewidth\":1,\"tickcolor\":\"rgb(36,36,36)\",\"ticks\":\"outside\"},\"type\":\"contourcarpet\"}],\"contour\":[{\"colorbar\":{\"outlinewidth\":1,\"tickcolor\":\"rgb(36,36,36)\",\"ticks\":\"outside\"},\"colorscale\":[[0.0,\"#440154\"],[0.1111111111111111,\"#482878\"],[0.2222222222222222,\"#3e4989\"],[0.3333333333333333,\"#31688e\"],[0.4444444444444444,\"#26828e\"],[0.5555555555555556,\"#1f9e89\"],[0.6666666666666666,\"#35b779\"],[0.7777777777777778,\"#6ece58\"],[0.8888888888888888,\"#b5de2b\"],[1.0,\"#fde725\"]],\"type\":\"contour\"}],\"heatmapgl\":[{\"colorbar\":{\"outlinewidth\":1,\"tickcolor\":\"rgb(36,36,36)\",\"ticks\":\"outside\"},\"colorscale\":[[0.0,\"#440154\"],[0.1111111111111111,\"#482878\"],[0.2222222222222222,\"#3e4989\"],[0.3333333333333333,\"#31688e\"],[0.4444444444444444,\"#26828e\"],[0.5555555555555556,\"#1f9e89\"],[0.6666666666666666,\"#35b779\"],[0.7777777777777778,\"#6ece58\"],[0.8888888888888888,\"#b5de2b\"],[1.0,\"#fde725\"]],\"type\":\"heatmapgl\"}],\"heatmap\":[{\"colorbar\":{\"outlinewidth\":1,\"tickcolor\":\"rgb(36,36,36)\",\"ticks\":\"outside\"},\"colorscale\":[[0.0,\"#440154\"],[0.1111111111111111,\"#482878\"],[0.2222222222222222,\"#3e4989\"],[0.3333333333333333,\"#31688e\"],[0.4444444444444444,\"#26828e\"],[0.5555555555555556,\"#1f9e89\"],[0.6666666666666666,\"#35b779\"],[0.7777777777777778,\"#6ece58\"],[0.8888888888888888,\"#b5de2b\"],[1.0,\"#fde725\"]],\"type\":\"heatmap\"}],\"histogram2dcontour\":[{\"colorbar\":{\"outlinewidth\":1,\"tickcolor\":\"rgb(36,36,36)\",\"ticks\":\"outside\"},\"colorscale\":[[0.0,\"#440154\"],[0.1111111111111111,\"#482878\"],[0.2222222222222222,\"#3e4989\"],[0.3333333333333333,\"#31688e\"],[0.4444444444444444,\"#26828e\"],[0.5555555555555556,\"#1f9e89\"],[0.6666666666666666,\"#35b779\"],[0.7777777777777778,\"#6ece58\"],[0.8888888888888888,\"#b5de2b\"],[1.0,\"#fde725\"]],\"type\":\"histogram2dcontour\"}],\"histogram2d\":[{\"colorbar\":{\"outlinewidth\":1,\"tickcolor\":\"rgb(36,36,36)\",\"ticks\":\"outside\"},\"colorscale\":[[0.0,\"#440154\"],[0.1111111111111111,\"#482878\"],[0.2222222222222222,\"#3e4989\"],[0.3333333333333333,\"#31688e\"],[0.4444444444444444,\"#26828e\"],[0.5555555555555556,\"#1f9e89\"],[0.6666666666666666,\"#35b779\"],[0.7777777777777778,\"#6ece58\"],[0.8888888888888888,\"#b5de2b\"],[1.0,\"#fde725\"]],\"type\":\"histogram2d\"}],\"histogram\":[{\"marker\":{\"line\":{\"color\":\"white\",\"width\":0.6}},\"type\":\"histogram\"}],\"mesh3d\":[{\"colorbar\":{\"outlinewidth\":1,\"tickcolor\":\"rgb(36,36,36)\",\"ticks\":\"outside\"},\"type\":\"mesh3d\"}],\"parcoords\":[{\"line\":{\"colorbar\":{\"outlinewidth\":1,\"tickcolor\":\"rgb(36,36,36)\",\"ticks\":\"outside\"}},\"type\":\"parcoords\"}],\"pie\":[{\"automargin\":true,\"type\":\"pie\"}],\"scatter3d\":[{\"line\":{\"colorbar\":{\"outlinewidth\":1,\"tickcolor\":\"rgb(36,36,36)\",\"ticks\":\"outside\"}},\"marker\":{\"colorbar\":{\"outlinewidth\":1,\"tickcolor\":\"rgb(36,36,36)\",\"ticks\":\"outside\"}},\"type\":\"scatter3d\"}],\"scattercarpet\":[{\"marker\":{\"colorbar\":{\"outlinewidth\":1,\"tickcolor\":\"rgb(36,36,36)\",\"ticks\":\"outside\"}},\"type\":\"scattercarpet\"}],\"scattergeo\":[{\"marker\":{\"colorbar\":{\"outlinewidth\":1,\"tickcolor\":\"rgb(36,36,36)\",\"ticks\":\"outside\"}},\"type\":\"scattergeo\"}],\"scattergl\":[{\"marker\":{\"colorbar\":{\"outlinewidth\":1,\"tickcolor\":\"rgb(36,36,36)\",\"ticks\":\"outside\"}},\"type\":\"scattergl\"}],\"scattermapbox\":[{\"marker\":{\"colorbar\":{\"outlinewidth\":1,\"tickcolor\":\"rgb(36,36,36)\",\"ticks\":\"outside\"}},\"type\":\"scattermapbox\"}],\"scatterpolargl\":[{\"marker\":{\"colorbar\":{\"outlinewidth\":1,\"tickcolor\":\"rgb(36,36,36)\",\"ticks\":\"outside\"}},\"type\":\"scatterpolargl\"}],\"scatterpolar\":[{\"marker\":{\"colorbar\":{\"outlinewidth\":1,\"tickcolor\":\"rgb(36,36,36)\",\"ticks\":\"outside\"}},\"type\":\"scatterpolar\"}],\"scatter\":[{\"fillpattern\":{\"fillmode\":\"overlay\",\"size\":10,\"solidity\":0.2},\"type\":\"scatter\"}],\"scatterternary\":[{\"marker\":{\"colorbar\":{\"outlinewidth\":1,\"tickcolor\":\"rgb(36,36,36)\",\"ticks\":\"outside\"}},\"type\":\"scatterternary\"}],\"surface\":[{\"colorbar\":{\"outlinewidth\":1,\"tickcolor\":\"rgb(36,36,36)\",\"ticks\":\"outside\"},\"colorscale\":[[0.0,\"#440154\"],[0.1111111111111111,\"#482878\"],[0.2222222222222222,\"#3e4989\"],[0.3333333333333333,\"#31688e\"],[0.4444444444444444,\"#26828e\"],[0.5555555555555556,\"#1f9e89\"],[0.6666666666666666,\"#35b779\"],[0.7777777777777778,\"#6ece58\"],[0.8888888888888888,\"#b5de2b\"],[1.0,\"#fde725\"]],\"type\":\"surface\"}],\"table\":[{\"cells\":{\"fill\":{\"color\":\"rgb(237,237,237)\"},\"line\":{\"color\":\"white\"}},\"header\":{\"fill\":{\"color\":\"rgb(217,217,217)\"},\"line\":{\"color\":\"white\"}},\"type\":\"table\"}]},\"layout\":{\"annotationdefaults\":{\"arrowhead\":0,\"arrowwidth\":1},\"autotypenumbers\":\"strict\",\"coloraxis\":{\"colorbar\":{\"outlinewidth\":1,\"tickcolor\":\"rgb(36,36,36)\",\"ticks\":\"outside\"}},\"colorscale\":{\"diverging\":[[0.0,\"rgb(103,0,31)\"],[0.1,\"rgb(178,24,43)\"],[0.2,\"rgb(214,96,77)\"],[0.3,\"rgb(244,165,130)\"],[0.4,\"rgb(253,219,199)\"],[0.5,\"rgb(247,247,247)\"],[0.6,\"rgb(209,229,240)\"],[0.7,\"rgb(146,197,222)\"],[0.8,\"rgb(67,147,195)\"],[0.9,\"rgb(33,102,172)\"],[1.0,\"rgb(5,48,97)\"]],\"sequential\":[[0.0,\"#440154\"],[0.1111111111111111,\"#482878\"],[0.2222222222222222,\"#3e4989\"],[0.3333333333333333,\"#31688e\"],[0.4444444444444444,\"#26828e\"],[0.5555555555555556,\"#1f9e89\"],[0.6666666666666666,\"#35b779\"],[0.7777777777777778,\"#6ece58\"],[0.8888888888888888,\"#b5de2b\"],[1.0,\"#fde725\"]],\"sequentialminus\":[[0.0,\"#440154\"],[0.1111111111111111,\"#482878\"],[0.2222222222222222,\"#3e4989\"],[0.3333333333333333,\"#31688e\"],[0.4444444444444444,\"#26828e\"],[0.5555555555555556,\"#1f9e89\"],[0.6666666666666666,\"#35b779\"],[0.7777777777777778,\"#6ece58\"],[0.8888888888888888,\"#b5de2b\"],[1.0,\"#fde725\"]]},\"colorway\":[\"#1F77B4\",\"#FF7F0E\",\"#2CA02C\",\"#D62728\",\"#9467BD\",\"#8C564B\",\"#E377C2\",\"#7F7F7F\",\"#BCBD22\",\"#17BECF\"],\"font\":{\"color\":\"rgb(36,36,36)\"},\"geo\":{\"bgcolor\":\"white\",\"lakecolor\":\"white\",\"landcolor\":\"white\",\"showlakes\":true,\"showland\":true,\"subunitcolor\":\"white\"},\"hoverlabel\":{\"align\":\"left\"},\"hovermode\":\"closest\",\"mapbox\":{\"style\":\"light\"},\"paper_bgcolor\":\"white\",\"plot_bgcolor\":\"white\",\"polar\":{\"angularaxis\":{\"gridcolor\":\"rgb(232,232,232)\",\"linecolor\":\"rgb(36,36,36)\",\"showgrid\":false,\"showline\":true,\"ticks\":\"outside\"},\"bgcolor\":\"white\",\"radialaxis\":{\"gridcolor\":\"rgb(232,232,232)\",\"linecolor\":\"rgb(36,36,36)\",\"showgrid\":false,\"showline\":true,\"ticks\":\"outside\"}},\"scene\":{\"xaxis\":{\"backgroundcolor\":\"white\",\"gridcolor\":\"rgb(232,232,232)\",\"gridwidth\":2,\"linecolor\":\"rgb(36,36,36)\",\"showbackground\":true,\"showgrid\":false,\"showline\":true,\"ticks\":\"outside\",\"zeroline\":false,\"zerolinecolor\":\"rgb(36,36,36)\"},\"yaxis\":{\"backgroundcolor\":\"white\",\"gridcolor\":\"rgb(232,232,232)\",\"gridwidth\":2,\"linecolor\":\"rgb(36,36,36)\",\"showbackground\":true,\"showgrid\":false,\"showline\":true,\"ticks\":\"outside\",\"zeroline\":false,\"zerolinecolor\":\"rgb(36,36,36)\"},\"zaxis\":{\"backgroundcolor\":\"white\",\"gridcolor\":\"rgb(232,232,232)\",\"gridwidth\":2,\"linecolor\":\"rgb(36,36,36)\",\"showbackground\":true,\"showgrid\":false,\"showline\":true,\"ticks\":\"outside\",\"zeroline\":false,\"zerolinecolor\":\"rgb(36,36,36)\"}},\"shapedefaults\":{\"fillcolor\":\"black\",\"line\":{\"width\":0},\"opacity\":0.3},\"ternary\":{\"aaxis\":{\"gridcolor\":\"rgb(232,232,232)\",\"linecolor\":\"rgb(36,36,36)\",\"showgrid\":false,\"showline\":true,\"ticks\":\"outside\"},\"baxis\":{\"gridcolor\":\"rgb(232,232,232)\",\"linecolor\":\"rgb(36,36,36)\",\"showgrid\":false,\"showline\":true,\"ticks\":\"outside\"},\"bgcolor\":\"white\",\"caxis\":{\"gridcolor\":\"rgb(232,232,232)\",\"linecolor\":\"rgb(36,36,36)\",\"showgrid\":false,\"showline\":true,\"ticks\":\"outside\"}},\"title\":{\"x\":0.05},\"xaxis\":{\"automargin\":true,\"gridcolor\":\"rgb(232,232,232)\",\"linecolor\":\"rgb(36,36,36)\",\"showgrid\":false,\"showline\":true,\"ticks\":\"outside\",\"title\":{\"standoff\":15},\"zeroline\":false,\"zerolinecolor\":\"rgb(36,36,36)\"},\"yaxis\":{\"automargin\":true,\"gridcolor\":\"rgb(232,232,232)\",\"linecolor\":\"rgb(36,36,36)\",\"showgrid\":false,\"showline\":true,\"ticks\":\"outside\",\"title\":{\"standoff\":15},\"zeroline\":false,\"zerolinecolor\":\"rgb(36,36,36)\"}}},\"xaxis\":{\"showgrid\":true,\"title\":{\"text\":\"Frequency\"}},\"yaxis\":{\"showgrid\":true,\"title\":{\"text\":\"Class\"}},\"title\":{\"font\":{\"size\":22,\"color\":\"Black\"},\"text\":\"<b>Topics per Class</b>\",\"y\":0.95,\"x\":0.4,\"xanchor\":\"center\",\"yanchor\":\"top\"},\"hoverlabel\":{\"font\":{\"size\":16,\"family\":\"Rockwell\"},\"bgcolor\":\"white\"},\"width\":1250,\"height\":900,\"legend\":{\"title\":{\"text\":\"<b>Global Topic Representation\"}}},                        {\"responsive\": true}                    ).then(function(){\n",
       "                            \n",
       "var gd = document.getElementById('ff6e88e7-6aa6-404f-916b-bad04a4104f4');\n",
       "var x = new MutationObserver(function (mutations, observer) {{\n",
       "        var display = window.getComputedStyle(gd).display;\n",
       "        if (!display || display === 'none') {{\n",
       "            console.log([gd, 'removed!']);\n",
       "            Plotly.purge(gd);\n",
       "            observer.disconnect();\n",
       "        }}\n",
       "}});\n",
       "\n",
       "// Listen for the removal of the full notebook cells\n",
       "var notebookContainer = gd.closest('#notebook-container');\n",
       "if (notebookContainer) {{\n",
       "    x.observe(notebookContainer, {childList: true});\n",
       "}}\n",
       "\n",
       "// Listen for the clearing of the current output cell\n",
       "var outputEl = gd.closest('.output');\n",
       "if (outputEl) {{\n",
       "    x.observe(outputEl, {childList: true});\n",
       "}}\n",
       "\n",
       "                        })                };                });            </script>        </div>"
      ]
     },
     "metadata": {},
     "output_type": "display_data"
    }
   ],
   "source": [
    "topic_model_test = BERTopic(language=\"english\", calculate_probabilities=True, verbose=True, embedding_model=\"all-MiniLM-L6-v2\").fit(test_docs)\n",
    "topics_per_class_test = topic_model_test.topics_per_class(test_docs, test_classes)\n",
    "topic_model_test.visualize_topics_per_class(topics_per_class_test)"
   ]
  },
  {
   "cell_type": "code",
   "execution_count": 36,
   "id": "d164c28b",
   "metadata": {},
   "outputs": [
    {
     "data": {
      "application/vnd.jupyter.widget-view+json": {
       "model_id": "c0f6094d0ead4d188241bfb8fb437228",
       "version_major": 2,
       "version_minor": 0
      },
      "text/plain": [
       "Batches:   0%|          | 0/42 [00:00<?, ?it/s]"
      ]
     },
     "metadata": {},
     "output_type": "display_data"
    },
    {
     "name": "stderr",
     "output_type": "stream",
     "text": [
      "2023-06-23 22:31:25,641 - BERTopic - Transformed documents to Embeddings\n",
      "2023-06-23 22:31:28,712 - BERTopic - Reduced dimensionality\n",
      "2023-06-23 22:31:28,781 - BERTopic - Clustered reduced embeddings\n",
      "2it [00:00, 77.32it/s]\n"
     ]
    },
    {
     "data": {
      "application/vnd.plotly.v1+json": {
       "config": {
        "plotlyServerURL": "https://plot.ly"
       },
       "data": [
        {
         "hoverinfo": "text",
         "hovertext": [
          "<b>Topic 0</b><br>Words: user, the, is, to, you",
          "<b>Topic 0</b><br>Words: user, the, is, to, you"
         ],
         "marker": {
          "color": "#E69F00"
         },
         "name": "0_user_the_is_to",
         "orientation": "h",
         "type": "bar",
         "visible": true,
         "x": [
          718,
          356
         ],
         "y": [
          0,
          1
         ]
        },
        {
         "hoverinfo": "text",
         "hovertext": [
          "<b>Topic 1</b><br>Words: user, antifa, the, to, and",
          "<b>Topic 1</b><br>Words: user, antifa, the, and, to"
         ],
         "marker": {
          "color": "#56B4E9"
         },
         "name": "1_user_antifa_the_to",
         "orientation": "h",
         "type": "bar",
         "visible": "legendonly",
         "x": [
          84,
          43
         ],
         "y": [
          0,
          1
         ]
        },
        {
         "hoverinfo": "text",
         "hovertext": [
          "<b>Topic 2</b><br>Words: gun, control, user, the, to",
          "<b>Topic 2</b><br>Words: gun, control, user, the, to"
         ],
         "marker": {
          "color": "#009E73"
         },
         "name": "2_gun_control_user_the",
         "orientation": "h",
         "type": "bar",
         "visible": "legendonly",
         "x": [
          63,
          60
         ],
         "y": [
          0,
          1
         ]
        }
       ],
       "layout": {
        "height": 900,
        "hoverlabel": {
         "bgcolor": "white",
         "font": {
          "family": "Rockwell",
          "size": 16
         }
        },
        "legend": {
         "title": {
          "text": "<b>Global Topic Representation"
         }
        },
        "template": {
         "data": {
          "bar": [
           {
            "error_x": {
             "color": "rgb(36,36,36)"
            },
            "error_y": {
             "color": "rgb(36,36,36)"
            },
            "marker": {
             "line": {
              "color": "white",
              "width": 0.5
             },
             "pattern": {
              "fillmode": "overlay",
              "size": 10,
              "solidity": 0.2
             }
            },
            "type": "bar"
           }
          ],
          "barpolar": [
           {
            "marker": {
             "line": {
              "color": "white",
              "width": 0.5
             },
             "pattern": {
              "fillmode": "overlay",
              "size": 10,
              "solidity": 0.2
             }
            },
            "type": "barpolar"
           }
          ],
          "carpet": [
           {
            "aaxis": {
             "endlinecolor": "rgb(36,36,36)",
             "gridcolor": "white",
             "linecolor": "white",
             "minorgridcolor": "white",
             "startlinecolor": "rgb(36,36,36)"
            },
            "baxis": {
             "endlinecolor": "rgb(36,36,36)",
             "gridcolor": "white",
             "linecolor": "white",
             "minorgridcolor": "white",
             "startlinecolor": "rgb(36,36,36)"
            },
            "type": "carpet"
           }
          ],
          "choropleth": [
           {
            "colorbar": {
             "outlinewidth": 1,
             "tickcolor": "rgb(36,36,36)",
             "ticks": "outside"
            },
            "type": "choropleth"
           }
          ],
          "contour": [
           {
            "colorbar": {
             "outlinewidth": 1,
             "tickcolor": "rgb(36,36,36)",
             "ticks": "outside"
            },
            "colorscale": [
             [
              0,
              "#440154"
             ],
             [
              0.1111111111111111,
              "#482878"
             ],
             [
              0.2222222222222222,
              "#3e4989"
             ],
             [
              0.3333333333333333,
              "#31688e"
             ],
             [
              0.4444444444444444,
              "#26828e"
             ],
             [
              0.5555555555555556,
              "#1f9e89"
             ],
             [
              0.6666666666666666,
              "#35b779"
             ],
             [
              0.7777777777777778,
              "#6ece58"
             ],
             [
              0.8888888888888888,
              "#b5de2b"
             ],
             [
              1,
              "#fde725"
             ]
            ],
            "type": "contour"
           }
          ],
          "contourcarpet": [
           {
            "colorbar": {
             "outlinewidth": 1,
             "tickcolor": "rgb(36,36,36)",
             "ticks": "outside"
            },
            "type": "contourcarpet"
           }
          ],
          "heatmap": [
           {
            "colorbar": {
             "outlinewidth": 1,
             "tickcolor": "rgb(36,36,36)",
             "ticks": "outside"
            },
            "colorscale": [
             [
              0,
              "#440154"
             ],
             [
              0.1111111111111111,
              "#482878"
             ],
             [
              0.2222222222222222,
              "#3e4989"
             ],
             [
              0.3333333333333333,
              "#31688e"
             ],
             [
              0.4444444444444444,
              "#26828e"
             ],
             [
              0.5555555555555556,
              "#1f9e89"
             ],
             [
              0.6666666666666666,
              "#35b779"
             ],
             [
              0.7777777777777778,
              "#6ece58"
             ],
             [
              0.8888888888888888,
              "#b5de2b"
             ],
             [
              1,
              "#fde725"
             ]
            ],
            "type": "heatmap"
           }
          ],
          "heatmapgl": [
           {
            "colorbar": {
             "outlinewidth": 1,
             "tickcolor": "rgb(36,36,36)",
             "ticks": "outside"
            },
            "colorscale": [
             [
              0,
              "#440154"
             ],
             [
              0.1111111111111111,
              "#482878"
             ],
             [
              0.2222222222222222,
              "#3e4989"
             ],
             [
              0.3333333333333333,
              "#31688e"
             ],
             [
              0.4444444444444444,
              "#26828e"
             ],
             [
              0.5555555555555556,
              "#1f9e89"
             ],
             [
              0.6666666666666666,
              "#35b779"
             ],
             [
              0.7777777777777778,
              "#6ece58"
             ],
             [
              0.8888888888888888,
              "#b5de2b"
             ],
             [
              1,
              "#fde725"
             ]
            ],
            "type": "heatmapgl"
           }
          ],
          "histogram": [
           {
            "marker": {
             "line": {
              "color": "white",
              "width": 0.6
             }
            },
            "type": "histogram"
           }
          ],
          "histogram2d": [
           {
            "colorbar": {
             "outlinewidth": 1,
             "tickcolor": "rgb(36,36,36)",
             "ticks": "outside"
            },
            "colorscale": [
             [
              0,
              "#440154"
             ],
             [
              0.1111111111111111,
              "#482878"
             ],
             [
              0.2222222222222222,
              "#3e4989"
             ],
             [
              0.3333333333333333,
              "#31688e"
             ],
             [
              0.4444444444444444,
              "#26828e"
             ],
             [
              0.5555555555555556,
              "#1f9e89"
             ],
             [
              0.6666666666666666,
              "#35b779"
             ],
             [
              0.7777777777777778,
              "#6ece58"
             ],
             [
              0.8888888888888888,
              "#b5de2b"
             ],
             [
              1,
              "#fde725"
             ]
            ],
            "type": "histogram2d"
           }
          ],
          "histogram2dcontour": [
           {
            "colorbar": {
             "outlinewidth": 1,
             "tickcolor": "rgb(36,36,36)",
             "ticks": "outside"
            },
            "colorscale": [
             [
              0,
              "#440154"
             ],
             [
              0.1111111111111111,
              "#482878"
             ],
             [
              0.2222222222222222,
              "#3e4989"
             ],
             [
              0.3333333333333333,
              "#31688e"
             ],
             [
              0.4444444444444444,
              "#26828e"
             ],
             [
              0.5555555555555556,
              "#1f9e89"
             ],
             [
              0.6666666666666666,
              "#35b779"
             ],
             [
              0.7777777777777778,
              "#6ece58"
             ],
             [
              0.8888888888888888,
              "#b5de2b"
             ],
             [
              1,
              "#fde725"
             ]
            ],
            "type": "histogram2dcontour"
           }
          ],
          "mesh3d": [
           {
            "colorbar": {
             "outlinewidth": 1,
             "tickcolor": "rgb(36,36,36)",
             "ticks": "outside"
            },
            "type": "mesh3d"
           }
          ],
          "parcoords": [
           {
            "line": {
             "colorbar": {
              "outlinewidth": 1,
              "tickcolor": "rgb(36,36,36)",
              "ticks": "outside"
             }
            },
            "type": "parcoords"
           }
          ],
          "pie": [
           {
            "automargin": true,
            "type": "pie"
           }
          ],
          "scatter": [
           {
            "fillpattern": {
             "fillmode": "overlay",
             "size": 10,
             "solidity": 0.2
            },
            "type": "scatter"
           }
          ],
          "scatter3d": [
           {
            "line": {
             "colorbar": {
              "outlinewidth": 1,
              "tickcolor": "rgb(36,36,36)",
              "ticks": "outside"
             }
            },
            "marker": {
             "colorbar": {
              "outlinewidth": 1,
              "tickcolor": "rgb(36,36,36)",
              "ticks": "outside"
             }
            },
            "type": "scatter3d"
           }
          ],
          "scattercarpet": [
           {
            "marker": {
             "colorbar": {
              "outlinewidth": 1,
              "tickcolor": "rgb(36,36,36)",
              "ticks": "outside"
             }
            },
            "type": "scattercarpet"
           }
          ],
          "scattergeo": [
           {
            "marker": {
             "colorbar": {
              "outlinewidth": 1,
              "tickcolor": "rgb(36,36,36)",
              "ticks": "outside"
             }
            },
            "type": "scattergeo"
           }
          ],
          "scattergl": [
           {
            "marker": {
             "colorbar": {
              "outlinewidth": 1,
              "tickcolor": "rgb(36,36,36)",
              "ticks": "outside"
             }
            },
            "type": "scattergl"
           }
          ],
          "scattermapbox": [
           {
            "marker": {
             "colorbar": {
              "outlinewidth": 1,
              "tickcolor": "rgb(36,36,36)",
              "ticks": "outside"
             }
            },
            "type": "scattermapbox"
           }
          ],
          "scatterpolar": [
           {
            "marker": {
             "colorbar": {
              "outlinewidth": 1,
              "tickcolor": "rgb(36,36,36)",
              "ticks": "outside"
             }
            },
            "type": "scatterpolar"
           }
          ],
          "scatterpolargl": [
           {
            "marker": {
             "colorbar": {
              "outlinewidth": 1,
              "tickcolor": "rgb(36,36,36)",
              "ticks": "outside"
             }
            },
            "type": "scatterpolargl"
           }
          ],
          "scatterternary": [
           {
            "marker": {
             "colorbar": {
              "outlinewidth": 1,
              "tickcolor": "rgb(36,36,36)",
              "ticks": "outside"
             }
            },
            "type": "scatterternary"
           }
          ],
          "surface": [
           {
            "colorbar": {
             "outlinewidth": 1,
             "tickcolor": "rgb(36,36,36)",
             "ticks": "outside"
            },
            "colorscale": [
             [
              0,
              "#440154"
             ],
             [
              0.1111111111111111,
              "#482878"
             ],
             [
              0.2222222222222222,
              "#3e4989"
             ],
             [
              0.3333333333333333,
              "#31688e"
             ],
             [
              0.4444444444444444,
              "#26828e"
             ],
             [
              0.5555555555555556,
              "#1f9e89"
             ],
             [
              0.6666666666666666,
              "#35b779"
             ],
             [
              0.7777777777777778,
              "#6ece58"
             ],
             [
              0.8888888888888888,
              "#b5de2b"
             ],
             [
              1,
              "#fde725"
             ]
            ],
            "type": "surface"
           }
          ],
          "table": [
           {
            "cells": {
             "fill": {
              "color": "rgb(237,237,237)"
             },
             "line": {
              "color": "white"
             }
            },
            "header": {
             "fill": {
              "color": "rgb(217,217,217)"
             },
             "line": {
              "color": "white"
             }
            },
            "type": "table"
           }
          ]
         },
         "layout": {
          "annotationdefaults": {
           "arrowhead": 0,
           "arrowwidth": 1
          },
          "autotypenumbers": "strict",
          "coloraxis": {
           "colorbar": {
            "outlinewidth": 1,
            "tickcolor": "rgb(36,36,36)",
            "ticks": "outside"
           }
          },
          "colorscale": {
           "diverging": [
            [
             0,
             "rgb(103,0,31)"
            ],
            [
             0.1,
             "rgb(178,24,43)"
            ],
            [
             0.2,
             "rgb(214,96,77)"
            ],
            [
             0.3,
             "rgb(244,165,130)"
            ],
            [
             0.4,
             "rgb(253,219,199)"
            ],
            [
             0.5,
             "rgb(247,247,247)"
            ],
            [
             0.6,
             "rgb(209,229,240)"
            ],
            [
             0.7,
             "rgb(146,197,222)"
            ],
            [
             0.8,
             "rgb(67,147,195)"
            ],
            [
             0.9,
             "rgb(33,102,172)"
            ],
            [
             1,
             "rgb(5,48,97)"
            ]
           ],
           "sequential": [
            [
             0,
             "#440154"
            ],
            [
             0.1111111111111111,
             "#482878"
            ],
            [
             0.2222222222222222,
             "#3e4989"
            ],
            [
             0.3333333333333333,
             "#31688e"
            ],
            [
             0.4444444444444444,
             "#26828e"
            ],
            [
             0.5555555555555556,
             "#1f9e89"
            ],
            [
             0.6666666666666666,
             "#35b779"
            ],
            [
             0.7777777777777778,
             "#6ece58"
            ],
            [
             0.8888888888888888,
             "#b5de2b"
            ],
            [
             1,
             "#fde725"
            ]
           ],
           "sequentialminus": [
            [
             0,
             "#440154"
            ],
            [
             0.1111111111111111,
             "#482878"
            ],
            [
             0.2222222222222222,
             "#3e4989"
            ],
            [
             0.3333333333333333,
             "#31688e"
            ],
            [
             0.4444444444444444,
             "#26828e"
            ],
            [
             0.5555555555555556,
             "#1f9e89"
            ],
            [
             0.6666666666666666,
             "#35b779"
            ],
            [
             0.7777777777777778,
             "#6ece58"
            ],
            [
             0.8888888888888888,
             "#b5de2b"
            ],
            [
             1,
             "#fde725"
            ]
           ]
          },
          "colorway": [
           "#1F77B4",
           "#FF7F0E",
           "#2CA02C",
           "#D62728",
           "#9467BD",
           "#8C564B",
           "#E377C2",
           "#7F7F7F",
           "#BCBD22",
           "#17BECF"
          ],
          "font": {
           "color": "rgb(36,36,36)"
          },
          "geo": {
           "bgcolor": "white",
           "lakecolor": "white",
           "landcolor": "white",
           "showlakes": true,
           "showland": true,
           "subunitcolor": "white"
          },
          "hoverlabel": {
           "align": "left"
          },
          "hovermode": "closest",
          "mapbox": {
           "style": "light"
          },
          "paper_bgcolor": "white",
          "plot_bgcolor": "white",
          "polar": {
           "angularaxis": {
            "gridcolor": "rgb(232,232,232)",
            "linecolor": "rgb(36,36,36)",
            "showgrid": false,
            "showline": true,
            "ticks": "outside"
           },
           "bgcolor": "white",
           "radialaxis": {
            "gridcolor": "rgb(232,232,232)",
            "linecolor": "rgb(36,36,36)",
            "showgrid": false,
            "showline": true,
            "ticks": "outside"
           }
          },
          "scene": {
           "xaxis": {
            "backgroundcolor": "white",
            "gridcolor": "rgb(232,232,232)",
            "gridwidth": 2,
            "linecolor": "rgb(36,36,36)",
            "showbackground": true,
            "showgrid": false,
            "showline": true,
            "ticks": "outside",
            "zeroline": false,
            "zerolinecolor": "rgb(36,36,36)"
           },
           "yaxis": {
            "backgroundcolor": "white",
            "gridcolor": "rgb(232,232,232)",
            "gridwidth": 2,
            "linecolor": "rgb(36,36,36)",
            "showbackground": true,
            "showgrid": false,
            "showline": true,
            "ticks": "outside",
            "zeroline": false,
            "zerolinecolor": "rgb(36,36,36)"
           },
           "zaxis": {
            "backgroundcolor": "white",
            "gridcolor": "rgb(232,232,232)",
            "gridwidth": 2,
            "linecolor": "rgb(36,36,36)",
            "showbackground": true,
            "showgrid": false,
            "showline": true,
            "ticks": "outside",
            "zeroline": false,
            "zerolinecolor": "rgb(36,36,36)"
           }
          },
          "shapedefaults": {
           "fillcolor": "black",
           "line": {
            "width": 0
           },
           "opacity": 0.3
          },
          "ternary": {
           "aaxis": {
            "gridcolor": "rgb(232,232,232)",
            "linecolor": "rgb(36,36,36)",
            "showgrid": false,
            "showline": true,
            "ticks": "outside"
           },
           "baxis": {
            "gridcolor": "rgb(232,232,232)",
            "linecolor": "rgb(36,36,36)",
            "showgrid": false,
            "showline": true,
            "ticks": "outside"
           },
           "bgcolor": "white",
           "caxis": {
            "gridcolor": "rgb(232,232,232)",
            "linecolor": "rgb(36,36,36)",
            "showgrid": false,
            "showline": true,
            "ticks": "outside"
           }
          },
          "title": {
           "x": 0.05
          },
          "xaxis": {
           "automargin": true,
           "gridcolor": "rgb(232,232,232)",
           "linecolor": "rgb(36,36,36)",
           "showgrid": false,
           "showline": true,
           "ticks": "outside",
           "title": {
            "standoff": 15
           },
           "zeroline": false,
           "zerolinecolor": "rgb(36,36,36)"
          },
          "yaxis": {
           "automargin": true,
           "gridcolor": "rgb(232,232,232)",
           "linecolor": "rgb(36,36,36)",
           "showgrid": false,
           "showline": true,
           "ticks": "outside",
           "title": {
            "standoff": 15
           },
           "zeroline": false,
           "zerolinecolor": "rgb(36,36,36)"
          }
         }
        },
        "title": {
         "font": {
          "color": "Black",
          "size": 22
         },
         "text": "<b>Topics per Class</b>",
         "x": 0.4,
         "xanchor": "center",
         "y": 0.95,
         "yanchor": "top"
        },
        "width": 1250,
        "xaxis": {
         "showgrid": true,
         "title": {
          "text": "Frequency"
         }
        },
        "yaxis": {
         "showgrid": true,
         "title": {
          "text": "Class"
         }
        }
       }
      },
      "text/html": [
       "<div>                            <div id=\"41310ea4-e197-4f67-91f2-56488adb3694\" class=\"plotly-graph-div\" style=\"height:900px; width:1250px;\"></div>            <script type=\"text/javascript\">                require([\"plotly\"], function(Plotly) {                    window.PLOTLYENV=window.PLOTLYENV || {};                                    if (document.getElementById(\"41310ea4-e197-4f67-91f2-56488adb3694\")) {                    Plotly.newPlot(                        \"41310ea4-e197-4f67-91f2-56488adb3694\",                        [{\"hoverinfo\":\"text\",\"hovertext\":[\"<b>Topic 0</b><br>Words: user, the, is, to, you\",\"<b>Topic 0</b><br>Words: user, the, is, to, you\"],\"marker\":{\"color\":\"#E69F00\"},\"name\":\"0_user_the_is_to\",\"orientation\":\"h\",\"visible\":true,\"x\":[718,356],\"y\":[0,1],\"type\":\"bar\"},{\"hoverinfo\":\"text\",\"hovertext\":[\"<b>Topic 1</b><br>Words: user, antifa, the, to, and\",\"<b>Topic 1</b><br>Words: user, antifa, the, and, to\"],\"marker\":{\"color\":\"#56B4E9\"},\"name\":\"1_user_antifa_the_to\",\"orientation\":\"h\",\"visible\":\"legendonly\",\"x\":[84,43],\"y\":[0,1],\"type\":\"bar\"},{\"hoverinfo\":\"text\",\"hovertext\":[\"<b>Topic 2</b><br>Words: gun, control, user, the, to\",\"<b>Topic 2</b><br>Words: gun, control, user, the, to\"],\"marker\":{\"color\":\"#009E73\"},\"name\":\"2_gun_control_user_the\",\"orientation\":\"h\",\"visible\":\"legendonly\",\"x\":[63,60],\"y\":[0,1],\"type\":\"bar\"}],                        {\"template\":{\"data\":{\"barpolar\":[{\"marker\":{\"line\":{\"color\":\"white\",\"width\":0.5},\"pattern\":{\"fillmode\":\"overlay\",\"size\":10,\"solidity\":0.2}},\"type\":\"barpolar\"}],\"bar\":[{\"error_x\":{\"color\":\"rgb(36,36,36)\"},\"error_y\":{\"color\":\"rgb(36,36,36)\"},\"marker\":{\"line\":{\"color\":\"white\",\"width\":0.5},\"pattern\":{\"fillmode\":\"overlay\",\"size\":10,\"solidity\":0.2}},\"type\":\"bar\"}],\"carpet\":[{\"aaxis\":{\"endlinecolor\":\"rgb(36,36,36)\",\"gridcolor\":\"white\",\"linecolor\":\"white\",\"minorgridcolor\":\"white\",\"startlinecolor\":\"rgb(36,36,36)\"},\"baxis\":{\"endlinecolor\":\"rgb(36,36,36)\",\"gridcolor\":\"white\",\"linecolor\":\"white\",\"minorgridcolor\":\"white\",\"startlinecolor\":\"rgb(36,36,36)\"},\"type\":\"carpet\"}],\"choropleth\":[{\"colorbar\":{\"outlinewidth\":1,\"tickcolor\":\"rgb(36,36,36)\",\"ticks\":\"outside\"},\"type\":\"choropleth\"}],\"contourcarpet\":[{\"colorbar\":{\"outlinewidth\":1,\"tickcolor\":\"rgb(36,36,36)\",\"ticks\":\"outside\"},\"type\":\"contourcarpet\"}],\"contour\":[{\"colorbar\":{\"outlinewidth\":1,\"tickcolor\":\"rgb(36,36,36)\",\"ticks\":\"outside\"},\"colorscale\":[[0.0,\"#440154\"],[0.1111111111111111,\"#482878\"],[0.2222222222222222,\"#3e4989\"],[0.3333333333333333,\"#31688e\"],[0.4444444444444444,\"#26828e\"],[0.5555555555555556,\"#1f9e89\"],[0.6666666666666666,\"#35b779\"],[0.7777777777777778,\"#6ece58\"],[0.8888888888888888,\"#b5de2b\"],[1.0,\"#fde725\"]],\"type\":\"contour\"}],\"heatmapgl\":[{\"colorbar\":{\"outlinewidth\":1,\"tickcolor\":\"rgb(36,36,36)\",\"ticks\":\"outside\"},\"colorscale\":[[0.0,\"#440154\"],[0.1111111111111111,\"#482878\"],[0.2222222222222222,\"#3e4989\"],[0.3333333333333333,\"#31688e\"],[0.4444444444444444,\"#26828e\"],[0.5555555555555556,\"#1f9e89\"],[0.6666666666666666,\"#35b779\"],[0.7777777777777778,\"#6ece58\"],[0.8888888888888888,\"#b5de2b\"],[1.0,\"#fde725\"]],\"type\":\"heatmapgl\"}],\"heatmap\":[{\"colorbar\":{\"outlinewidth\":1,\"tickcolor\":\"rgb(36,36,36)\",\"ticks\":\"outside\"},\"colorscale\":[[0.0,\"#440154\"],[0.1111111111111111,\"#482878\"],[0.2222222222222222,\"#3e4989\"],[0.3333333333333333,\"#31688e\"],[0.4444444444444444,\"#26828e\"],[0.5555555555555556,\"#1f9e89\"],[0.6666666666666666,\"#35b779\"],[0.7777777777777778,\"#6ece58\"],[0.8888888888888888,\"#b5de2b\"],[1.0,\"#fde725\"]],\"type\":\"heatmap\"}],\"histogram2dcontour\":[{\"colorbar\":{\"outlinewidth\":1,\"tickcolor\":\"rgb(36,36,36)\",\"ticks\":\"outside\"},\"colorscale\":[[0.0,\"#440154\"],[0.1111111111111111,\"#482878\"],[0.2222222222222222,\"#3e4989\"],[0.3333333333333333,\"#31688e\"],[0.4444444444444444,\"#26828e\"],[0.5555555555555556,\"#1f9e89\"],[0.6666666666666666,\"#35b779\"],[0.7777777777777778,\"#6ece58\"],[0.8888888888888888,\"#b5de2b\"],[1.0,\"#fde725\"]],\"type\":\"histogram2dcontour\"}],\"histogram2d\":[{\"colorbar\":{\"outlinewidth\":1,\"tickcolor\":\"rgb(36,36,36)\",\"ticks\":\"outside\"},\"colorscale\":[[0.0,\"#440154\"],[0.1111111111111111,\"#482878\"],[0.2222222222222222,\"#3e4989\"],[0.3333333333333333,\"#31688e\"],[0.4444444444444444,\"#26828e\"],[0.5555555555555556,\"#1f9e89\"],[0.6666666666666666,\"#35b779\"],[0.7777777777777778,\"#6ece58\"],[0.8888888888888888,\"#b5de2b\"],[1.0,\"#fde725\"]],\"type\":\"histogram2d\"}],\"histogram\":[{\"marker\":{\"line\":{\"color\":\"white\",\"width\":0.6}},\"type\":\"histogram\"}],\"mesh3d\":[{\"colorbar\":{\"outlinewidth\":1,\"tickcolor\":\"rgb(36,36,36)\",\"ticks\":\"outside\"},\"type\":\"mesh3d\"}],\"parcoords\":[{\"line\":{\"colorbar\":{\"outlinewidth\":1,\"tickcolor\":\"rgb(36,36,36)\",\"ticks\":\"outside\"}},\"type\":\"parcoords\"}],\"pie\":[{\"automargin\":true,\"type\":\"pie\"}],\"scatter3d\":[{\"line\":{\"colorbar\":{\"outlinewidth\":1,\"tickcolor\":\"rgb(36,36,36)\",\"ticks\":\"outside\"}},\"marker\":{\"colorbar\":{\"outlinewidth\":1,\"tickcolor\":\"rgb(36,36,36)\",\"ticks\":\"outside\"}},\"type\":\"scatter3d\"}],\"scattercarpet\":[{\"marker\":{\"colorbar\":{\"outlinewidth\":1,\"tickcolor\":\"rgb(36,36,36)\",\"ticks\":\"outside\"}},\"type\":\"scattercarpet\"}],\"scattergeo\":[{\"marker\":{\"colorbar\":{\"outlinewidth\":1,\"tickcolor\":\"rgb(36,36,36)\",\"ticks\":\"outside\"}},\"type\":\"scattergeo\"}],\"scattergl\":[{\"marker\":{\"colorbar\":{\"outlinewidth\":1,\"tickcolor\":\"rgb(36,36,36)\",\"ticks\":\"outside\"}},\"type\":\"scattergl\"}],\"scattermapbox\":[{\"marker\":{\"colorbar\":{\"outlinewidth\":1,\"tickcolor\":\"rgb(36,36,36)\",\"ticks\":\"outside\"}},\"type\":\"scattermapbox\"}],\"scatterpolargl\":[{\"marker\":{\"colorbar\":{\"outlinewidth\":1,\"tickcolor\":\"rgb(36,36,36)\",\"ticks\":\"outside\"}},\"type\":\"scatterpolargl\"}],\"scatterpolar\":[{\"marker\":{\"colorbar\":{\"outlinewidth\":1,\"tickcolor\":\"rgb(36,36,36)\",\"ticks\":\"outside\"}},\"type\":\"scatterpolar\"}],\"scatter\":[{\"fillpattern\":{\"fillmode\":\"overlay\",\"size\":10,\"solidity\":0.2},\"type\":\"scatter\"}],\"scatterternary\":[{\"marker\":{\"colorbar\":{\"outlinewidth\":1,\"tickcolor\":\"rgb(36,36,36)\",\"ticks\":\"outside\"}},\"type\":\"scatterternary\"}],\"surface\":[{\"colorbar\":{\"outlinewidth\":1,\"tickcolor\":\"rgb(36,36,36)\",\"ticks\":\"outside\"},\"colorscale\":[[0.0,\"#440154\"],[0.1111111111111111,\"#482878\"],[0.2222222222222222,\"#3e4989\"],[0.3333333333333333,\"#31688e\"],[0.4444444444444444,\"#26828e\"],[0.5555555555555556,\"#1f9e89\"],[0.6666666666666666,\"#35b779\"],[0.7777777777777778,\"#6ece58\"],[0.8888888888888888,\"#b5de2b\"],[1.0,\"#fde725\"]],\"type\":\"surface\"}],\"table\":[{\"cells\":{\"fill\":{\"color\":\"rgb(237,237,237)\"},\"line\":{\"color\":\"white\"}},\"header\":{\"fill\":{\"color\":\"rgb(217,217,217)\"},\"line\":{\"color\":\"white\"}},\"type\":\"table\"}]},\"layout\":{\"annotationdefaults\":{\"arrowhead\":0,\"arrowwidth\":1},\"autotypenumbers\":\"strict\",\"coloraxis\":{\"colorbar\":{\"outlinewidth\":1,\"tickcolor\":\"rgb(36,36,36)\",\"ticks\":\"outside\"}},\"colorscale\":{\"diverging\":[[0.0,\"rgb(103,0,31)\"],[0.1,\"rgb(178,24,43)\"],[0.2,\"rgb(214,96,77)\"],[0.3,\"rgb(244,165,130)\"],[0.4,\"rgb(253,219,199)\"],[0.5,\"rgb(247,247,247)\"],[0.6,\"rgb(209,229,240)\"],[0.7,\"rgb(146,197,222)\"],[0.8,\"rgb(67,147,195)\"],[0.9,\"rgb(33,102,172)\"],[1.0,\"rgb(5,48,97)\"]],\"sequential\":[[0.0,\"#440154\"],[0.1111111111111111,\"#482878\"],[0.2222222222222222,\"#3e4989\"],[0.3333333333333333,\"#31688e\"],[0.4444444444444444,\"#26828e\"],[0.5555555555555556,\"#1f9e89\"],[0.6666666666666666,\"#35b779\"],[0.7777777777777778,\"#6ece58\"],[0.8888888888888888,\"#b5de2b\"],[1.0,\"#fde725\"]],\"sequentialminus\":[[0.0,\"#440154\"],[0.1111111111111111,\"#482878\"],[0.2222222222222222,\"#3e4989\"],[0.3333333333333333,\"#31688e\"],[0.4444444444444444,\"#26828e\"],[0.5555555555555556,\"#1f9e89\"],[0.6666666666666666,\"#35b779\"],[0.7777777777777778,\"#6ece58\"],[0.8888888888888888,\"#b5de2b\"],[1.0,\"#fde725\"]]},\"colorway\":[\"#1F77B4\",\"#FF7F0E\",\"#2CA02C\",\"#D62728\",\"#9467BD\",\"#8C564B\",\"#E377C2\",\"#7F7F7F\",\"#BCBD22\",\"#17BECF\"],\"font\":{\"color\":\"rgb(36,36,36)\"},\"geo\":{\"bgcolor\":\"white\",\"lakecolor\":\"white\",\"landcolor\":\"white\",\"showlakes\":true,\"showland\":true,\"subunitcolor\":\"white\"},\"hoverlabel\":{\"align\":\"left\"},\"hovermode\":\"closest\",\"mapbox\":{\"style\":\"light\"},\"paper_bgcolor\":\"white\",\"plot_bgcolor\":\"white\",\"polar\":{\"angularaxis\":{\"gridcolor\":\"rgb(232,232,232)\",\"linecolor\":\"rgb(36,36,36)\",\"showgrid\":false,\"showline\":true,\"ticks\":\"outside\"},\"bgcolor\":\"white\",\"radialaxis\":{\"gridcolor\":\"rgb(232,232,232)\",\"linecolor\":\"rgb(36,36,36)\",\"showgrid\":false,\"showline\":true,\"ticks\":\"outside\"}},\"scene\":{\"xaxis\":{\"backgroundcolor\":\"white\",\"gridcolor\":\"rgb(232,232,232)\",\"gridwidth\":2,\"linecolor\":\"rgb(36,36,36)\",\"showbackground\":true,\"showgrid\":false,\"showline\":true,\"ticks\":\"outside\",\"zeroline\":false,\"zerolinecolor\":\"rgb(36,36,36)\"},\"yaxis\":{\"backgroundcolor\":\"white\",\"gridcolor\":\"rgb(232,232,232)\",\"gridwidth\":2,\"linecolor\":\"rgb(36,36,36)\",\"showbackground\":true,\"showgrid\":false,\"showline\":true,\"ticks\":\"outside\",\"zeroline\":false,\"zerolinecolor\":\"rgb(36,36,36)\"},\"zaxis\":{\"backgroundcolor\":\"white\",\"gridcolor\":\"rgb(232,232,232)\",\"gridwidth\":2,\"linecolor\":\"rgb(36,36,36)\",\"showbackground\":true,\"showgrid\":false,\"showline\":true,\"ticks\":\"outside\",\"zeroline\":false,\"zerolinecolor\":\"rgb(36,36,36)\"}},\"shapedefaults\":{\"fillcolor\":\"black\",\"line\":{\"width\":0},\"opacity\":0.3},\"ternary\":{\"aaxis\":{\"gridcolor\":\"rgb(232,232,232)\",\"linecolor\":\"rgb(36,36,36)\",\"showgrid\":false,\"showline\":true,\"ticks\":\"outside\"},\"baxis\":{\"gridcolor\":\"rgb(232,232,232)\",\"linecolor\":\"rgb(36,36,36)\",\"showgrid\":false,\"showline\":true,\"ticks\":\"outside\"},\"bgcolor\":\"white\",\"caxis\":{\"gridcolor\":\"rgb(232,232,232)\",\"linecolor\":\"rgb(36,36,36)\",\"showgrid\":false,\"showline\":true,\"ticks\":\"outside\"}},\"title\":{\"x\":0.05},\"xaxis\":{\"automargin\":true,\"gridcolor\":\"rgb(232,232,232)\",\"linecolor\":\"rgb(36,36,36)\",\"showgrid\":false,\"showline\":true,\"ticks\":\"outside\",\"title\":{\"standoff\":15},\"zeroline\":false,\"zerolinecolor\":\"rgb(36,36,36)\"},\"yaxis\":{\"automargin\":true,\"gridcolor\":\"rgb(232,232,232)\",\"linecolor\":\"rgb(36,36,36)\",\"showgrid\":false,\"showline\":true,\"ticks\":\"outside\",\"title\":{\"standoff\":15},\"zeroline\":false,\"zerolinecolor\":\"rgb(36,36,36)\"}}},\"xaxis\":{\"showgrid\":true,\"title\":{\"text\":\"Frequency\"}},\"yaxis\":{\"showgrid\":true,\"title\":{\"text\":\"Class\"}},\"title\":{\"font\":{\"size\":22,\"color\":\"Black\"},\"text\":\"<b>Topics per Class</b>\",\"y\":0.95,\"x\":0.4,\"xanchor\":\"center\",\"yanchor\":\"top\"},\"hoverlabel\":{\"font\":{\"size\":16,\"family\":\"Rockwell\"},\"bgcolor\":\"white\"},\"width\":1250,\"height\":900,\"legend\":{\"title\":{\"text\":\"<b>Global Topic Representation\"}}},                        {\"responsive\": true}                    ).then(function(){\n",
       "                            \n",
       "var gd = document.getElementById('41310ea4-e197-4f67-91f2-56488adb3694');\n",
       "var x = new MutationObserver(function (mutations, observer) {{\n",
       "        var display = window.getComputedStyle(gd).display;\n",
       "        if (!display || display === 'none') {{\n",
       "            console.log([gd, 'removed!']);\n",
       "            Plotly.purge(gd);\n",
       "            observer.disconnect();\n",
       "        }}\n",
       "}});\n",
       "\n",
       "// Listen for the removal of the full notebook cells\n",
       "var notebookContainer = gd.closest('#notebook-container');\n",
       "if (notebookContainer) {{\n",
       "    x.observe(notebookContainer, {childList: true});\n",
       "}}\n",
       "\n",
       "// Listen for the clearing of the current output cell\n",
       "var outputEl = gd.closest('.output');\n",
       "if (outputEl) {{\n",
       "    x.observe(outputEl, {childList: true});\n",
       "}}\n",
       "\n",
       "                        })                };                });            </script>        </div>"
      ]
     },
     "metadata": {},
     "output_type": "display_data"
    }
   ],
   "source": [
    "topic_model_valid = BERTopic(language=\"english\", calculate_probabilities=True, verbose=True, embedding_model=\"all-MiniLM-L6-v2\").fit(valid_docs)\n",
    "topics_per_class_valid = topic_model_valid.topics_per_class(valid_docs, valid_classes)\n",
    "topic_model_valid.visualize_topics_per_class(topics_per_class_valid)"
   ]
  },
  {
   "cell_type": "markdown",
   "id": "bc19c9d2",
   "metadata": {},
   "source": [
    "###  What do you think about the results? How do you think it could impact a model trained on these data?\n",
    "Classes are pretty unbalanced depending on the topic, so we can imagine that the unbalanced distribution of topics may introduce bias."
   ]
  },
  {
   "cell_type": "markdown",
   "id": "1851a20f",
   "metadata": {},
   "source": [
    "## Evaluate a model"
   ]
  },
  {
   "cell_type": "code",
   "execution_count": 59,
   "id": "eecdff8f",
   "metadata": {},
   "outputs": [
    {
     "name": "stderr",
     "output_type": "stream",
     "text": [
      "Asking to truncate to max_length but no maximum length is provided and the model has no predefined maximum length. Default to no truncation.\n"
     ]
    },
    {
     "name": "stdout",
     "output_type": "stream",
     "text": [
      "               precision    recall  f1-score   support\n",
      "\n",
      "Not Offensive       0.88      0.93      0.91       620\n",
      "    Offensive       0.80      0.67      0.73       240\n",
      "\n",
      "     accuracy                           0.86       860\n",
      "    macro avg       0.84      0.80      0.82       860\n",
      " weighted avg       0.86      0.86      0.86       860\n",
      "\n"
     ]
    }
   ],
   "source": [
    "from sklearn.metrics import classification_report\n",
    "from transformers import AutoTokenizer, AutoModelForSequenceClassification\n",
    "import torch\n",
    "\n",
    "tokenizer = AutoTokenizer.from_pretrained(\"cardiffnlp/twitter-roberta-base-offensive\")\n",
    "\n",
    "model = AutoModelForSequenceClassification.from_pretrained(\"cardiffnlp/twitter-roberta-base-offensive\")\n",
    "\n",
    "test_inputs = tokenizer(test_docs.tolist(), return_tensors='pt', truncation=True, padding=True, verbose=True)\n",
    "\n",
    "with torch.no_grad():\n",
    "    logits = model(**test_inputs).logits\n",
    "    predictions = torch.argmax(logits, dim=1)\n",
    "\n",
    "classification_report = classification_report(test_classes, predictions, labels=[0, 1], target_names=['Not Offensive', 'Offensive'])\n",
    "\n",
    "# Print the classification report\n",
    "print(classification_report)"
   ]
  },
  {
   "cell_type": "code",
   "execution_count": 64,
   "id": "d8d5bf12",
   "metadata": {},
   "outputs": [
    {
     "name": "stdout",
     "output_type": "stream",
     "text": [
      "Class 0:\n",
      "Tweet: Are you fucking serious?\n",
      "Score: 0.9010689854621887\n",
      "-----------\n",
      "Tweet: @user I guess that’s where swamp ass originated\n",
      "Score: 0.8939997553825378\n",
      "-----------\n",
      "Tweet: An American Tail really is one of the most underrated animations ever ever ever. Fuck I cried in this scene\n",
      "Score: 0.8576398491859436\n",
      "-----------\n",
      "Tweet: @user @user Bull crap. You know she doesn't care.  She is trying to get attention for her Presidential run.  Do you see any other Senator giving nonsense?  Nope.\n",
      "Score: 0.8492956757545471\n",
      "-----------\n",
      "Tweet: #Room25 is actually incredible, Noname is the shit, always has been,  and I’m seein her in like 5 days in Melbourne. Life is good. Have a nice day.\n",
      "Score: 0.841804027557373\n",
      "-----------\n",
      "Class 1:\n",
      "Tweet: #Liberals / #Democrats THIS is what you stand for. If not, then #WalkAway\n",
      "Score: 0.9338216781616211\n",
      "-----------\n",
      "Tweet: #Liberals Are Reaching Peak Desperation To Call On #PhillipRuddock To Talk With #Turnbull To Convince Him To Help with #WentworthVotes 18 Sept 2018  @user #Auspol #LNP #NSWpol @user  @user @user #LNPMemes\n",
      "Score: 0.919756293296814\n",
      "-----------\n",
      "Tweet: #NoPasaran: Unity demo to oppose the far-right in #London – #antifa #Oct13 — Enough is Enough!\n",
      "Score: 0.9112220406532288\n",
      "-----------\n",
      "Tweet: #BREXIT deal HAS been reached - and will be unveiled at special summit in NOVEMBER, Has @user sold out the #UK to the eu??? She better have not or the @user are finished!! @user\n",
      "Score: 0.9081718325614929\n",
      "-----------\n",
      "Tweet: #America  ... tear down that #Wall! #tcot #partisanship #Trump #thewall #Borderwall #liberty #civilsociety #think #Conservatives #Democrats #Progressives #liberals #Independent #libertarians #GOP #DNC #CriticalThinking\n",
      "Score: 0.895766019821167\n",
      "-----------\n"
     ]
    }
   ],
   "source": [
    "probabilities = torch.softmax(logits, dim=1)\n",
    "\n",
    "# Get the probability scores for each class\n",
    "class_probabilities = probabilities.tolist()\n",
    "\n",
    "# Initialize dictionaries to store misclassified tweets\n",
    "misclassified_tweets = {0: [], 1: []}\n",
    "\n",
    "# Iterate over each test instance\n",
    "for i in range(len(test_classes)):\n",
    "    true_label = test_classes[i]\n",
    "    predicted_label = predictions[i]\n",
    "    predicted_score = class_probabilities[i][predicted_label]\n",
    "    \n",
    "    # Check if the prediction was incorrect\n",
    "    if predicted_label != true_label:\n",
    "        misclassified_tweets[true_label].append((test_docs[i], predicted_score))\n",
    "\n",
    "# Sort the misclassified tweets by the highest score in the wrong class for each class\n",
    "top_misclassified_tweets = {}\n",
    "for class_label in misclassified_tweets:\n",
    "    top_misclassified_tweets[class_label] = sorted(misclassified_tweets[class_label], key=lambda x: x[1], reverse=True)[:5]\n",
    "\n",
    "# Print the top 5 misclassified tweets for each class\n",
    "for class_label in top_misclassified_tweets:\n",
    "    print(f\"Class {class_label}:\")\n",
    "    for tweet, score in top_misclassified_tweets[class_label]:\n",
    "        print(f\"Tweet: {tweet}\")\n",
    "        print(f\"Score: {score}\")\n",
    "        print(\"-----------\")"
   ]
  },
  {
   "cell_type": "markdown",
   "id": "636d3fa6",
   "metadata": {},
   "source": [
    "In our opinion, some of the tweets are wrongly calssified in the Dataset. But we can also assume that the model wrongly classify depending on the topic since a lot of the top wrongly classified tests are related to politics."
   ]
  },
  {
   "cell_type": "code",
   "execution_count": 69,
   "id": "c10abfec",
   "metadata": {},
   "outputs": [
    {
     "name": "stdout",
     "output_type": "stream",
     "text": [
      "Top 10 Confident Offensive Tweets:\n",
      "Tweet: @user nigga are you stupid your trash dont play with him play with your bitch 😂\n",
      "Score: 0.9518308639526367\n",
      "True Label: 1\n",
      "-----------\n",
      "Tweet: #ArianaAsesina? Is that serious?! Holy shit, please your fucking assholes, don't blame someone for the death of other one. She is sad enough for today, don't you see? It isn't fault of none, he had an overdose and died. End. Stop wanting someone to blame, fuckers.\n",
      "Score: 0.9391582012176514\n",
      "True Label: 1\n",
      "-----------\n",
      "Tweet: @user Damn I felt this shit. Why you so loud lol\n",
      "Score: 0.9266200661659241\n",
      "True Label: 1\n",
      "-----------\n",
      "Tweet: $1500 for a phone. You all are fucking dumb.\n",
      "Score: 0.9251351952552795\n",
      "True Label: 1\n",
      "-----------\n",
      "Tweet: All these sick ass ppl from school gave me something and now I have to chug down this nasty drink so it can go away🙃\n",
      "Score: 0.921259343624115\n",
      "True Label: 1\n",
      "-----------\n",
      "Tweet: #SugarDaddy Retweet if you are under 30 and would like share memes with each other and we can talk about dumb shit. Cuz baby I’m broke as shit but this love rich\n",
      "Score: 0.9186577200889587\n",
      "True Label: 1\n",
      "-----------\n",
      "Tweet: #OrrinHatch I can’t believe this sexist , clueless, old fart gets to weigh in on another woman’s charges against a Supreme Court nominee. And he is spouting the same old nasty shit he spewed 20+ years ago against Anita Hill. His time’s up! Good riddance Neanderthal!\n",
      "Score: 0.9172080755233765\n",
      "True Label: 1\n",
      "-----------\n",
      "Tweet: @user fuck\n",
      "Score: 0.9143261909484863\n",
      "True Label: 1\n",
      "-----------\n",
      "Tweet: Anyone who finds M*neta's behavior funny can fuck off and die\n",
      "Score: 0.906802237033844\n",
      "True Label: 1\n",
      "-----------\n",
      "Tweet: @user oh fuck off 😂😂\n",
      "Score: 0.9067296981811523\n",
      "True Label: 1\n",
      "-----------\n",
      "\n",
      "Top 10 Uncertain Tweets:\n",
      "Tweet: #WCW #WCE @user  It’s your special day of the week again. I really miss you and I’m looking forward to see you soon. Don’t forget that I love you. I love you with all my heart because you are my heart! ❤️\n",
      "Score: 0.9806138277053833\n",
      "True Label: 0\n",
      "-----------\n",
      "Tweet: #WELOVESEUNGCHEOL @user   I am happy and proud of the work you have done to train seventeen along with the other members. I see you and you are wonderful and incredible. I really love u ㅠㅠ 💕.\n",
      "Score: 0.9781582355499268\n",
      "True Label: 0\n",
      "-----------\n",
      "Tweet: #NationalDayofEncouragement  #TwitterFamily  You’re amazing just the way you are 💟☮️\n",
      "Score: 0.9777984023094177\n",
      "True Label: 0\n",
      "-----------\n",
      "Tweet: #AskAlly I only say that I adore you and you are a great person, please take care of yourself always❤️\n",
      "Score: 0.9766384959220886\n",
      "True Label: 0\n",
      "-----------\n",
      "Tweet: #WeLoveSergioBecause he is the sweetest guy ever! He loves us so much and I'm so happy to be his fan!\n",
      "Score: 0.9763134121894836\n",
      "True Label: 0\n",
      "-----------\n",
      "Tweet: #TheLadyBam has spoken! ❤ She is simply the BEST! 🙏🏼 #SpreadMaryLove 👠💃 #Onward\n",
      "Score: 0.9762118458747864\n",
      "True Label: 0\n",
      "-----------\n",
      "Tweet: #WCW to @user   I mean hey, she is a great friend and I am more than happy to help with missions and anything else she might need!\n",
      "Score: 0.9747382402420044\n",
      "True Label: 0\n",
      "-----------\n",
      "Tweet: @user @user She is an advocate and model for natural beauty.\n",
      "Score: 0.9742012023925781\n",
      "True Label: 0\n",
      "-----------\n",
      "Tweet: #CTRiders Hope you are enjoying your Friday! If you're looking for a way to enjoy this nice weather this weekend, September is #ReadANewBookMonth and there is nothing like reading a new book on a patio with a nice cup of coffee :) Anyone ready anything interesting this month?\n",
      "Score: 0.9741178154945374\n",
      "True Label: 0\n",
      "-----------\n",
      "Tweet: @user this girl is so talented and she is my best friend because you and Ethan brought us together. Please notice this talent. @user @user @user  please💜🧡💜🧡💜🧡💜🧡💜🧡💜🧡💜🧡💜🧡\n",
      "Score: 0.9740973711013794\n",
      "True Label: 0\n",
      "-----------\n",
      "\n",
      "Top 10 Confident Neutral Tweets:\n",
      "Tweet: @user @user @user @user @user @user Really? The GOP hasn't even seen the letter yet. This sham is as subtle as a banana on a pool table and you won't, cant, see it. DiFi throws a hail Mary @ the 13th hour,  and you cry foul. At elast Ford won't have antifa coming to burn her house down. Dems are going down, hard.\n",
      "Score: 0.5043781399726868\n",
      "True Label: 0\n",
      "Predicted Label: 0\n",
      "-----------\n",
      "Tweet: #RAP is a form of ART! Used to express yourself freely. It does not gv the green light or excuse the behavior of acting like an animal! She is not in the streets of the BX where violence is a way of living. Elevate yourself boo and get on @user level for longevity! #QUEEN👑\n",
      "Score: 0.5050904154777527\n",
      "True Label: 0\n",
      "Predicted Label: 0\n",
      "-----------\n",
      "Tweet: #Democrats..2) we have yet to hear one of these righteous Democrats 'attack and insist' that Ellison resign after 'he' was accused of assault nor have we heard them call for Cory 'Spartacus' Booker to resign after he 'admitted' to sexual assault in 1992..the 'stink' of liberals.\n",
      "Score: 0.5054828524589539\n",
      "True Label: 0\n",
      "Predicted Label: 1\n",
      "-----------\n",
      "Tweet: #Conservatives have no genetic ability to understand #hypocrisy or #irony. Right wing ideology gets ya all twisted in knots. #onpoli  #Ontario  #PartyOfYesteryear  @user  #FraudNation\n",
      "Score: 0.5068148970603943\n",
      "True Label: 1\n",
      "Predicted Label: 1\n",
      "-----------\n",
      "Tweet: #DeclassifyDocuments I love watching liberals like Maria squirm. #Outnumbered\n",
      "Score: 0.5096215009689331\n",
      "True Label: 1\n",
      "Predicted Label: 1\n",
      "-----------\n",
      "Tweet: #Conservatives do NOT represent all Canadians.   They are Authoritarian scum.   #cdnpoli #onpoli\n",
      "Score: 0.510896623134613\n",
      "True Label: 1\n",
      "Predicted Label: 0\n",
      "-----------\n",
      "Tweet: @user #FakeNewsMedia is the #EnemyOfThePeople!  They want to control YOUR minds by controlling what information you get and do not get.  The #1stAmendment may protect #elitist #propaganda but it does not legitimize it or make it palatable to an engaged public.\n",
      "Score: 0.5111042857170105\n",
      "True Label: 0\n",
      "Predicted Label: 0\n",
      "-----------\n",
      "Tweet: #MSNBC #Hardball @user Bingo you are absolutely correct he cannot bring President Obama down. He can’t get over how President Obama humiliated him at the White House correspondents dinner and I can guarantee you that is a definite driver of his hate for President Obama\n",
      "Score: 0.5134412050247192\n",
      "True Label: 1\n",
      "Predicted Label: 0\n",
      "-----------\n",
      "Tweet: #ChristineBlaseyFord was grinding #Kavanaugh at a party almost 40yrs ago.....You gotta love the age, of this ridiculous #MeToo movement   Just swear #Kavanaugh in already and get this over with, before #liberals have an anxiety attack like 11/8/16\n",
      "Score: 0.514531135559082\n",
      "True Label: 1\n",
      "Predicted Label: 0\n",
      "-----------\n",
      "Tweet: #SerenaWilliams Serena was caught cheating with her coach but because it's collaborative she thinks she is not a thief. In her mind the real thief is the umpire who spotted what was going on and called it out. It's like a couple of bank robbers blaming a guard for calling police\n",
      "Score: 0.5146869421005249\n",
      "True Label: 0\n",
      "Predicted Label: 1\n",
      "-----------\n"
     ]
    }
   ],
   "source": [
    "confident_tweets = []\n",
    "uncertain_tweets = []\n",
    "neutral_tweets = []\n",
    "\n",
    "# Iterate over each test instance\n",
    "for i in range(len(test_classes)):\n",
    "    true_label = test_classes[i]\n",
    "    predicted_label = predictions[i]\n",
    "    predicted_score = class_probabilities[i][predicted_label]\n",
    "\n",
    "    # Check if the predicted label is offensive (class 1)\n",
    "    if predicted_label == 1:\n",
    "        confident_tweets.append((test_docs[i], predicted_score, true_label))\n",
    "    # Check if the predicted label is neutral (class 0)\n",
    "    elif predicted_label == 0:\n",
    "        neutral_tweets.append((test_docs[i], predicted_score, true_label))\n",
    "    # Add the uncertain tweets\n",
    "    uncertain_tweets.append((test_docs[i], predicted_score, true_label, predicted_label))\n",
    "\n",
    "# Sort the confident, uncertain, and neutral tweets by the highest confidence score\n",
    "confident_tweets = sorted(confident_tweets, key=lambda x: x[1], reverse=True)[:10]\n",
    "uncertain_tweets = sorted(uncertain_tweets, key=lambda x: abs(0.5 - x[1]))[:10]\n",
    "neutral_tweets = sorted(neutral_tweets, key=lambda x: x[1], reverse=True)[:10]\n",
    "\n",
    "# Print the top 10 confident tweets in class 1 (offensive)\n",
    "print(\"Top 10 Confident Offensive Tweets:\")\n",
    "for tweet, score, true_label in confident_tweets:\n",
    "    print(f\"Tweet: {tweet}\")\n",
    "    print(f\"Score: {score}\")\n",
    "    print(f\"True Label: {true_label}\")\n",
    "    print(\"-----------\")\n",
    "print(\"\")\n",
    "# Print the top 10 uncertain tweets\n",
    "print(\"Top 10 Uncertain Tweets:\")\n",
    "for tweet, score, true_label in neutral_tweets:\n",
    "    print(f\"Tweet: {tweet}\")\n",
    "    print(f\"Score: {score}\")\n",
    "    print(f\"True Label: {true_label}\")\n",
    "    print(\"-----------\")\n",
    "print(\"\")\n",
    "# Print the top 10 confident tweets in class 0 (neutral)\n",
    "print(\"Top 10 Confident Neutral Tweets:\")\n",
    "for tweet, score, true_label, predicted_label in uncertain_tweets:\n",
    "    print(f\"Tweet: {tweet}\")\n",
    "    print(f\"Score: {score}\")\n",
    "    print(f\"True Label: {true_label}\")\n",
    "    print(f\"Predicted Label: {predicted_label}\")\n",
    "    print(\"-----------\")"
   ]
  },
  {
   "cell_type": "markdown",
   "id": "01abaa62",
   "metadata": {},
   "source": [
    "We can see that the model's most confident statement are true, so we can say that this is a good job."
   ]
  },
  {
   "cell_type": "code",
   "execution_count": 110,
   "id": "d02b0ee9",
   "metadata": {},
   "outputs": [
    {
     "name": "stdout",
     "output_type": "stream",
     "text": [
      "Tweet ID: 1410492618790817793\n",
      "Text: YOU BETTER SUCK HIS DICK KOZY I SEE YOU WITH KNUCKLES GET EM GYAAAAL\n",
      "-----------------------\n",
      "Tweet ID: 1410492618769780742\n",
      "Text: I still canr believe it.😭😭😭😭😭\n",
      "-----------------------\n",
      "Tweet ID: 1410492618790686720\n",
      "Text: You should raise the webform....how would they know then that you completed ur medicals\n",
      "-----------------------\n",
      "Tweet ID: 1410492618803335174\n",
      "Text: im tired too but this is so entertaining i cant\n",
      "-----------------------\n",
      "Tweet ID: 1410492618778157059\n",
      "Text: Fuckof\n",
      "-----------------------\n",
      "Tweet ID: 1410492618803486720\n",
      "Text: People 😋\n",
      "-----------------------\n",
      "Tweet ID: 1410492622972588038\n",
      "Text: Even if they didn’t exploit people to acquire their riches, how are you gonna be okay literally wasting thousands and thousands of dollars while there are still people who are homeless? While there are people skipping life saving medical treatments bc of the cost?\n",
      "-----------------------\n",
      "Tweet ID: 1410492627166838788\n",
      "Text: He rather have used the cash to buy some clothes that dont resemble a duvet.\n",
      "-----------------------\n",
      "Tweet ID: 1410492627175104512\n",
      "Text: Baret\n",
      "-----------------------\n",
      "Tweet ID: 1410492627175284737\n",
      "Text: Bloody awesome!\n",
      "-----------------------\n",
      "Tweet ID: 1410492627191926789\n",
      "Text: Not news should of spoken to regional ICU nurses. Duct tape and head scratching in the old ICUs\n",
      "-----------------------\n",
      "Tweet ID: 1410492631369621504\n",
      "Text: Good one bro\n",
      "-----------------------\n",
      "Tweet ID: 1410492631365287940\n",
      "Text: Twitter down\n",
      "-----------------------\n",
      "Tweet ID: 1410492631357009925\n",
      "Text: I guess looking at interannotator metrics such as fleiss kappa may be useful to understand how consistent they are? You could look at some kind of document similarity to infer information about the related pages?\n",
      "-----------------------\n",
      "Tweet ID: 1410492631369490433\n",
      "Text: Dude you could've just saved the image as a png\n",
      "-----------------------\n",
      "Tweet ID: 1410492631382052865\n",
      "Text: Make up, dress up, like a princess \n",
      "for him slapping, crawl over his groin, all reminds you of being just his whore.\n",
      "I love that feeling, and where I belong to\n",
      "-----------------------\n",
      "Tweet ID: 1410492635551191046\n",
      "Text: agree.\n",
      "-----------------------\n",
      "Tweet ID: 1410492635563757573\n",
      "Text: Film out, your eyes tell, Light, stay gold, crystal snow, don’t leave me, let go, bnyk sihh\n",
      "-----------------------\n",
      "Tweet ID: 1410492635551260674\n",
      "Text: Haa i understood. Chill just animes.. we all have our own favs..\n",
      "-----------------------\n",
      "Tweet ID: 1410492635580612609\n",
      "Text: I met my GF in Feb 20 just before the madness ensued. It has been a long distance relationship since, me in Dublin and her in Mexico, with visits in between. Hopefully we can be together long term soon.\n",
      "-----------------------\n",
      "Tweet ID: 1410492635563712522\n",
      "Text: Coalition Motorbike Strike Monywa\n",
      "#July1Coup \n",
      "#WhatsHappeningInMyanmar\n",
      "#MilkTeaAlliance http\n",
      "-----------------------\n",
      "Tweet ID: 1410492639762436096\n",
      "Text: Louis Burns - Young Mopes\n",
      "-----------------------\n",
      "Tweet ID: 1410492639774797830\n",
      "Text: the only thing i can imagine is him sitting on it\n",
      "-----------------------\n",
      "Tweet ID: 1410492639758139392\n",
      "Text: Nigga said Da Baby look like a PT Cruiser No fucking way😭😭😭😭😭😭\n",
      "-----------------------\n",
      "Tweet ID: 1410492643952365568\n",
      "Text: you calling me pissbaby summoned me here ihy\n",
      "-----------------------\n",
      "Tweet ID: 1410492643956518912\n",
      "Text: Anyone getting married or recently married watch it 🤸\n",
      "-----------------------\n",
      "Tweet ID: 1410492648150814735\n",
      "Text: Correction: Eastern WA will see *smoke from the #LavaFire in CA\n",
      "-----------------------\n",
      "Tweet ID: 1410492648129892352\n",
      "Text: keep my name out of your mouth 😒\n",
      "-----------------------\n",
      "Tweet ID: 1410492648150814744\n",
      "Text: it feels like she breaks the wall for so free\n",
      "-----------------------\n",
      "Tweet ID: 1410492652332716033\n",
      "Text: Great African..Please check out our website at http\n",
      "-----------------------\n",
      "Tweet ID: 1410492652340932610\n",
      "Text: Fb+rt tysm\n",
      "-----------------------\n",
      "Tweet ID: 1410492656518635522\n",
      "Text: Amen 🙏\n",
      "-----------------------\n",
      "Tweet ID: 1410492656526917632\n",
      "Text: Wait what do you mean and a head-\n",
      "-----------------------\n",
      "Tweet ID: 1410492656552185856\n",
      "Text: Absolutely fuckin gorgeous 😍\n",
      "-----------------------\n",
      "Tweet ID: 1410492656543797249\n",
      "Text: Go to @user\n",
      "-----------------------\n",
      "Tweet ID: 1410492656526839808\n",
      "Text: pain😔\n",
      "-----------------------\n",
      "Tweet ID: 1410492656539553796\n",
      "Text: no but fr they rlly had a 6+ hour standoff with a fucking snake and never once said “yk lets just shoot it” its not like we need that thing alive nor should that child be given back his “pet”\n",
      "-----------------------\n",
      "Tweet ID: 1410492656531099648\n",
      "Text: setiap lihat teman2ku baru main hades and they’re feeing horny for no reason yeah that’s the point babe this game and the fandom are so horny\n",
      "-----------------------\n",
      "Tweet ID: 1410492660746526720\n",
      "Text: Snitches\n",
      "-----------------------\n",
      "Tweet ID: 1410492660733730819\n",
      "Text: nothing really happened qisnaoakq it's just the one where haechan took a pic with the same op again in this fansign🤧\n",
      "-----------------------\n",
      "Tweet ID: 1410492660742250497\n",
      "Text: likes are public??\n",
      "-----------------------\n",
      "Tweet ID: 1410492660746362885\n",
      "Text: Plugnet for the win... 🤑🤑\n",
      "-----------------------\n",
      "Tweet ID: 1410492660750512130\n",
      "Text: HOTTEST CONTENT🔥🔥 SEXY POSTURES 🥵🥵\n",
      "It worth more then of now, get more subscribers by getting featured with us💫\n",
      "And get limelight ✨of 5 million+ network \n",
      "DM us love❤️❤️\n",
      "http\n",
      "-----------------------\n",
      "Tweet ID: 1410492664928038916\n",
      "Text: Happy ca day 🌸\n",
      "-----------------------\n",
      "Tweet ID: 1410492669109886983\n",
      "Text: / everywhere i go i see his face\n",
      "-----------------------\n",
      "Tweet ID: 1410492669113995265\n",
      "Text: pusing\n",
      "-----------------------\n",
      "Tweet ID: 1410492673308303367\n",
      "Text: lanjiao lockdown so long d cases now still fucking high\n",
      "-----------------------\n",
      "Tweet ID: 1410492673320886274\n",
      "Text: muge is so ungrateful and cringey bro\n",
      "-----------------------\n",
      "Tweet ID: 1410492673304133634\n",
      "Text: Free Britney\n",
      "-----------------------\n",
      "Tweet ID: 1410492673295740929\n",
      "Text: beautiful\n",
      "-----------------------\n",
      "Tweet ID: 1410492673312526339\n",
      "Text: ….you’re fuking lying no way\n",
      "-----------------------\n",
      "Tweet ID: 1410492673295896577\n",
      "Text: i blame YOU\n",
      "-----------------------\n",
      "Tweet ID: 1410492677502554112\n",
      "Text: if they don’t perform i swear to god i will literally fly there and make them\n",
      "-----------------------\n",
      "Tweet ID: 1410492681709666306\n",
      "Text: Ouch\n",
      "-----------------------\n",
      "Tweet ID: 1410492681688698884\n",
      "Text: literally\n",
      "-----------------------\n",
      "Tweet ID: 1410492681717907459\n",
      "Text: Thank you🤧❤️\n",
      "-----------------------\n",
      "Tweet ID: 1410492681701105667\n",
      "Text: hi loml\n",
      "-----------------------\n",
      "Tweet ID: 1410492685891346432\n",
      "Text: if I'm louder, would you see me??????\n",
      "-----------------------\n",
      "Tweet ID: 1410492685916377093\n",
      "Text: Wow. 121 celsius, surprised all of BC not fried \n",
      "\n",
      ":wink:\n",
      "-----------------------\n",
      "Tweet ID: 1410492685899665410\n",
      "Text: He found that video of you!\n",
      "-----------------------\n",
      "Tweet ID: 1410492685899681792\n",
      "Text: what’s this 😂😂😂\n",
      "-----------------------\n",
      "Tweet ID: 1410492685899616256\n",
      "Text: Thank u raa\n",
      "-----------------------\n",
      "Tweet ID: 1410492685887094784\n",
      "Text: VOTE FOR CHANGBIN RN\n",
      "-----------------------\n",
      "Tweet ID: 1410492690106503169\n",
      "Text: wish me luck! #ShopeexTreasure #AdaTreasurediShopee #ShopeeTreasureTeume\n",
      "\n",
      "1468\n",
      "-----------------------\n",
      "Tweet ID: 1410492690085695492\n",
      "Text: yeah you do 💔\n",
      "-----------------------\n",
      "Tweet ID: 1410492694275575809\n",
      "Text: This is a man thing? I keep finding out I'm a man lately 😂\n",
      "-----------------------\n",
      "Tweet ID: 1410492698486882304\n",
      "Text: Do you even know what a proper midfielder is? Plz go to sleep.\n",
      "-----------------------\n",
      "Tweet ID: 1410492698482642945\n",
      "Text: thank you for the follow\n",
      "-----------------------\n",
      "Tweet ID: 1410492698495234051\n",
      "Text: Good morning Molly, it is a lovely looking day outside, my chores that I hope to get done around the house include:strimming, painting and spraying the weeds (I'm going to try &amp; get Weeguy to give me a hand). Do you have any plans  Have a blessed day sister ❤️🙏🏻🙏🏻🙏🏻❤️🥰\n",
      "-----------------------\n",
      "Tweet ID: 1410492702659989512\n",
      "Text: so much black\n",
      "-----------------------\n",
      "Tweet ID: 1410492702655873024\n",
      "Text: ⠀⠀⠀\"Tell me then, YOU BROKEDICK SON OF A BITCH!!! HOW IMPORTANT ARE YOU TO MY LOVER THAT YOU HAVE A RIGHT TO TELL HER ANYTHING YOU SAID?!\"\n",
      "-----------------------\n",
      "Tweet ID: 1410492702664310784\n",
      "Text: They're in Scotland, think only 30 invited so they all know everything about each other\n",
      "-----------------------\n",
      "Tweet ID: 1410492706883731457\n",
      "Text: feeling so sexy and principled at my horrifically corrupt and unfulfilling blue collar job\n",
      "-----------------------\n",
      "Tweet ID: 1410492706858553344\n",
      "Text: Do we have tags for aespa perf on wcif today?\n",
      "-----------------------\n",
      "Tweet ID: 1410492706858672132\n",
      "Text: Do you even support Liverpool?\n",
      "-----------------------\n",
      "Tweet ID: 1410492706854342656\n",
      "Text: Wtb ticket bubble Stray kids\n",
      "-----------------------\n",
      "Tweet ID: 1410492706875330560\n",
      "Text: im just neww its @user\n",
      "-----------------------\n",
      "Tweet ID: 1410492706862870529\n",
      "Text: Tried and tested 😂😂😂\n",
      "-----------------------\n",
      "Tweet ID: 1410492706871156741\n",
      "Text: the day my lungs gonna collapse 😭😭\n",
      "-----------------------\n",
      "Tweet ID: 1410492706854346752\n",
      "Text: omg I feel acknowledged, that dollar or whatever was worth it\n",
      "-----------------------\n",
      "Tweet ID: 1410492706887929857\n",
      "Text: have a nice day guys.I wish you the best of everything! Thank you very much. Best innovative work ever.Good luck and all the best.This is a wonderful opportunity🤟🥳🚀\n",
      "\n",
      "@user\n",
      "@user\n",
      "@user\n",
      "@user\n",
      "@user\n",
      "@user\n",
      "#Airdrop #Solana #KIN\n",
      "-----------------------\n",
      "Tweet ID: 1410492711061180425\n",
      "Text: Come one come all into 6988\n",
      "-----------------------\n",
      "Tweet ID: 1410492711048646658\n",
      "Text: u blush when u talk to me stop denying it\n",
      "-----------------------\n",
      "Tweet ID: 1410492711052795907\n",
      "Text: Great thought\n",
      "-----------------------\n",
      "Tweet ID: 1410492711082160135\n",
      "Text: noah was just an employee/spy of davianna's family then\n",
      "-----------------------\n",
      "Tweet ID: 1410492711052873729\n",
      "Text: tempered emotion?\n",
      "-----------------------\n",
      "Tweet ID: 1410492711065600001\n",
      "Text: A huge thank you to Thomas Lemberger and Sara Monaco for the great discussion on @user at the YIP Annual Meeting yesterday!\n",
      "#YIPAnnual2021\n",
      "-----------------------\n",
      "Tweet ID: 1410492715251470336\n",
      "Text: I'm gonna try my best! \n",
      "http\n",
      "-----------------------\n",
      "Tweet ID: 1410492715276591104\n",
      "Text: Yeaa...\n",
      "-----------------------\n",
      "Tweet ID: 1410492715251363841\n",
      "Text: It is our attitude at the beginning of a difficult task which, more than anything else, will affect its successful outcome. \n",
      " #CathyDollXGulf\n",
      "-----------------------\n",
      "Tweet ID: 1410492723665072128\n",
      "Text: Axie together strong\n",
      "-----------------------\n",
      "Tweet ID: 1410492723639898112\n",
      "Text: To be fair, with the capabilities of the RL-10 and its low thrust. I doubt there is a more accurate vehicle. Mvac is too powerful for long slow accurate burns. Still, you always hear nominal orbital insertion. I don't really think SpaceX has an accuracy problem.\n",
      "-----------------------\n",
      "Tweet ID: 1410492723627450368\n",
      "Text: Me 💃💃💃💃💃💃💃💃💃💃💃💃💃💃💃💃💃💃💃💃💃💃💃💃💃💃💃💃💃💃💃💃🥰🥰🥰🥰🥰🥰🥰🥰🥰🥰🥰🥰🥰🥰🥰🥰🥰🥰🥰🥰🥰🥰🥰🥰🥰🥰🥰🥰🥰🤪🤪🤪🤪🤪🤪🤪🤪🤪🤪🤪🤪🤪🤪🤪🤪🤪🤪😜😜😜😜😜😜😜😜😜😜😜😜🖐️🖐️🖐️🖐️🖐️🖐️🖐️🖐️🖐️🖐️🖐️🖐️🖐️🖐️🖐️🖐️🖐️🖐️🖐️🖐️🖐️💃💃💃💃💃💃💃💃💃💃💃💃💃💃💃💃💃💃💃💃 please\n",
      "-----------------------\n",
      "Tweet ID: 1410492727842779142\n",
      "Text: On s en tape\n",
      "-----------------------\n",
      "Tweet ID: 1410492727834255365\n",
      "Text: Squid 2\n",
      "-----------------------\n",
      "Tweet ID: 1410492727842816008\n",
      "Text: IT'S JUST TOO MUCH FIRE 🔥🔥🔥\n",
      "-----------------------\n",
      "Tweet ID: 1410492732024537092\n",
      "Text: 3 people followed me and 2 people unfollowed me // automatically checked by http\n",
      "-----------------------\n",
      "Tweet ID: 1410492732016152582\n",
      "Text: Can we start a WW3 so I can sell war recipes for pancakes? \n",
      "\n",
      " #quote\n",
      "-----------------------\n",
      "Tweet ID: 1410492732024500225\n",
      "Text: socail make out withme\n",
      "-----------------------\n",
      "Tweet ID: 1410492732045361155\n",
      "Text: your eyes tell\n",
      "-----------------------\n"
     ]
    }
   ],
   "source": [
    "import numpy as np\n",
    "from scipy.special import softmax\n",
    "import json\n",
    "\n",
    "with open(\"tweets.json\", \"r\") as json_file:\n",
    "    json_data = json.load(json_file)\n",
    "\n",
    "tweets_data = json_data\n",
    "\n",
    "# Preprocess text (username and link placeholders)\n",
    "def preprocess(text):\n",
    "    new_text = []\n",
    "    for t in text.split(\" \"):\n",
    "        t = '@user' if t.startswith('@') and len(t) > 1 else t\n",
    "        t = 'http' if t.startswith('http') else t\n",
    "        new_text.append(t)\n",
    "    return \" \".join(new_text)\n",
    "\n",
    "# Set the task and model\n",
    "task = 'offensive'\n",
    "MODEL = f\"cardiffnlp/twitter-roberta-base-{task}\"\n",
    "\n",
    "tokenizer = AutoTokenizer.from_pretrained(MODEL)\n",
    "model = AutoModelForSequenceClassification.from_pretrained(MODEL)\n",
    "\n",
    "tweets = []  # List to store offensive tweets\n",
    "offensive = 0\n",
    "total = 0\n",
    "# Process each tweet and check for offensive content\n",
    "for tweet in tweets_data:\n",
    "    text = preprocess(tweet[\"text\"])\n",
    "    encoded_input = tokenizer(text, return_tensors='pt')\n",
    "    output = model(**encoded_input)\n",
    "    scores = output.logits.softmax(dim=1)\n",
    "    \n",
    "    offensive_prob = scores[0, 1].item()  # Probability of offensive class\n",
    "    \n",
    "    # Check if the tweet contains at least 20% offensive content\n",
    "    if predicted_label == 1:\n",
    "        offensive+= 1\n",
    "        total += 1\n",
    "        tweets.append(tweet)\n",
    "    elif len(tweets) < 100:\n",
    "        total += 1\n",
    "        tweets.append(tweet)\n",
    "    \n",
    "    if len(tweets) >= 100 and offensive/total > 0.25:\n",
    "        break\n",
    "\n",
    "# Print the extracted offensive tweets\n",
    "for tweet in tweets:\n",
    "    print(\"Tweet ID:\", tweet[\"id\"])\n",
    "    print(\"Text:\", tweet[\"text\"])\n",
    "    print(\"-----------------------\")"
   ]
  },
  {
   "cell_type": "code",
   "execution_count": 111,
   "id": "75a3277e",
   "metadata": {},
   "outputs": [],
   "source": [
    "import pandas as pd\n",
    "\n",
    "# Create a DataFrame with offensive tweets\n",
    "df = pd.DataFrame({\"Tweet Text\": [tweet[\"text\"] for tweet in tweets]})\n",
    "\n",
    "# Save the DataFrame to an Excel file\n",
    "df.to_excel(\"selcted_tweets.xlsx\", index=False)"
   ]
  },
  {
   "cell_type": "code",
   "execution_count": 122,
   "id": "6e685197",
   "metadata": {},
   "outputs": [
    {
     "name": "stdout",
     "output_type": "stream",
     "text": [
      "[[1 1]\n",
      " [0 0]\n",
      " [0 0]\n",
      " [0 0]\n",
      " [1 1]\n",
      " [0 0]\n",
      " [0 0]\n",
      " [0 1]\n",
      " [2 0]\n",
      " [0 0]\n",
      " [0 0]\n",
      " [0 0]\n",
      " [0 0]\n",
      " [0 0]\n",
      " [0 0]\n",
      " [0 1]\n",
      " [0 0]\n",
      " [0 0]\n",
      " [0 0]\n",
      " [0 0]\n",
      " [0 0]\n",
      " [0 0]\n",
      " [0 0]\n",
      " [0 1]\n",
      " [0 1]\n",
      " [0 0]\n",
      " [0 0]\n",
      " [0 1]\n",
      " [0 2]\n",
      " [0 1]\n",
      " [0 0]\n",
      " [0 0]\n",
      " [0 0]\n",
      " [0 0]\n",
      " [0 0]\n",
      " [0 0]\n",
      " [0 1]\n",
      " [0 1]\n",
      " [1 0]\n",
      " [0 0]\n",
      " [0 0]\n",
      " [0 0]\n",
      " [1 1]\n",
      " [0 0]\n",
      " [0 0]\n",
      " [0 1]\n",
      " [0 1]\n",
      " [0 1]\n",
      " [0 0]\n",
      " [0 0]\n",
      " [0 1]\n",
      " [0 0]\n",
      " [0 1]\n",
      " [0 0]\n",
      " [0 0]\n",
      " [0 0]\n",
      " [0 0]\n",
      " [0 0]\n",
      " [0 0]\n",
      " [0 0]\n",
      " [0 0]\n",
      " [0 0]\n",
      " [0 0]\n",
      " [0 0]\n",
      " [0 0]\n",
      " [0 0]\n",
      " [0 1]\n",
      " [0 0]\n",
      " [0 0]\n",
      " [1 1]\n",
      " [1 1]\n",
      " [0 0]\n",
      " [1 1]\n",
      " [0 0]\n",
      " [0 0]\n",
      " [0 0]\n",
      " [0 0]\n",
      " [0 0]\n",
      " [0 0]\n",
      " [0 0]\n",
      " [0 0]\n",
      " [0 0]\n",
      " [0 0]\n",
      " [0 0]\n",
      " [0 0]\n",
      " [0 0]\n",
      " [0 0]\n",
      " [0 0]\n",
      " [0 0]\n",
      " [0 0]\n",
      " [0 0]\n",
      " [0 0]\n",
      " [0 1]\n",
      " [0 0]\n",
      " [0 0]\n",
      " [0 0]\n",
      " [0 0]\n",
      " [0 0]\n",
      " [0 0]\n",
      " [0 0]]\n"
     ]
    }
   ],
   "source": [
    "# Load your Excel document into a DataFrame\n",
    "data = pd.read_excel('annotated_tweets.xlsx', sheet_name=None)\n",
    "\n",
    "ratings = []\n",
    "for rater, df in data.items():\n",
    "    rater_ratings = df['Label'].tolist()\n",
    "    ratings.append(rater_ratings)\n",
    "ratings.pop() #Enlever quand Ryan aura mis ses labels\n",
    "ratings = np.array(ratings).transpose()\n",
    "print(ratings)"
   ]
  },
  {
   "cell_type": "code",
   "execution_count": 123,
   "id": "4f95f234",
   "metadata": {},
   "outputs": [
    {
     "data": {
      "text/plain": [
       "0.3017843289371608"
      ]
     },
     "execution_count": 123,
     "metadata": {},
     "output_type": "execute_result"
    }
   ],
   "source": [
    "from statsmodels.stats.inter_rater import fleiss_kappa\n",
    "\n",
    "dats, cats = aggregate_raters(ratings)\n",
    "fleiss_kappa(dats, method='fleiss')"
   ]
  },
  {
   "cell_type": "markdown",
   "id": "8a3451e9",
   "metadata": {},
   "source": [
    "Fleiss' kappa is a statistical measure for assessing the reliability of agreement between a fixed number of raters when assigning categorical ratings to a number of items or classifying items.\n",
    "As we can see the score is pretty low, so the agreement between us is low. We can conclude that we aren't good in anotating the data."
   ]
  }
 ],
 "metadata": {
  "kernelspec": {
   "display_name": "Python 3 (ipykernel)",
   "language": "python",
   "name": "python3"
  },
  "language_info": {
   "codemirror_mode": {
    "name": "ipython",
    "version": 3
   },
   "file_extension": ".py",
   "mimetype": "text/x-python",
   "name": "python",
   "nbconvert_exporter": "python",
   "pygments_lexer": "ipython3",
   "version": "3.9.7"
  }
 },
 "nbformat": 4,
 "nbformat_minor": 5
}
