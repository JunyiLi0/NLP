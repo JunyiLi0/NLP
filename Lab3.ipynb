{
 "cells": [
  {
   "cell_type": "code",
   "execution_count": 1,
   "id": "3c297eb6",
   "metadata": {},
   "outputs": [],
   "source": [
    "import re\n",
    "import matplotlib.pyplot as plt\n",
    "import numpy as np\n",
    "import pandas as pd\n",
    "import seaborn as sns\n",
    "from sklearn.model_selection import train_test_split\n",
    "\n",
    "import torch\n",
    "from torch import nn\n",
    "from vaderSentiment.vaderSentiment import SentimentIntensityAnalyzer\n",
    "\n",
    "from datasets import load_dataset"
   ]
  },
  {
   "cell_type": "code",
   "execution_count": 2,
   "id": "efea2b0a",
   "metadata": {},
   "outputs": [
    {
     "name": "stderr",
     "output_type": "stream",
     "text": [
      "Found cached dataset imdb (C:/Users/junyi/.cache/huggingface/datasets/imdb/plain_text/1.0.0/d613c88cf8fa3bab83b4ded3713f1f74830d1100e171db75bbddb80b3345c9c0)\n"
     ]
    },
    {
     "data": {
      "application/vnd.jupyter.widget-view+json": {
       "model_id": "655c0a30ae9b4defb3076e33b56ea1f1",
       "version_major": 2,
       "version_minor": 0
      },
      "text/plain": [
       "  0%|          | 0/3 [00:00<?, ?it/s]"
      ]
     },
     "metadata": {},
     "output_type": "display_data"
    }
   ],
   "source": [
    "dataset = load_dataset(\"imdb\")"
   ]
  },
  {
   "cell_type": "markdown",
   "id": "d912e8f1",
   "metadata": {},
   "source": [
    "# Features"
   ]
  },
  {
   "cell_type": "code",
   "execution_count": 3,
   "id": "2009f182",
   "metadata": {},
   "outputs": [],
   "source": [
    "import string\n",
    "def process(txt: str) -> str:\n",
    "    \"\"\"\n",
    "    Converts all uppercase letters to lowercase, replaces all punctuation marks with spaces, and returns the processed string.\n",
    "    \"\"\"\n",
    "    \n",
    "    lowercase_txt = txt.lower()\n",
    "    \n",
    "    # create a translation table using maketrans method\n",
    "    replace_punctuation = str.maketrans(string.punctuation, ' '*len(string.punctuation))\n",
    "    \n",
    "    # use the translate method to replace the punctuation\n",
    "    processed_txt = lowercase_txt.translate(replace_punctuation)\n",
    "    return processed_txt"
   ]
  },
  {
   "cell_type": "code",
   "execution_count": 4,
   "id": "465f3469",
   "metadata": {},
   "outputs": [
    {
     "data": {
      "text/plain": [
       "[1, 4, 1, 2.4849066497880004, 1, 1]"
      ]
     },
     "execution_count": 4,
     "metadata": {},
     "output_type": "execute_result"
    }
   ],
   "source": [
    "def generateVectorFeatures(text: str) -> list[int, int, int, float, int, int]:\n",
    "    \"\"\"\n",
    "    Generates a list of features for the given text.\n",
    "\n",
    "    Args:\n",
    "        text (str): The text to extract features from.\n",
    "\n",
    "    Returns:\n",
    "        list: A list of six features extracted from the text, in the following order:\n",
    "              - Whether the text contains the word \"no\" (int, 0 or 1)\n",
    "              - Number of first and second person pronouns (int)\n",
    "              - Whether the text contains an exclamation mark (int, 0 or 1)\n",
    "              - Logarithm of the number of tokens in the text (float)\n",
    "              - Number of positive sentiment words in the text (int)\n",
    "              - Number of negative sentiment words in the text (int)\n",
    "    \"\"\"\n",
    "    \n",
    "    neg, pos = 0, 0\n",
    "    exclamation = int(bool(re.search(r'!', text)))\n",
    "    text = process(text)\n",
    "    tokens = text.split(' ')\n",
    "    no = bool(re.search(r'\\bno+\\b', text))\n",
    "    pronouns = len(re.findall(r'\\b(i|you)\\b', text))\n",
    "    analyzer = SentimentIntensityAnalyzer()\n",
    "    vs = analyzer.lexicon\n",
    "    sentiment_scores = {token: vs.get(token, 0) for token in tokens}\n",
    "    neg = sum(score < -1 for score in sentiment_scores.values())\n",
    "    pos = sum(score > 1 for score in sentiment_scores.values())\n",
    "\n",
    "    return [int(no), pronouns, exclamation, np.log(len(tokens)), pos, neg]\n",
    "    \n",
    "generateVectorFeatures(\"I Ino no you No You!nO You noOO noob kind NoDMInoAWQNFOnc\")"
   ]
  },
  {
   "cell_type": "markdown",
   "id": "25db9512",
   "metadata": {},
   "source": [
    "# Logistic regression classifier"
   ]
  },
  {
   "cell_type": "markdown",
   "id": "49f7c442",
   "metadata": {},
   "source": [
    "### Train, test, and validation split"
   ]
  },
  {
   "cell_type": "code",
   "execution_count": 5,
   "id": "1022b6a8",
   "metadata": {},
   "outputs": [],
   "source": [
    "all_points = list(map(generateVectorFeatures, dataset['train']['text'])) # Generate vector features"
   ]
  },
  {
   "cell_type": "code",
   "execution_count": 6,
   "id": "6513b28a",
   "metadata": {},
   "outputs": [],
   "source": [
    "all_points = torch.tensor(all_points, dtype=torch.float32)\n",
    "labels = torch.tensor(dataset['train']['label'], dtype=torch.float32).reshape(-1, 1)\n",
    "\n",
    "X_test = list(map(generateVectorFeatures, dataset['test']['text']))\n",
    "X_test = torch.tensor(X_test, dtype=torch.float32)\n",
    "y_test = torch.tensor(dataset['test']['label'], dtype=torch.float32).reshape(-1, 1)\n",
    "\n",
    "X_train, X_valid, y_train, y_valid = train_test_split(\n",
    "    all_points,\n",
    "    labels,\n",
    "    test_size=0.2,\n",
    "    stratify=labels,\n",
    "    random_state=42,\n",
    ")"
   ]
  },
  {
   "cell_type": "markdown",
   "id": "c2042bad",
   "metadata": {},
   "source": [
    "### Logistic regression classifier"
   ]
  },
  {
   "cell_type": "code",
   "execution_count": 7,
   "id": "150a6533",
   "metadata": {},
   "outputs": [],
   "source": [
    "class LogisticRegression(nn.Module):\n",
    "    \"\"\"A logistic regression implementation\"\"\"\n",
    "\n",
    "    def __init__(self, input_dim: int, nb_classes: int) -> None:\n",
    "        \"\"\"\n",
    "        Args:\n",
    "            input_dim: the dimension of the input features.\n",
    "            nb_classes: the number of classes to predict.\n",
    "        \"\"\"\n",
    "        super().__init__()\n",
    "        output_layer = nn.Sigmoid() if nb_classes == 1 else nn.Softmax()\n",
    "        self.classifier = torch.nn.Sequential(\n",
    "            nn.Linear(input_dim, nb_classes),\n",
    "            output_layer,\n",
    "        )\n",
    "\n",
    "    def forward(self, x: torch.Tensor) -> torch.Tensor:\n",
    "        \"\"\"\n",
    "        Args:\n",
    "            x: the input tensor.\n",
    "        Returns:\n",
    "            The output of activation function.\n",
    "        \"\"\"\n",
    "        return self.classifier(x)"
   ]
  },
  {
   "cell_type": "markdown",
   "id": "5cff9634",
   "metadata": {},
   "source": [
    "### Training the model\n"
   ]
  },
  {
   "cell_type": "code",
   "execution_count": 8,
   "id": "d50b494b",
   "metadata": {},
   "outputs": [],
   "source": [
    "model = LogisticRegression(6, 1)\n",
    "criterion = nn.BCELoss()  # Binary cross entropy\n",
    "# Stochastic gradient descent\n",
    "optimizer = torch.optim.SGD(model.parameters(), lr=0.01, weight_decay=0.5)"
   ]
  },
  {
   "cell_type": "code",
   "execution_count": 9,
   "id": "11b58c82",
   "metadata": {},
   "outputs": [
    {
     "name": "stdout",
     "output_type": "stream",
     "text": [
      "tensor(0.9985, grad_fn=<BinaryCrossEntropyBackward0>)\n",
      "tensor(0.5707, grad_fn=<BinaryCrossEntropyBackward0>)\n",
      "tensor(0.5696, grad_fn=<BinaryCrossEntropyBackward0>)\n",
      "tensor(0.5702, grad_fn=<BinaryCrossEntropyBackward0>)\n",
      "tensor(0.5705, grad_fn=<BinaryCrossEntropyBackward0>)\n",
      "tensor(0.5707, grad_fn=<BinaryCrossEntropyBackward0>)\n",
      "tensor(0.5709, grad_fn=<BinaryCrossEntropyBackward0>)\n",
      "tensor(0.5709, grad_fn=<BinaryCrossEntropyBackward0>)\n",
      "tensor(0.5710, grad_fn=<BinaryCrossEntropyBackward0>)\n",
      "tensor(0.5710, grad_fn=<BinaryCrossEntropyBackward0>)\n",
      "Wall time: 909 ms\n"
     ]
    }
   ],
   "source": [
    "%%time\n",
    "\n",
    "n_epochs = 1000\n",
    "\n",
    "# Keeping an eye on the losses\n",
    "train_losses = []\n",
    "test_losses = []\n",
    "\n",
    "# Training loop\n",
    "for epoch in range(n_epochs):\n",
    "    # Setting all gradients to zero.\n",
    "    optimizer.zero_grad()\n",
    "\n",
    "    # Sending the whole training set through the model.\n",
    "    predictions = model(X_train)\n",
    "    # Computing the loss.\n",
    "    loss = criterion(predictions, y_train)\n",
    "    train_losses.append(loss.item())\n",
    "    if epoch % 100 == 0:\n",
    "        print(loss)\n",
    "    # Computing the gradients and gradient descent.\n",
    "    loss.backward()\n",
    "    optimizer.step()\n",
    "\n",
    "    # When computing the validation loss, we do not want to update the weights.\n",
    "    # torch.no_grad tells PyTorch to not save the necessary data used for\n",
    "    # gradient descent.\n",
    "    with torch.no_grad():\n",
    "        predictions = model(X_valid)\n",
    "        loss = criterion(predictions, y_valid)\n",
    "        test_losses.append(loss)"
   ]
  },
  {
   "cell_type": "markdown",
   "id": "ae8932e4",
   "metadata": {},
   "source": [
    "### Checking the losses"
   ]
  },
  {
   "cell_type": "code",
   "execution_count": 10,
   "id": "bb069704",
   "metadata": {},
   "outputs": [
    {
     "data": {
      "text/plain": [
       "<matplotlib.legend.Legend at 0x177c0bf8f10>"
      ]
     },
     "execution_count": 10,
     "metadata": {},
     "output_type": "execute_result"
    },
    {
     "data": {
      "image/png": "[encoded data removed]",
      "text/plain": [
       "<Figure size 640x480 with 1 Axes>"
      ]
     },
     "metadata": {},
     "output_type": "display_data"
    }
   ],
   "source": [
    "plt.plot(np.arange(len(train_losses)), train_losses, label=\"Training loss\")\n",
    "plt.plot(np.arange(len(test_losses)), test_losses, label=\"Test loss\")\n",
    "plt.legend()"
   ]
  },
  {
   "cell_type": "markdown",
   "id": "de447793",
   "metadata": {},
   "source": [
    "### Evaluation of accuracy for the training, validation and test set"
   ]
  },
  {
   "cell_type": "code",
   "execution_count": 11,
   "id": "2c8b4358",
   "metadata": {},
   "outputs": [
    {
     "name": "stdout",
     "output_type": "stream",
     "text": [
      "Training set accuracy: 0.71845 Validation set accuracy: 0.7036 Test set accuracy: 0.71692\n"
     ]
    }
   ],
   "source": [
    "# Computing the accuracy for our 3 splits.\n",
    "with torch.no_grad():\n",
    "    p_train = model(X_train)\n",
    "    p_train = np.round(p_train.numpy())\n",
    "    training_accuracy = np.mean(p_train == y_train.numpy())\n",
    "    p_valid = model(X_valid)\n",
    "    p_valid = np.round(p_valid.numpy())\n",
    "    valid_accuracy = np.mean(p_valid == y_valid.numpy())\n",
    "    p_test = model(X_test)\n",
    "    p_test = np.round(p_test.numpy())\n",
    "    test_accuracy = np.mean(p_test == y_test.numpy())\n",
    "print('Training set accuracy:', training_accuracy,\n",
    "      'Validation set accuracy:', valid_accuracy, 'Test set accuracy:', test_accuracy)"
   ]
  },
  {
   "cell_type": "markdown",
   "id": "d4b2f521",
   "metadata": {},
   "source": [
    "Training set accuracy: 0.71845\n",
    "\n",
    "Validation set accuracy: 0.7036 \n",
    "\n",
    "Test set accuracy: 0.71692"
   ]
  },
  {
   "cell_type": "markdown",
   "id": "5db53ebd",
   "metadata": {},
   "source": [
    "### Weight analysis"
   ]
  },
  {
   "cell_type": "code",
   "execution_count": 15,
   "id": "dfba1f2e",
   "metadata": {},
   "outputs": [
    {
     "data": {
      "text/plain": [
       "tensor([[-0.0337, -0.0450, -0.0096, -0.0271,  0.1671, -0.1827]])"
      ]
     },
     "execution_count": 15,
     "metadata": {},
     "output_type": "execute_result"
    }
   ],
   "source": [
    "model.classifier[0].state_dict()[\"weight\"]"
   ]
  },
  {
   "cell_type": "markdown",
   "id": "5ece292a",
   "metadata": {},
   "source": [
    "What seems to impact the most are the number of words which are in the positive and negative lexicons."
   ]
  },
  {
   "cell_type": "markdown",
   "id": "debcfa32",
   "metadata": {},
   "source": [
    "### 2 wrongly classified samples"
   ]
  },
  {
   "cell_type": "code",
   "execution_count": 16,
   "id": "7cac2290",
   "metadata": {
    "scrolled": true
   },
   "outputs": [
    {
     "name": "stdout",
     "output_type": "stream",
     "text": [
      "First off let me say, If you haven't enjoyed a Van Damme movie since bloodsport, you probably will not like this movie. Most of these movies may not have the best plots or best actors but I enjoy these kinds of movies for what they are. This movie is much better than any of the movies the other action guys (Segal and Dolph) have thought about putting out the past few years. Van Damme is good in the movie, the movie is only worth watching to Van Damme fans. It is not as good as Wake of Death (which i highly recommend to anyone of likes Van Damme) or In hell but, in my opinion it's worth watching. It has the same type of feel to it as Nowhere to Run. Good fun stuff!\n",
      "Vector features: [0, 4, 1, 5.017279836814924, 9, 2]\n",
      "0 [1.]\n",
      "Isaac Florentine has made some of the best western Martial Arts action movies ever produced. In particular US Seals 2, Cold Harvest, Special Forces and Undisputed 2 are all action classics. You can tell Isaac has a real passion for the genre and his films are always eventful, creative and sharp affairs, with some of the best fight sequences an action fan could hope for. In particular he has found a muse with Scott Adkins, as talented an actor and action performer as you could hope for. This is borne out with Special Forces and Undisputed 2, but unfortunately The Shepherd just doesn't live up to their abilities.<br /><br />There is no doubt that JCVD looks better here fight-wise than he has done in years, especially in the fight he has (for pretty much no reason) in a prison cell, and in the final showdown with Scott, but look in his eyes. JCVD seems to be dead inside. There's nothing in his eyes at all. It's like he just doesn't care about anything throughout the whole film. And this is the leading man.<br /><br />There are other dodgy aspects to the film, script-wise and visually, but the main problem is that you are utterly unable to empathise with the hero of the film. A genuine shame as I know we all wanted this film to be as special as it genuinely could have been. There are some good bits, mostly the action scenes themselves. This film had a terrific director and action choreographer, and an awesome opponent for JCVD to face down. This could have been the one to bring the veteran action star back up to scratch in the balls-out action movie stakes.<br /><br />Sincerely a shame that this didn't happen.\n",
      "Vector features: [1, 4, 0, 5.855071922202427, 17, 8]\n",
      "0 [1.]\n"
     ]
    }
   ],
   "source": [
    "predicted_labels = p_test\n",
    "count = 0\n",
    "examples = ['','']\n",
    "labels = [-1, -1]\n",
    "true_labels = [-1, -1]\n",
    "for i in range(len(dataset['test']['label'])):\n",
    "    if count == 2:\n",
    "        break\n",
    "    if predicted_labels[i] != dataset['test']['label'][i]:\n",
    "        examples[count] = dataset['test']['text'][i]\n",
    "        labels[count] = predicted_labels[i]\n",
    "        true_labels[count] = dataset['test']['label'][i]\n",
    "        count += 1;\n",
    "print(examples[0])\n",
    "print('Vector features:', generateVectorFeatures(examples[0]))\n",
    "print(true_labels[0], labels[0])\n",
    "\n",
    "print(examples[1])\n",
    "print('Vector features:', generateVectorFeatures(examples[1]))\n",
    "print(true_labels[1], labels[1])"
   ]
  },
  {
   "cell_type": "markdown",
   "id": "4e48a766",
   "metadata": {},
   "source": [
    "The model was wrong because there are much more positive words than negatives words in those samples."
   ]
  },
  {
   "cell_type": "code",
   "execution_count": null,
   "id": "6accb406",
   "metadata": {},
   "outputs": [],
   "source": []
  }
 ],
 "metadata": {
  "kernelspec": {
   "display_name": "Python 3 (ipykernel)",
   "language": "python",
   "name": "python3"
  },
  "language_info": {
   "codemirror_mode": {
    "name": "ipython",
    "version": 3
   },
   "file_extension": ".py",
   "mimetype": "text/x-python",
   "name": "python",
   "nbconvert_exporter": "python",
   "pygments_lexer": "ipython3",
   "version": "3.9.13"
  }
 },
 "nbformat": 4,
 "nbformat_minor": 5
}
